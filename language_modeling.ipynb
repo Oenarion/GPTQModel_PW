{
 "cells": [
  {
   "cell_type": "code",
   "execution_count": 1,
   "metadata": {},
   "outputs": [],
   "source": [
    "import torch\n",
    "import time\n",
    "from datasets import load_dataset\n",
    "from transformers import AutoTokenizer\n",
    "from gptqmodel import GPTQModel, QuantizeConfig\n",
    "from gptqmodel.utils import Perplexity\n",
    "import matplotlib.pyplot as plt\n",
    "import numpy as np\n",
    "import gc"
   ]
  },
  {
   "cell_type": "code",
   "execution_count": 3,
   "metadata": {},
   "outputs": [
    {
     "data": {
      "application/vnd.jupyter.widget-view+json": {
       "model_id": "780a09185ee84deea464857b6a3ea39d",
       "version_major": 2,
       "version_minor": 0
      },
      "text/plain": [
       "VBox(children=(HTML(value='<center> <img\\nsrc=https://huggingface.co/front/assets/huggingface_logo-noborder.sv…"
      ]
     },
     "metadata": {},
     "output_type": "display_data"
    }
   ],
   "source": [
    "from huggingface_hub import login\n",
    "login()"
   ]
  },
  {
   "cell_type": "code",
   "execution_count": 4,
   "metadata": {},
   "outputs": [
    {
     "name": "stdout",
     "output_type": "stream",
     "text": [
      "CUDA Available: True\n",
      "CUDA Version: 12.1\n",
      "Device Name: NVIDIA GeForce RTX 3050 Ti Laptop GPU\n"
     ]
    }
   ],
   "source": [
    "import torch\n",
    "\n",
    "# Check if CUDA is available\n",
    "cuda_available = torch.cuda.is_available()\n",
    "print(f\"CUDA Available: {cuda_available}\")\n",
    "\n",
    "# If available, print the CUDA version\n",
    "if cuda_available:\n",
    "    print(f\"CUDA Version: {torch.version.cuda}\")\n",
    "\n",
    "# Print the device name\n",
    "device_name = torch.cuda.get_device_name(0) if cuda_available else \"No CUDA device found\"\n",
    "print(f\"Device Name: {device_name}\")\n"
   ]
  },
  {
   "cell_type": "code",
   "execution_count": null,
   "metadata": {},
   "outputs": [],
   "source": [
    "from datasets import load_dataset\n",
    "from transformers import AutoTokenizer\n",
    "from gptqmodel import GPTQModel, QuantizeConfig\n",
    "\n",
    "model_id = \"meta-llama/Llama-3.2-1B-Instruct\"\n",
    "quant_path = \"Llama-3.2-1B-Instruct-gptqmodel-4bit\"\n",
    "\n",
    "tokenizer = AutoTokenizer.from_pretrained(model_id)\n",
    "\n",
    "print(\"LOADING DATASET\")\n",
    "calibration_dataset = [\n",
    "  tokenizer(example[\"text\"])\n",
    "  for example in load_dataset(\n",
    "    \"allenai/c4\",\n",
    "    data_files=\"en/c4-train.00001-of-01024.json.gz\",\n",
    "    split=\"train\"\n",
    "  ).select(range(1024))\n",
    "]\n",
    "print(\"DATASET LOADED\")\n",
    "\n",
    "calibration_dataset = calibration_dataset[:10]\n",
    "\n",
    "## choose number of bits for quantization\n",
    "quant_config = QuantizeConfig(bits=4, group_size=128)\n",
    "\n",
    "print(\"LOADING MODEL\")\n",
    "model = GPTQModel.load(model_id, quant_config)\n",
    "print(\"MODEL LOADED\")\n",
    "\n",
    "print(\"QUANTIZING...\")\n",
    "model.quantize(calibration_dataset,  backend=\"cpu\")\n",
    "\n",
    "print(\"SAVING...\")\n",
    "model.save(quant_path)\n",
    "\n",
    "print(\"LOADING...\")\n",
    "model = GPTQModel.load(quant_path)\n",
    "\n",
    "result = model.generate(\n",
    "  **tokenizer(\n",
    "      \"Uncovering deep insights begins with\", return_tensors=\"pt\"\n",
    "  ).to(model.device)\n",
    ")[0]"
   ]
  },
  {
   "cell_type": "code",
   "execution_count": 4,
   "metadata": {},
   "outputs": [
    {
     "name": "stdout",
     "output_type": "stream",
     "text": [
      "LOADING...\n"
     ]
    },
    {
     "name": "stderr",
     "output_type": "stream",
     "text": [
      "INFO - Compatibility: converting `checkpoint_format` from `gptq` to `gptq_v2`.\n",
      "Setting `pad_token_id` to `eos_token_id`:128001 for open-end generation.\n"
     ]
    }
   ],
   "source": [
    "quant_path = \"Llama-3.2-1B-Instruct-gptqmodel-4bit\"\n",
    "\n",
    "print(\"LOADING...\")\n",
    "model = GPTQModel.load(quant_path)\n",
    "model_id = \"meta-llama/Llama-3.2-1B-Instruct\"\n",
    "tokenizer = AutoTokenizer.from_pretrained(model_id)\n",
    "\n",
    "result = model.generate(\n",
    "  **tokenizer(\n",
    "      \"Uncovering deep insights begins with\", return_tensors=\"pt\"\n",
    "  ).to(model.device)\n",
    ")[0]"
   ]
  },
  {
   "cell_type": "code",
   "execution_count": null,
   "metadata": {},
   "outputs": [],
   "source": [
    "from datasets import load_dataset\n",
    "from transformers import AutoTokenizer\n",
    "from gptqmodel import GPTQModel, QuantizeConfig\n",
    "\n",
    "def get_wikitext2(tokenizer, nsamples, seqlen):\n",
    "    traindata = load_dataset(\"wikitext\", \"wikitext-2-raw-v1\", split=\"train\").filter(\n",
    "        lambda x: len(x[\"text\"]) >= seqlen)\n",
    "\n",
    "    return [tokenizer(example[\"text\"]) for example in traindata.select(range(nsamples))]\n",
    "\n",
    "\n",
    "\n",
    "model_id = \"meta-llama/Llama-3.2-1B-Instruct\"\n",
    "quant_path = \"Llama-3.2-1B-Instruct-gptqmodel-4bit\"\n",
    "\n",
    "tokenizer = AutoTokenizer.from_pretrained(model_id)\n",
    "\n",
    "# Load the wikitext dataset\n",
    "print(\"LOADING DATASET\")\n",
    "traindataset = get_wikitext2(tokenizer, nsamples=256, seqlen=1024)\n",
    "print(\"DATASET LOADED\")\n",
    "\n",
    "# Choose number of bits for quantization\n",
    "quant_config = QuantizeConfig(bits=4, group_size=128)\n",
    "\n",
    "print(\"LOADING MODEL\")\n",
    "model = GPTQModel.load(model_id, quant_config)\n",
    "print(\"MODEL LOADED\")\n",
    "\n",
    "print(\"QUANTIZING...\")\n",
    "model.quantize(traindataset)\n",
    "\n",
    "print(\"SAVING...\")\n",
    "model.save(quant_path)\n",
    "\n",
    "print(\"LOADING...\")\n",
    "model = GPTQModel.load(quant_path)\n",
    "\n",
    "result = model.generate(\n",
    "  **tokenizer(\n",
    "      \"Uncovering deep insights begins with\", return_tensors=\"pt\"\n",
    "  ).to(model.device)\n",
    ")[0]\n"
   ]
  },
  {
   "cell_type": "code",
   "execution_count": 5,
   "metadata": {},
   "outputs": [],
   "source": [
    "# Function to calculate Perplexity (PPL)\n",
    "@torch.no_grad()\n",
    "def calculate_avg_ppl(model, tokenizer, dataset_path=\"wikitext\", dataset_name=\"wikitext-2-raw-v1\", split=\"train\"):\n",
    "    ppl = Perplexity(\n",
    "        model=model,\n",
    "        tokenizer=tokenizer,\n",
    "        dataset_path=dataset_path,\n",
    "        dataset_name=dataset_name,\n",
    "        split=split,\n",
    "        text_column=\"text\",\n",
    "    )\n",
    "\n",
    "    all = ppl.calculate(n_ctx=512, n_batch=512)\n",
    "\n",
    "    # Average Perplexity\n",
    "    avg = sum(all) / len(all)\n",
    "\n",
    "    return avg\n",
    "\n",
    "\n",
    "# Function to load and process the wikitext dataset\n",
    "def get_wikitext2(tokenizer, nsamples, seqlen):\n",
    "    traindata = load_dataset(\"wikitext\", \"wikitext-2-raw-v1\", split=\"train\").filter(\n",
    "        lambda x: len(x[\"text\"]) >= seqlen)\n",
    "\n",
    "    return [tokenizer(example[\"text\"]) for example in traindata.select(range(nsamples))]"
   ]
  },
  {
   "cell_type": "code",
   "execution_count": 6,
   "metadata": {},
   "outputs": [],
   "source": [
    "def quantize_model(dataset, quant_path, model_id, num_bits, group_size = 128):\n",
    "    quant_config = QuantizeConfig(bits=num_bits, group_size=group_size)\n",
    "    model = GPTQModel.load(model_id, quant_config)\n",
    "    print(f\"QUANTIZING WITH {num_bits} bits and group size of {group_size} \")\n",
    "    model.quantize(dataset)\n",
    "    print(\"SAVING MODEL\")\n",
    "    model.save(quant_path)\n",
    "\n",
    "def quantize_for_all_bits_precision(dataset, model_id, group_size = 128):\n",
    "    for num_bits in [2, 3, 4, 8]:\n",
    "        quant_path = f\"Llama-3.2-1B-Instruct-gptqmodel-{num_bits}bit-{group_size}gs\"\n",
    "        quantize_model(dataset, quant_path, model_id, num_bits, group_size = group_size)"
   ]
  },
  {
   "cell_type": "code",
   "execution_count": 39,
   "metadata": {},
   "outputs": [
    {
     "name": "stdout",
     "output_type": "stream",
     "text": [
      "LOADING DATASET\n",
      "DATASET LOADED\n"
     ]
    },
    {
     "name": "stderr",
     "output_type": "stream",
     "text": [
      "WARNING - Model config does not have pad token mapped. Please pass in tokenizer to `quantize()` so GPTQModel can auto-select the best pad token.\n"
     ]
    },
    {
     "name": "stdout",
     "output_type": "stream",
     "text": [
      "QUANTIZING WITH 4 bits and group size of 128 \n",
      "  |██--------------------------------------| 0:00:00 / 0:00:00 [1/16] 6.2%"
     ]
    },
    {
     "name": "stderr",
     "output_type": "stream",
     "text": [
      "INFO - {'layer': 0, 'module': 'self_attn.k_proj', 'loss': '0.62014', 'damp': '0.01000', 'time': '1.384'}\n",
      "INFO - {'layer': 0, 'module': 'self_attn.v_proj', 'loss': '0.01660', 'damp': '0.01000', 'time': '1.370'}\n",
      "INFO - {'layer': 0, 'module': 'self_attn.q_proj', 'loss': '1.27480', 'damp': '0.01000', 'time': '1.234'}\n",
      "INFO - {'layer': 0, 'module': 'self_attn.o_proj', 'loss': '0.00164', 'damp': '0.01000', 'time': '1.051'}\n",
      "INFO - {'layer': 0, 'module': 'mlp.up_proj', 'loss': '1.13989', 'damp': '0.01000', 'time': '1.122'}\n",
      "INFO - {'layer': 0, 'module': 'mlp.gate_proj', 'loss': '1.43341', 'damp': '0.01000', 'time': '1.100'}\n",
      "INFO - {'layer': 0, 'module': 'mlp.down_proj', 'loss': '0.00756', 'damp': '0.01000', 'time': '4.789'}\n"
     ]
    },
    {
     "name": "stdout",
     "output_type": "stream",
     "text": [
      " Quantizing mlp.down_proj in layer 0 of 15 |█████-----------------------------------| 0:01:56 / 0:15:28 [2/16] 12.5%"
     ]
    },
    {
     "name": "stderr",
     "output_type": "stream",
     "text": [
      "INFO - {'layer': 1, 'module': 'self_attn.k_proj', 'loss': '1.05103', 'damp': '0.01000', 'time': '1.004'}\n",
      "INFO - {'layer': 1, 'module': 'self_attn.v_proj', 'loss': '0.06223', 'damp': '0.01000', 'time': '1.141'}\n",
      "INFO - {'layer': 1, 'module': 'self_attn.q_proj', 'loss': '2.02254', 'damp': '0.01000', 'time': '1.197'}\n",
      "INFO - {'layer': 1, 'module': 'self_attn.o_proj', 'loss': '0.00474', 'damp': '0.01000', 'time': '1.046'}\n",
      "INFO - {'layer': 1, 'module': 'mlp.up_proj', 'loss': '1.67089', 'damp': '0.01000', 'time': '1.072'}\n",
      "INFO - {'layer': 1, 'module': 'mlp.gate_proj', 'loss': '2.28826', 'damp': '0.01000', 'time': '1.074'}\n",
      "INFO - {'layer': 1, 'module': 'mlp.down_proj', 'loss': '5.47714', 'damp': '0.01000', 'time': '4.606'}\n"
     ]
    },
    {
     "name": "stdout",
     "output_type": "stream",
     "text": [
      " Quantizing mlp.down_proj in layer 1 of 15 |███████---------------------------------| 0:03:54 / 0:20:48 [3/16] 18.8%"
     ]
    },
    {
     "name": "stderr",
     "output_type": "stream",
     "text": [
      "INFO - {'layer': 2, 'module': 'self_attn.k_proj', 'loss': '2.13145', 'damp': '0.01000', 'time': '0.951'}\n",
      "INFO - {'layer': 2, 'module': 'self_attn.v_proj', 'loss': '0.14697', 'damp': '0.01000', 'time': '1.145'}\n",
      "INFO - {'layer': 2, 'module': 'self_attn.q_proj', 'loss': '4.06626', 'damp': '0.01000', 'time': '1.424'}\n",
      "INFO - {'layer': 2, 'module': 'self_attn.o_proj', 'loss': '0.00621', 'damp': '0.01000', 'time': '1.000'}\n",
      "INFO - {'layer': 2, 'module': 'mlp.up_proj', 'loss': '2.17195', 'damp': '0.01000', 'time': '1.026'}\n",
      "INFO - {'layer': 2, 'module': 'mlp.gate_proj', 'loss': '3.43811', 'damp': '0.01000', 'time': '0.980'}\n",
      "INFO - {'layer': 2, 'module': 'mlp.down_proj', 'loss': '0.02579', 'damp': '0.01000', 'time': '4.556'}\n"
     ]
    },
    {
     "name": "stdout",
     "output_type": "stream",
     "text": [
      " Quantizing mlp.down_proj in layer 2 of 15 |██████████------------------------------| 0:05:57 / 0:23:48 [4/16] 25.0%"
     ]
    },
    {
     "name": "stderr",
     "output_type": "stream",
     "text": [
      "INFO - {'layer': 3, 'module': 'self_attn.k_proj', 'loss': '1.39290', 'damp': '0.01000', 'time': '1.059'}\n",
      "INFO - {'layer': 3, 'module': 'self_attn.v_proj', 'loss': '0.18991', 'damp': '0.01000', 'time': '1.068'}\n",
      "INFO - {'layer': 3, 'module': 'self_attn.q_proj', 'loss': '3.04391', 'damp': '0.01000', 'time': '1.220'}\n",
      "INFO - {'layer': 3, 'module': 'self_attn.o_proj', 'loss': '0.01221', 'damp': '0.01000', 'time': '1.026'}\n",
      "INFO - {'layer': 3, 'module': 'mlp.up_proj', 'loss': '2.57169', 'damp': '0.01000', 'time': '1.065'}\n",
      "INFO - {'layer': 3, 'module': 'mlp.gate_proj', 'loss': '5.09807', 'damp': '0.01000', 'time': '1.125'}\n",
      "INFO - {'layer': 3, 'module': 'mlp.down_proj', 'loss': '0.03694', 'damp': '0.01000', 'time': '4.737'}\n"
     ]
    },
    {
     "name": "stdout",
     "output_type": "stream",
     "text": [
      " Quantizing mlp.down_proj in layer 3 of 15 |████████████----------------------------| 0:07:55 / 0:25:20 [5/16] 31.2%"
     ]
    },
    {
     "name": "stderr",
     "output_type": "stream",
     "text": [
      "INFO - {'layer': 4, 'module': 'self_attn.k_proj', 'loss': '1.42607', 'damp': '0.01000', 'time': '0.969'}\n",
      "INFO - {'layer': 4, 'module': 'self_attn.v_proj', 'loss': '0.17019', 'damp': '0.01000', 'time': '0.984'}\n",
      "INFO - {'layer': 4, 'module': 'self_attn.q_proj', 'loss': '2.95491', 'damp': '0.01000', 'time': '1.003'}\n",
      "INFO - {'layer': 4, 'module': 'self_attn.o_proj', 'loss': '0.01923', 'damp': '0.01000', 'time': '1.038'}\n",
      "INFO - {'layer': 4, 'module': 'mlp.up_proj', 'loss': '2.50548', 'damp': '0.01000', 'time': '0.980'}\n",
      "INFO - {'layer': 4, 'module': 'mlp.gate_proj', 'loss': '5.38534', 'damp': '0.01000', 'time': '0.967'}\n",
      "INFO - {'layer': 4, 'module': 'mlp.down_proj', 'loss': '0.04074', 'damp': '0.01000', 'time': '4.251'}\n"
     ]
    },
    {
     "name": "stdout",
     "output_type": "stream",
     "text": [
      " Quantizing mlp.down_proj in layer 4 of 15 |███████████████-------------------------| 0:09:50 / 0:26:13 [6/16] 37.5%"
     ]
    },
    {
     "name": "stderr",
     "output_type": "stream",
     "text": [
      "INFO - {'layer': 5, 'module': 'self_attn.k_proj', 'loss': '2.17936', 'damp': '0.01000', 'time': '1.163'}\n",
      "INFO - {'layer': 5, 'module': 'self_attn.v_proj', 'loss': '0.14247', 'damp': '0.01000', 'time': '1.247'}\n",
      "INFO - {'layer': 5, 'module': 'self_attn.q_proj', 'loss': '3.71173', 'damp': '0.01000', 'time': '1.231'}\n",
      "INFO - {'layer': 5, 'module': 'self_attn.o_proj', 'loss': '0.01942', 'damp': '0.01000', 'time': '1.094'}\n",
      "INFO - {'layer': 5, 'module': 'mlp.up_proj', 'loss': '2.64294', 'damp': '0.01000', 'time': '1.057'}\n",
      "INFO - {'layer': 5, 'module': 'mlp.gate_proj', 'loss': '4.85856', 'damp': '0.01000', 'time': '1.181'}\n",
      "INFO - {'layer': 5, 'module': 'mlp.down_proj', 'loss': '0.04861', 'damp': '0.01000', 'time': '4.802'}\n"
     ]
    },
    {
     "name": "stdout",
     "output_type": "stream",
     "text": [
      " Quantizing mlp.down_proj in layer 5 of 15 |█████████████████-----------------------| 0:11:50 / 0:27:02 [7/16] 43.8%"
     ]
    },
    {
     "name": "stderr",
     "output_type": "stream",
     "text": [
      "INFO - {'layer': 6, 'module': 'self_attn.k_proj', 'loss': '1.64679', 'damp': '0.01000', 'time': '1.000'}\n",
      "INFO - {'layer': 6, 'module': 'self_attn.v_proj', 'loss': '0.18011', 'damp': '0.01000', 'time': '1.019'}\n",
      "INFO - {'layer': 6, 'module': 'self_attn.q_proj', 'loss': '2.62159', 'damp': '0.01000', 'time': '1.126'}\n",
      "INFO - {'layer': 6, 'module': 'self_attn.o_proj', 'loss': '0.03072', 'damp': '0.01000', 'time': '0.978'}\n",
      "INFO - {'layer': 6, 'module': 'mlp.up_proj', 'loss': '2.65523', 'damp': '0.01000', 'time': '1.109'}\n",
      "INFO - {'layer': 6, 'module': 'mlp.gate_proj', 'loss': '4.75024', 'damp': '0.01000', 'time': '1.226'}\n",
      "INFO - {'layer': 6, 'module': 'mlp.down_proj', 'loss': '0.04964', 'damp': '0.01000', 'time': '4.396'}\n"
     ]
    },
    {
     "name": "stdout",
     "output_type": "stream",
     "text": [
      " Quantizing mlp.down_proj in layer 6 of 15 |████████████████████--------------------| 0:13:45 / 0:27:30 [8/16] 50.0%"
     ]
    },
    {
     "name": "stderr",
     "output_type": "stream",
     "text": [
      "INFO - {'layer': 7, 'module': 'self_attn.k_proj', 'loss': '1.61762', 'damp': '0.01000', 'time': '0.921'}\n",
      "INFO - {'layer': 7, 'module': 'self_attn.v_proj', 'loss': '0.20405', 'damp': '0.01000', 'time': '0.935'}\n",
      "INFO - {'layer': 7, 'module': 'self_attn.q_proj', 'loss': '3.05333', 'damp': '0.01000', 'time': '1.052'}\n",
      "INFO - {'layer': 7, 'module': 'self_attn.o_proj', 'loss': '0.02708', 'damp': '0.01000', 'time': '0.942'}\n",
      "INFO - {'layer': 7, 'module': 'mlp.up_proj', 'loss': '2.69283', 'damp': '0.01000', 'time': '0.958'}\n",
      "INFO - {'layer': 7, 'module': 'mlp.gate_proj', 'loss': '4.34144', 'damp': '0.01000', 'time': '1.120'}\n",
      "INFO - {'layer': 7, 'module': 'mlp.down_proj', 'loss': '0.05376', 'damp': '0.01000', 'time': '4.322'}\n"
     ]
    },
    {
     "name": "stdout",
     "output_type": "stream",
     "text": [
      " Quantizing mlp.down_proj in layer 7 of 15 |██████████████████████------------------| 0:15:39 / 0:27:49 [9/16] 56.2%"
     ]
    },
    {
     "name": "stderr",
     "output_type": "stream",
     "text": [
      "INFO - {'layer': 8, 'module': 'self_attn.k_proj', 'loss': '1.89474', 'damp': '0.01000', 'time': '0.920'}\n",
      "INFO - {'layer': 8, 'module': 'self_attn.v_proj', 'loss': '0.19292', 'damp': '0.01000', 'time': '1.009'}\n",
      "INFO - {'layer': 8, 'module': 'self_attn.q_proj', 'loss': '3.12245', 'damp': '0.01000', 'time': '1.110'}\n",
      "INFO - {'layer': 8, 'module': 'self_attn.o_proj', 'loss': '0.03453', 'damp': '0.01000', 'time': '0.929'}\n",
      "INFO - {'layer': 8, 'module': 'mlp.up_proj', 'loss': '2.95268', 'damp': '0.01000', 'time': '1.095'}\n",
      "INFO - {'layer': 8, 'module': 'mlp.gate_proj', 'loss': '4.62903', 'damp': '0.01000', 'time': '1.103'}\n",
      "INFO - {'layer': 8, 'module': 'mlp.down_proj', 'loss': '0.07173', 'damp': '0.01000', 'time': '4.173'}\n"
     ]
    },
    {
     "name": "stdout",
     "output_type": "stream",
     "text": [
      " Quantizing mlp.down_proj in layer 8 of 15 |█████████████████████████---------------| 0:17:33 / 0:28:04 [10/16] 62.5%"
     ]
    },
    {
     "name": "stderr",
     "output_type": "stream",
     "text": [
      "INFO - {'layer': 9, 'module': 'self_attn.k_proj', 'loss': '1.53122', 'damp': '0.01000', 'time': '0.899'}\n",
      "INFO - {'layer': 9, 'module': 'self_attn.v_proj', 'loss': '0.23447', 'damp': '0.01000', 'time': '0.926'}\n",
      "INFO - {'layer': 9, 'module': 'self_attn.q_proj', 'loss': '3.73604', 'damp': '0.01000', 'time': '1.153'}\n",
      "INFO - {'layer': 9, 'module': 'self_attn.o_proj', 'loss': '0.04613', 'damp': '0.01000', 'time': '0.981'}\n",
      "INFO - {'layer': 9, 'module': 'mlp.up_proj', 'loss': '3.08657', 'damp': '0.01000', 'time': '0.962'}\n",
      "INFO - {'layer': 9, 'module': 'mlp.gate_proj', 'loss': '5.01843', 'damp': '0.01000', 'time': '1.067'}\n",
      "INFO - {'layer': 9, 'module': 'mlp.down_proj', 'loss': '0.08492', 'damp': '0.01000', 'time': '4.239'}\n"
     ]
    },
    {
     "name": "stdout",
     "output_type": "stream",
     "text": [
      " Quantizing mlp.down_proj in layer 9 of 15 |███████████████████████████-------------| 0:19:26 / 0:28:16 [11/16] 68.8%"
     ]
    },
    {
     "name": "stderr",
     "output_type": "stream",
     "text": [
      "INFO - {'layer': 10, 'module': 'self_attn.k_proj', 'loss': '1.83477', 'damp': '0.01000', 'time': '0.902'}\n",
      "INFO - {'layer': 10, 'module': 'self_attn.v_proj', 'loss': '0.25994', 'damp': '0.01000', 'time': '0.931'}\n",
      "INFO - {'layer': 10, 'module': 'self_attn.q_proj', 'loss': '3.84458', 'damp': '0.01000', 'time': '1.154'}\n",
      "INFO - {'layer': 10, 'module': 'self_attn.o_proj', 'loss': '0.03127', 'damp': '0.01000', 'time': '0.911'}\n",
      "INFO - {'layer': 10, 'module': 'mlp.up_proj', 'loss': '3.71283', 'damp': '0.01000', 'time': '0.979'}\n",
      "INFO - {'layer': 10, 'module': 'mlp.gate_proj', 'loss': '5.81468', 'damp': '0.01000', 'time': '1.033'}\n",
      "INFO - {'layer': 10, 'module': 'mlp.down_proj', 'loss': '0.11023', 'damp': '0.01000', 'time': '4.200'}\n"
     ]
    },
    {
     "name": "stdout",
     "output_type": "stream",
     "text": [
      " Quantizing mlp.down_proj in layer 10 of 15 |██████████████████████████████----------| 0:21:19 / 0:28:25 [12/16] 75.0%"
     ]
    },
    {
     "name": "stderr",
     "output_type": "stream",
     "text": [
      "INFO - {'layer': 11, 'module': 'self_attn.k_proj', 'loss': '2.29956', 'damp': '0.01000', 'time': '0.898'}\n",
      "INFO - {'layer': 11, 'module': 'self_attn.v_proj', 'loss': '0.27798', 'damp': '0.01000', 'time': '0.889'}\n",
      "INFO - {'layer': 11, 'module': 'self_attn.q_proj', 'loss': '3.92013', 'damp': '0.01000', 'time': '1.041'}\n",
      "INFO - {'layer': 11, 'module': 'self_attn.o_proj', 'loss': '0.02644', 'damp': '0.01000', 'time': '0.902'}\n",
      "INFO - {'layer': 11, 'module': 'mlp.up_proj', 'loss': '4.22150', 'damp': '0.01000', 'time': '0.960'}\n",
      "INFO - {'layer': 11, 'module': 'mlp.gate_proj', 'loss': '6.47687', 'damp': '0.01000', 'time': '1.191'}\n",
      "INFO - {'layer': 11, 'module': 'mlp.down_proj', 'loss': '0.12065', 'damp': '0.01000', 'time': '4.458'}\n"
     ]
    },
    {
     "name": "stdout",
     "output_type": "stream",
     "text": [
      " Quantizing mlp.down_proj in layer 11 of 15 |████████████████████████████████--------| 0:23:12 / 0:28:33 [13/16] 81.2%"
     ]
    },
    {
     "name": "stderr",
     "output_type": "stream",
     "text": [
      "INFO - {'layer': 12, 'module': 'self_attn.k_proj', 'loss': '2.36638', 'damp': '0.01000', 'time': '0.860'}\n",
      "INFO - {'layer': 12, 'module': 'self_attn.v_proj', 'loss': '0.28494', 'damp': '0.01000', 'time': '0.873'}\n",
      "INFO - {'layer': 12, 'module': 'self_attn.q_proj', 'loss': '3.97809', 'damp': '0.01000', 'time': '1.063'}\n",
      "INFO - {'layer': 12, 'module': 'self_attn.o_proj', 'loss': '0.02573', 'damp': '0.01000', 'time': '0.868'}\n",
      "INFO - {'layer': 12, 'module': 'mlp.up_proj', 'loss': '4.40740', 'damp': '0.01000', 'time': '0.898'}\n",
      "INFO - {'layer': 12, 'module': 'mlp.gate_proj', 'loss': '6.40871', 'damp': '0.01000', 'time': '1.070'}\n",
      "INFO - {'layer': 12, 'module': 'mlp.down_proj', 'loss': '0.13805', 'damp': '0.01000', 'time': '3.996'}\n"
     ]
    },
    {
     "name": "stdout",
     "output_type": "stream",
     "text": [
      " Quantizing mlp.down_proj in layer 12 of 15 |███████████████████████████████████-----| 0:25:04 / 0:28:38 [14/16] 87.5%"
     ]
    },
    {
     "name": "stderr",
     "output_type": "stream",
     "text": [
      "INFO - {'layer': 13, 'module': 'self_attn.k_proj', 'loss': '2.33875', 'damp': '0.01000', 'time': '0.867'}\n",
      "INFO - {'layer': 13, 'module': 'self_attn.v_proj', 'loss': '0.47960', 'damp': '0.01000', 'time': '0.873'}\n",
      "INFO - {'layer': 13, 'module': 'self_attn.q_proj', 'loss': '4.59054', 'damp': '0.01000', 'time': '1.036'}\n",
      "INFO - {'layer': 13, 'module': 'self_attn.o_proj', 'loss': '0.03183', 'damp': '0.01000', 'time': '0.934'}\n",
      "INFO - {'layer': 13, 'module': 'mlp.up_proj', 'loss': '5.22019', 'damp': '0.01000', 'time': '0.891'}\n",
      "INFO - {'layer': 13, 'module': 'mlp.gate_proj', 'loss': '6.94502', 'damp': '0.01000', 'time': '0.947'}\n",
      "INFO - {'layer': 13, 'module': 'mlp.down_proj', 'loss': '0.20137', 'damp': '0.01000', 'time': '4.410'}\n"
     ]
    },
    {
     "name": "stdout",
     "output_type": "stream",
     "text": [
      " Quantizing mlp.down_proj in layer 13 of 15 |█████████████████████████████████████---| 0:26:57 / 0:28:44 [15/16] 93.8%"
     ]
    },
    {
     "name": "stderr",
     "output_type": "stream",
     "text": [
      "INFO - {'layer': 14, 'module': 'self_attn.k_proj', 'loss': '2.65161', 'damp': '0.01000', 'time': '1.052'}\n",
      "INFO - {'layer': 14, 'module': 'self_attn.v_proj', 'loss': '1.07387', 'damp': '0.01000', 'time': '0.907'}\n",
      "INFO - {'layer': 14, 'module': 'self_attn.q_proj', 'loss': '4.85614', 'damp': '0.01000', 'time': '1.012'}\n",
      "INFO - {'layer': 14, 'module': 'self_attn.o_proj', 'loss': '0.07184', 'damp': '0.01000', 'time': '0.889'}\n",
      "INFO - {'layer': 14, 'module': 'mlp.up_proj', 'loss': '5.95376', 'damp': '0.01000', 'time': '0.971'}\n",
      "INFO - {'layer': 14, 'module': 'mlp.gate_proj', 'loss': '8.56094', 'damp': '0.01000', 'time': '0.961'}\n",
      "INFO - {'layer': 14, 'module': 'mlp.down_proj', 'loss': '0.26770', 'damp': '0.01000', 'time': '4.191'}\n"
     ]
    },
    {
     "name": "stdout",
     "output_type": "stream",
     "text": [
      " Quantizing mlp.down_proj in layer 14 of 15 |████████████████████████████████████████| 0:28:49 / 0:28:49 [16/16] 100.0%"
     ]
    },
    {
     "name": "stderr",
     "output_type": "stream",
     "text": [
      "INFO - {'layer': 15, 'module': 'self_attn.k_proj', 'loss': '2.52383', 'damp': '0.01000', 'time': '1.036'}\n",
      "INFO - {'layer': 15, 'module': 'self_attn.v_proj', 'loss': '1.06734', 'damp': '0.01000', 'time': '1.039'}\n",
      "INFO - {'layer': 15, 'module': 'self_attn.q_proj', 'loss': '4.41432', 'damp': '0.01000', 'time': '1.133'}\n",
      "INFO - {'layer': 15, 'module': 'self_attn.o_proj', 'loss': '0.37918', 'damp': '0.01000', 'time': '0.880'}\n",
      "INFO - {'layer': 15, 'module': 'mlp.up_proj', 'loss': '7.41926', 'damp': '0.01000', 'time': '0.942'}\n",
      "INFO - {'layer': 15, 'module': 'mlp.gate_proj', 'loss': '9.79895', 'damp': '0.01000', 'time': '0.995'}\n",
      "INFO - {'layer': 15, 'module': 'mlp.down_proj', 'loss': '0.64739', 'damp': '0.01000', 'time': '4.212'}\n",
      "INFO - Quantization summary:\n",
      "[{'layer': 0, 'module': 'self_attn.k_proj', 'loss': '0.62014', 'damp': '0.01000', 'time': '1.384'}, {'layer': 0, 'module': 'self_attn.v_proj', 'loss': '0.01660', 'damp': '0.01000', 'time': '1.370'}, {'layer': 0, 'module': 'self_attn.q_proj', 'loss': '1.27480', 'damp': '0.01000', 'time': '1.234'}, {'layer': 0, 'module': 'self_attn.o_proj', 'loss': '0.00164', 'damp': '0.01000', 'time': '1.051'}, {'layer': 0, 'module': 'mlp.up_proj', 'loss': '1.13989', 'damp': '0.01000', 'time': '1.122'}, {'layer': 0, 'module': 'mlp.gate_proj', 'loss': '1.43341', 'damp': '0.01000', 'time': '1.100'}, {'layer': 0, 'module': 'mlp.down_proj', 'loss': '0.00756', 'damp': '0.01000', 'time': '4.789'}, {'layer': 1, 'module': 'self_attn.k_proj', 'loss': '1.05103', 'damp': '0.01000', 'time': '1.004'}, {'layer': 1, 'module': 'self_attn.v_proj', 'loss': '0.06223', 'damp': '0.01000', 'time': '1.141'}, {'layer': 1, 'module': 'self_attn.q_proj', 'loss': '2.02254', 'damp': '0.01000', 'time': '1.197'}, {'layer': 1, 'module': 'self_attn.o_proj', 'loss': '0.00474', 'damp': '0.01000', 'time': '1.046'}, {'layer': 1, 'module': 'mlp.up_proj', 'loss': '1.67089', 'damp': '0.01000', 'time': '1.072'}, {'layer': 1, 'module': 'mlp.gate_proj', 'loss': '2.28826', 'damp': '0.01000', 'time': '1.074'}, {'layer': 1, 'module': 'mlp.down_proj', 'loss': '5.47714', 'damp': '0.01000', 'time': '4.606'}, {'layer': 2, 'module': 'self_attn.k_proj', 'loss': '2.13145', 'damp': '0.01000', 'time': '0.951'}, {'layer': 2, 'module': 'self_attn.v_proj', 'loss': '0.14697', 'damp': '0.01000', 'time': '1.145'}, {'layer': 2, 'module': 'self_attn.q_proj', 'loss': '4.06626', 'damp': '0.01000', 'time': '1.424'}, {'layer': 2, 'module': 'self_attn.o_proj', 'loss': '0.00621', 'damp': '0.01000', 'time': '1.000'}, {'layer': 2, 'module': 'mlp.up_proj', 'loss': '2.17195', 'damp': '0.01000', 'time': '1.026'}, {'layer': 2, 'module': 'mlp.gate_proj', 'loss': '3.43811', 'damp': '0.01000', 'time': '0.980'}, {'layer': 2, 'module': 'mlp.down_proj', 'loss': '0.02579', 'damp': '0.01000', 'time': '4.556'}, {'layer': 3, 'module': 'self_attn.k_proj', 'loss': '1.39290', 'damp': '0.01000', 'time': '1.059'}, {'layer': 3, 'module': 'self_attn.v_proj', 'loss': '0.18991', 'damp': '0.01000', 'time': '1.068'}, {'layer': 3, 'module': 'self_attn.q_proj', 'loss': '3.04391', 'damp': '0.01000', 'time': '1.220'}, {'layer': 3, 'module': 'self_attn.o_proj', 'loss': '0.01221', 'damp': '0.01000', 'time': '1.026'}, {'layer': 3, 'module': 'mlp.up_proj', 'loss': '2.57169', 'damp': '0.01000', 'time': '1.065'}, {'layer': 3, 'module': 'mlp.gate_proj', 'loss': '5.09807', 'damp': '0.01000', 'time': '1.125'}, {'layer': 3, 'module': 'mlp.down_proj', 'loss': '0.03694', 'damp': '0.01000', 'time': '4.737'}, {'layer': 4, 'module': 'self_attn.k_proj', 'loss': '1.42607', 'damp': '0.01000', 'time': '0.969'}, {'layer': 4, 'module': 'self_attn.v_proj', 'loss': '0.17019', 'damp': '0.01000', 'time': '0.984'}, {'layer': 4, 'module': 'self_attn.q_proj', 'loss': '2.95491', 'damp': '0.01000', 'time': '1.003'}, {'layer': 4, 'module': 'self_attn.o_proj', 'loss': '0.01923', 'damp': '0.01000', 'time': '1.038'}, {'layer': 4, 'module': 'mlp.up_proj', 'loss': '2.50548', 'damp': '0.01000', 'time': '0.980'}, {'layer': 4, 'module': 'mlp.gate_proj', 'loss': '5.38534', 'damp': '0.01000', 'time': '0.967'}, {'layer': 4, 'module': 'mlp.down_proj', 'loss': '0.04074', 'damp': '0.01000', 'time': '4.251'}, {'layer': 5, 'module': 'self_attn.k_proj', 'loss': '2.17936', 'damp': '0.01000', 'time': '1.163'}, {'layer': 5, 'module': 'self_attn.v_proj', 'loss': '0.14247', 'damp': '0.01000', 'time': '1.247'}, {'layer': 5, 'module': 'self_attn.q_proj', 'loss': '3.71173', 'damp': '0.01000', 'time': '1.231'}, {'layer': 5, 'module': 'self_attn.o_proj', 'loss': '0.01942', 'damp': '0.01000', 'time': '1.094'}, {'layer': 5, 'module': 'mlp.up_proj', 'loss': '2.64294', 'damp': '0.01000', 'time': '1.057'}, {'layer': 5, 'module': 'mlp.gate_proj', 'loss': '4.85856', 'damp': '0.01000', 'time': '1.181'}, {'layer': 5, 'module': 'mlp.down_proj', 'loss': '0.04861', 'damp': '0.01000', 'time': '4.802'}, {'layer': 6, 'module': 'self_attn.k_proj', 'loss': '1.64679', 'damp': '0.01000', 'time': '1.000'}, {'layer': 6, 'module': 'self_attn.v_proj', 'loss': '0.18011', 'damp': '0.01000', 'time': '1.019'}, {'layer': 6, 'module': 'self_attn.q_proj', 'loss': '2.62159', 'damp': '0.01000', 'time': '1.126'}, {'layer': 6, 'module': 'self_attn.o_proj', 'loss': '0.03072', 'damp': '0.01000', 'time': '0.978'}, {'layer': 6, 'module': 'mlp.up_proj', 'loss': '2.65523', 'damp': '0.01000', 'time': '1.109'}, {'layer': 6, 'module': 'mlp.gate_proj', 'loss': '4.75024', 'damp': '0.01000', 'time': '1.226'}, {'layer': 6, 'module': 'mlp.down_proj', 'loss': '0.04964', 'damp': '0.01000', 'time': '4.396'}, {'layer': 7, 'module': 'self_attn.k_proj', 'loss': '1.61762', 'damp': '0.01000', 'time': '0.921'}, {'layer': 7, 'module': 'self_attn.v_proj', 'loss': '0.20405', 'damp': '0.01000', 'time': '0.935'}, {'layer': 7, 'module': 'self_attn.q_proj', 'loss': '3.05333', 'damp': '0.01000', 'time': '1.052'}, {'layer': 7, 'module': 'self_attn.o_proj', 'loss': '0.02708', 'damp': '0.01000', 'time': '0.942'}, {'layer': 7, 'module': 'mlp.up_proj', 'loss': '2.69283', 'damp': '0.01000', 'time': '0.958'}, {'layer': 7, 'module': 'mlp.gate_proj', 'loss': '4.34144', 'damp': '0.01000', 'time': '1.120'}, {'layer': 7, 'module': 'mlp.down_proj', 'loss': '0.05376', 'damp': '0.01000', 'time': '4.322'}, {'layer': 8, 'module': 'self_attn.k_proj', 'loss': '1.89474', 'damp': '0.01000', 'time': '0.920'}, {'layer': 8, 'module': 'self_attn.v_proj', 'loss': '0.19292', 'damp': '0.01000', 'time': '1.009'}, {'layer': 8, 'module': 'self_attn.q_proj', 'loss': '3.12245', 'damp': '0.01000', 'time': '1.110'}, {'layer': 8, 'module': 'self_attn.o_proj', 'loss': '0.03453', 'damp': '0.01000', 'time': '0.929'}, {'layer': 8, 'module': 'mlp.up_proj', 'loss': '2.95268', 'damp': '0.01000', 'time': '1.095'}, {'layer': 8, 'module': 'mlp.gate_proj', 'loss': '4.62903', 'damp': '0.01000', 'time': '1.103'}, {'layer': 8, 'module': 'mlp.down_proj', 'loss': '0.07173', 'damp': '0.01000', 'time': '4.173'}, {'layer': 9, 'module': 'self_attn.k_proj', 'loss': '1.53122', 'damp': '0.01000', 'time': '0.899'}, {'layer': 9, 'module': 'self_attn.v_proj', 'loss': '0.23447', 'damp': '0.01000', 'time': '0.926'}, {'layer': 9, 'module': 'self_attn.q_proj', 'loss': '3.73604', 'damp': '0.01000', 'time': '1.153'}, {'layer': 9, 'module': 'self_attn.o_proj', 'loss': '0.04613', 'damp': '0.01000', 'time': '0.981'}, {'layer': 9, 'module': 'mlp.up_proj', 'loss': '3.08657', 'damp': '0.01000', 'time': '0.962'}, {'layer': 9, 'module': 'mlp.gate_proj', 'loss': '5.01843', 'damp': '0.01000', 'time': '1.067'}, {'layer': 9, 'module': 'mlp.down_proj', 'loss': '0.08492', 'damp': '0.01000', 'time': '4.239'}, {'layer': 10, 'module': 'self_attn.k_proj', 'loss': '1.83477', 'damp': '0.01000', 'time': '0.902'}, {'layer': 10, 'module': 'self_attn.v_proj', 'loss': '0.25994', 'damp': '0.01000', 'time': '0.931'}, {'layer': 10, 'module': 'self_attn.q_proj', 'loss': '3.84458', 'damp': '0.01000', 'time': '1.154'}, {'layer': 10, 'module': 'self_attn.o_proj', 'loss': '0.03127', 'damp': '0.01000', 'time': '0.911'}, {'layer': 10, 'module': 'mlp.up_proj', 'loss': '3.71283', 'damp': '0.01000', 'time': '0.979'}, {'layer': 10, 'module': 'mlp.gate_proj', 'loss': '5.81468', 'damp': '0.01000', 'time': '1.033'}, {'layer': 10, 'module': 'mlp.down_proj', 'loss': '0.11023', 'damp': '0.01000', 'time': '4.200'}, {'layer': 11, 'module': 'self_attn.k_proj', 'loss': '2.29956', 'damp': '0.01000', 'time': '0.898'}, {'layer': 11, 'module': 'self_attn.v_proj', 'loss': '0.27798', 'damp': '0.01000', 'time': '0.889'}, {'layer': 11, 'module': 'self_attn.q_proj', 'loss': '3.92013', 'damp': '0.01000', 'time': '1.041'}, {'layer': 11, 'module': 'self_attn.o_proj', 'loss': '0.02644', 'damp': '0.01000', 'time': '0.902'}, {'layer': 11, 'module': 'mlp.up_proj', 'loss': '4.22150', 'damp': '0.01000', 'time': '0.960'}, {'layer': 11, 'module': 'mlp.gate_proj', 'loss': '6.47687', 'damp': '0.01000', 'time': '1.191'}, {'layer': 11, 'module': 'mlp.down_proj', 'loss': '0.12065', 'damp': '0.01000', 'time': '4.458'}, {'layer': 12, 'module': 'self_attn.k_proj', 'loss': '2.36638', 'damp': '0.01000', 'time': '0.860'}, {'layer': 12, 'module': 'self_attn.v_proj', 'loss': '0.28494', 'damp': '0.01000', 'time': '0.873'}, {'layer': 12, 'module': 'self_attn.q_proj', 'loss': '3.97809', 'damp': '0.01000', 'time': '1.063'}, {'layer': 12, 'module': 'self_attn.o_proj', 'loss': '0.02573', 'damp': '0.01000', 'time': '0.868'}, {'layer': 12, 'module': 'mlp.up_proj', 'loss': '4.40740', 'damp': '0.01000', 'time': '0.898'}, {'layer': 12, 'module': 'mlp.gate_proj', 'loss': '6.40871', 'damp': '0.01000', 'time': '1.070'}, {'layer': 12, 'module': 'mlp.down_proj', 'loss': '0.13805', 'damp': '0.01000', 'time': '3.996'}, {'layer': 13, 'module': 'self_attn.k_proj', 'loss': '2.33875', 'damp': '0.01000', 'time': '0.867'}, {'layer': 13, 'module': 'self_attn.v_proj', 'loss': '0.47960', 'damp': '0.01000', 'time': '0.873'}, {'layer': 13, 'module': 'self_attn.q_proj', 'loss': '4.59054', 'damp': '0.01000', 'time': '1.036'}, {'layer': 13, 'module': 'self_attn.o_proj', 'loss': '0.03183', 'damp': '0.01000', 'time': '0.934'}, {'layer': 13, 'module': 'mlp.up_proj', 'loss': '5.22019', 'damp': '0.01000', 'time': '0.891'}, {'layer': 13, 'module': 'mlp.gate_proj', 'loss': '6.94502', 'damp': '0.01000', 'time': '0.947'}, {'layer': 13, 'module': 'mlp.down_proj', 'loss': '0.20137', 'damp': '0.01000', 'time': '4.410'}, {'layer': 14, 'module': 'self_attn.k_proj', 'loss': '2.65161', 'damp': '0.01000', 'time': '1.052'}, {'layer': 14, 'module': 'self_attn.v_proj', 'loss': '1.07387', 'damp': '0.01000', 'time': '0.907'}, {'layer': 14, 'module': 'self_attn.q_proj', 'loss': '4.85614', 'damp': '0.01000', 'time': '1.012'}, {'layer': 14, 'module': 'self_attn.o_proj', 'loss': '0.07184', 'damp': '0.01000', 'time': '0.889'}, {'layer': 14, 'module': 'mlp.up_proj', 'loss': '5.95376', 'damp': '0.01000', 'time': '0.971'}, {'layer': 14, 'module': 'mlp.gate_proj', 'loss': '8.56094', 'damp': '0.01000', 'time': '0.961'}, {'layer': 14, 'module': 'mlp.down_proj', 'loss': '0.26770', 'damp': '0.01000', 'time': '4.191'}, {'layer': 15, 'module': 'self_attn.k_proj', 'loss': '2.52383', 'damp': '0.01000', 'time': '1.036'}, {'layer': 15, 'module': 'self_attn.v_proj', 'loss': '1.06734', 'damp': '0.01000', 'time': '1.039'}, {'layer': 15, 'module': 'self_attn.q_proj', 'loss': '4.41432', 'damp': '0.01000', 'time': '1.133'}, {'layer': 15, 'module': 'self_attn.o_proj', 'loss': '0.37918', 'damp': '0.01000', 'time': '0.880'}, {'layer': 15, 'module': 'mlp.up_proj', 'loss': '7.41926', 'damp': '0.01000', 'time': '0.942'}, {'layer': 15, 'module': 'mlp.gate_proj', 'loss': '9.79895', 'damp': '0.01000', 'time': '0.995'}, {'layer': 15, 'module': 'mlp.down_proj', 'loss': '0.64739', 'damp': '0.01000', 'time': '4.212'}]\n",
      "INFO - {'layer': 0, 'module': 'self_attn.k_proj', 'loss': '0.62014', 'damp': '0.01000', 'time': '1.384'}\n",
      "INFO - {'layer': 0, 'module': 'self_attn.v_proj', 'loss': '0.01660', 'damp': '0.01000', 'time': '1.370'}\n",
      "INFO - {'layer': 0, 'module': 'self_attn.q_proj', 'loss': '1.27480', 'damp': '0.01000', 'time': '1.234'}\n",
      "INFO - {'layer': 0, 'module': 'self_attn.o_proj', 'loss': '0.00164', 'damp': '0.01000', 'time': '1.051'}\n",
      "INFO - {'layer': 0, 'module': 'mlp.up_proj', 'loss': '1.13989', 'damp': '0.01000', 'time': '1.122'}\n",
      "INFO - {'layer': 0, 'module': 'mlp.gate_proj', 'loss': '1.43341', 'damp': '0.01000', 'time': '1.100'}\n",
      "INFO - {'layer': 0, 'module': 'mlp.down_proj', 'loss': '0.00756', 'damp': '0.01000', 'time': '4.789'}\n",
      "INFO - {'layer': 1, 'module': 'self_attn.k_proj', 'loss': '1.05103', 'damp': '0.01000', 'time': '1.004'}\n",
      "INFO - {'layer': 1, 'module': 'self_attn.v_proj', 'loss': '0.06223', 'damp': '0.01000', 'time': '1.141'}\n",
      "INFO - {'layer': 1, 'module': 'self_attn.q_proj', 'loss': '2.02254', 'damp': '0.01000', 'time': '1.197'}\n",
      "INFO - {'layer': 1, 'module': 'self_attn.o_proj', 'loss': '0.00474', 'damp': '0.01000', 'time': '1.046'}\n",
      "INFO - {'layer': 1, 'module': 'mlp.up_proj', 'loss': '1.67089', 'damp': '0.01000', 'time': '1.072'}\n",
      "INFO - {'layer': 1, 'module': 'mlp.gate_proj', 'loss': '2.28826', 'damp': '0.01000', 'time': '1.074'}\n",
      "INFO - {'layer': 1, 'module': 'mlp.down_proj', 'loss': '5.47714', 'damp': '0.01000', 'time': '4.606'}\n",
      "INFO - {'layer': 2, 'module': 'self_attn.k_proj', 'loss': '2.13145', 'damp': '0.01000', 'time': '0.951'}\n",
      "INFO - {'layer': 2, 'module': 'self_attn.v_proj', 'loss': '0.14697', 'damp': '0.01000', 'time': '1.145'}\n",
      "INFO - {'layer': 2, 'module': 'self_attn.q_proj', 'loss': '4.06626', 'damp': '0.01000', 'time': '1.424'}\n",
      "INFO - {'layer': 2, 'module': 'self_attn.o_proj', 'loss': '0.00621', 'damp': '0.01000', 'time': '1.000'}\n",
      "INFO - {'layer': 2, 'module': 'mlp.up_proj', 'loss': '2.17195', 'damp': '0.01000', 'time': '1.026'}\n",
      "INFO - {'layer': 2, 'module': 'mlp.gate_proj', 'loss': '3.43811', 'damp': '0.01000', 'time': '0.980'}\n",
      "INFO - {'layer': 2, 'module': 'mlp.down_proj', 'loss': '0.02579', 'damp': '0.01000', 'time': '4.556'}\n",
      "INFO - {'layer': 3, 'module': 'self_attn.k_proj', 'loss': '1.39290', 'damp': '0.01000', 'time': '1.059'}\n",
      "INFO - {'layer': 3, 'module': 'self_attn.v_proj', 'loss': '0.18991', 'damp': '0.01000', 'time': '1.068'}\n",
      "INFO - {'layer': 3, 'module': 'self_attn.q_proj', 'loss': '3.04391', 'damp': '0.01000', 'time': '1.220'}\n",
      "INFO - {'layer': 3, 'module': 'self_attn.o_proj', 'loss': '0.01221', 'damp': '0.01000', 'time': '1.026'}\n",
      "INFO - {'layer': 3, 'module': 'mlp.up_proj', 'loss': '2.57169', 'damp': '0.01000', 'time': '1.065'}\n",
      "INFO - {'layer': 3, 'module': 'mlp.gate_proj', 'loss': '5.09807', 'damp': '0.01000', 'time': '1.125'}\n",
      "INFO - {'layer': 3, 'module': 'mlp.down_proj', 'loss': '0.03694', 'damp': '0.01000', 'time': '4.737'}\n",
      "INFO - {'layer': 4, 'module': 'self_attn.k_proj', 'loss': '1.42607', 'damp': '0.01000', 'time': '0.969'}\n",
      "INFO - {'layer': 4, 'module': 'self_attn.v_proj', 'loss': '0.17019', 'damp': '0.01000', 'time': '0.984'}\n",
      "INFO - {'layer': 4, 'module': 'self_attn.q_proj', 'loss': '2.95491', 'damp': '0.01000', 'time': '1.003'}\n",
      "INFO - {'layer': 4, 'module': 'self_attn.o_proj', 'loss': '0.01923', 'damp': '0.01000', 'time': '1.038'}\n",
      "INFO - {'layer': 4, 'module': 'mlp.up_proj', 'loss': '2.50548', 'damp': '0.01000', 'time': '0.980'}\n",
      "INFO - {'layer': 4, 'module': 'mlp.gate_proj', 'loss': '5.38534', 'damp': '0.01000', 'time': '0.967'}\n",
      "INFO - {'layer': 4, 'module': 'mlp.down_proj', 'loss': '0.04074', 'damp': '0.01000', 'time': '4.251'}\n",
      "INFO - {'layer': 5, 'module': 'self_attn.k_proj', 'loss': '2.17936', 'damp': '0.01000', 'time': '1.163'}\n",
      "INFO - {'layer': 5, 'module': 'self_attn.v_proj', 'loss': '0.14247', 'damp': '0.01000', 'time': '1.247'}\n",
      "INFO - {'layer': 5, 'module': 'self_attn.q_proj', 'loss': '3.71173', 'damp': '0.01000', 'time': '1.231'}\n",
      "INFO - {'layer': 5, 'module': 'self_attn.o_proj', 'loss': '0.01942', 'damp': '0.01000', 'time': '1.094'}\n",
      "INFO - {'layer': 5, 'module': 'mlp.up_proj', 'loss': '2.64294', 'damp': '0.01000', 'time': '1.057'}\n",
      "INFO - {'layer': 5, 'module': 'mlp.gate_proj', 'loss': '4.85856', 'damp': '0.01000', 'time': '1.181'}\n",
      "INFO - {'layer': 5, 'module': 'mlp.down_proj', 'loss': '0.04861', 'damp': '0.01000', 'time': '4.802'}\n",
      "INFO - {'layer': 6, 'module': 'self_attn.k_proj', 'loss': '1.64679', 'damp': '0.01000', 'time': '1.000'}\n",
      "INFO - {'layer': 6, 'module': 'self_attn.v_proj', 'loss': '0.18011', 'damp': '0.01000', 'time': '1.019'}\n",
      "INFO - {'layer': 6, 'module': 'self_attn.q_proj', 'loss': '2.62159', 'damp': '0.01000', 'time': '1.126'}\n",
      "INFO - {'layer': 6, 'module': 'self_attn.o_proj', 'loss': '0.03072', 'damp': '0.01000', 'time': '0.978'}\n",
      "INFO - {'layer': 6, 'module': 'mlp.up_proj', 'loss': '2.65523', 'damp': '0.01000', 'time': '1.109'}\n",
      "INFO - {'layer': 6, 'module': 'mlp.gate_proj', 'loss': '4.75024', 'damp': '0.01000', 'time': '1.226'}\n",
      "INFO - {'layer': 6, 'module': 'mlp.down_proj', 'loss': '0.04964', 'damp': '0.01000', 'time': '4.396'}\n",
      "INFO - {'layer': 7, 'module': 'self_attn.k_proj', 'loss': '1.61762', 'damp': '0.01000', 'time': '0.921'}\n",
      "INFO - {'layer': 7, 'module': 'self_attn.v_proj', 'loss': '0.20405', 'damp': '0.01000', 'time': '0.935'}\n",
      "INFO - {'layer': 7, 'module': 'self_attn.q_proj', 'loss': '3.05333', 'damp': '0.01000', 'time': '1.052'}\n",
      "INFO - {'layer': 7, 'module': 'self_attn.o_proj', 'loss': '0.02708', 'damp': '0.01000', 'time': '0.942'}\n",
      "INFO - {'layer': 7, 'module': 'mlp.up_proj', 'loss': '2.69283', 'damp': '0.01000', 'time': '0.958'}\n",
      "INFO - {'layer': 7, 'module': 'mlp.gate_proj', 'loss': '4.34144', 'damp': '0.01000', 'time': '1.120'}\n",
      "INFO - {'layer': 7, 'module': 'mlp.down_proj', 'loss': '0.05376', 'damp': '0.01000', 'time': '4.322'}\n",
      "INFO - {'layer': 8, 'module': 'self_attn.k_proj', 'loss': '1.89474', 'damp': '0.01000', 'time': '0.920'}\n",
      "INFO - {'layer': 8, 'module': 'self_attn.v_proj', 'loss': '0.19292', 'damp': '0.01000', 'time': '1.009'}\n",
      "INFO - {'layer': 8, 'module': 'self_attn.q_proj', 'loss': '3.12245', 'damp': '0.01000', 'time': '1.110'}\n",
      "INFO - {'layer': 8, 'module': 'self_attn.o_proj', 'loss': '0.03453', 'damp': '0.01000', 'time': '0.929'}\n",
      "INFO - {'layer': 8, 'module': 'mlp.up_proj', 'loss': '2.95268', 'damp': '0.01000', 'time': '1.095'}\n",
      "INFO - {'layer': 8, 'module': 'mlp.gate_proj', 'loss': '4.62903', 'damp': '0.01000', 'time': '1.103'}\n",
      "INFO - {'layer': 8, 'module': 'mlp.down_proj', 'loss': '0.07173', 'damp': '0.01000', 'time': '4.173'}\n",
      "INFO - {'layer': 9, 'module': 'self_attn.k_proj', 'loss': '1.53122', 'damp': '0.01000', 'time': '0.899'}\n",
      "INFO - {'layer': 9, 'module': 'self_attn.v_proj', 'loss': '0.23447', 'damp': '0.01000', 'time': '0.926'}\n",
      "INFO - {'layer': 9, 'module': 'self_attn.q_proj', 'loss': '3.73604', 'damp': '0.01000', 'time': '1.153'}\n",
      "INFO - {'layer': 9, 'module': 'self_attn.o_proj', 'loss': '0.04613', 'damp': '0.01000', 'time': '0.981'}\n",
      "INFO - {'layer': 9, 'module': 'mlp.up_proj', 'loss': '3.08657', 'damp': '0.01000', 'time': '0.962'}\n",
      "INFO - {'layer': 9, 'module': 'mlp.gate_proj', 'loss': '5.01843', 'damp': '0.01000', 'time': '1.067'}\n",
      "INFO - {'layer': 9, 'module': 'mlp.down_proj', 'loss': '0.08492', 'damp': '0.01000', 'time': '4.239'}\n",
      "INFO - {'layer': 10, 'module': 'self_attn.k_proj', 'loss': '1.83477', 'damp': '0.01000', 'time': '0.902'}\n",
      "INFO - {'layer': 10, 'module': 'self_attn.v_proj', 'loss': '0.25994', 'damp': '0.01000', 'time': '0.931'}\n",
      "INFO - {'layer': 10, 'module': 'self_attn.q_proj', 'loss': '3.84458', 'damp': '0.01000', 'time': '1.154'}\n",
      "INFO - {'layer': 10, 'module': 'self_attn.o_proj', 'loss': '0.03127', 'damp': '0.01000', 'time': '0.911'}\n",
      "INFO - {'layer': 10, 'module': 'mlp.up_proj', 'loss': '3.71283', 'damp': '0.01000', 'time': '0.979'}\n",
      "INFO - {'layer': 10, 'module': 'mlp.gate_proj', 'loss': '5.81468', 'damp': '0.01000', 'time': '1.033'}\n",
      "INFO - {'layer': 10, 'module': 'mlp.down_proj', 'loss': '0.11023', 'damp': '0.01000', 'time': '4.200'}\n",
      "INFO - {'layer': 11, 'module': 'self_attn.k_proj', 'loss': '2.29956', 'damp': '0.01000', 'time': '0.898'}\n",
      "INFO - {'layer': 11, 'module': 'self_attn.v_proj', 'loss': '0.27798', 'damp': '0.01000', 'time': '0.889'}\n",
      "INFO - {'layer': 11, 'module': 'self_attn.q_proj', 'loss': '3.92013', 'damp': '0.01000', 'time': '1.041'}\n",
      "INFO - {'layer': 11, 'module': 'self_attn.o_proj', 'loss': '0.02644', 'damp': '0.01000', 'time': '0.902'}\n",
      "INFO - {'layer': 11, 'module': 'mlp.up_proj', 'loss': '4.22150', 'damp': '0.01000', 'time': '0.960'}\n",
      "INFO - {'layer': 11, 'module': 'mlp.gate_proj', 'loss': '6.47687', 'damp': '0.01000', 'time': '1.191'}\n",
      "INFO - {'layer': 11, 'module': 'mlp.down_proj', 'loss': '0.12065', 'damp': '0.01000', 'time': '4.458'}\n",
      "INFO - {'layer': 12, 'module': 'self_attn.k_proj', 'loss': '2.36638', 'damp': '0.01000', 'time': '0.860'}\n",
      "INFO - {'layer': 12, 'module': 'self_attn.v_proj', 'loss': '0.28494', 'damp': '0.01000', 'time': '0.873'}\n",
      "INFO - {'layer': 12, 'module': 'self_attn.q_proj', 'loss': '3.97809', 'damp': '0.01000', 'time': '1.063'}\n",
      "INFO - {'layer': 12, 'module': 'self_attn.o_proj', 'loss': '0.02573', 'damp': '0.01000', 'time': '0.868'}\n",
      "INFO - {'layer': 12, 'module': 'mlp.up_proj', 'loss': '4.40740', 'damp': '0.01000', 'time': '0.898'}\n",
      "INFO - {'layer': 12, 'module': 'mlp.gate_proj', 'loss': '6.40871', 'damp': '0.01000', 'time': '1.070'}\n",
      "INFO - {'layer': 12, 'module': 'mlp.down_proj', 'loss': '0.13805', 'damp': '0.01000', 'time': '3.996'}\n",
      "INFO - {'layer': 13, 'module': 'self_attn.k_proj', 'loss': '2.33875', 'damp': '0.01000', 'time': '0.867'}\n",
      "INFO - {'layer': 13, 'module': 'self_attn.v_proj', 'loss': '0.47960', 'damp': '0.01000', 'time': '0.873'}\n",
      "INFO - {'layer': 13, 'module': 'self_attn.q_proj', 'loss': '4.59054', 'damp': '0.01000', 'time': '1.036'}\n",
      "INFO - {'layer': 13, 'module': 'self_attn.o_proj', 'loss': '0.03183', 'damp': '0.01000', 'time': '0.934'}\n",
      "INFO - {'layer': 13, 'module': 'mlp.up_proj', 'loss': '5.22019', 'damp': '0.01000', 'time': '0.891'}\n",
      "INFO - {'layer': 13, 'module': 'mlp.gate_proj', 'loss': '6.94502', 'damp': '0.01000', 'time': '0.947'}\n",
      "INFO - {'layer': 13, 'module': 'mlp.down_proj', 'loss': '0.20137', 'damp': '0.01000', 'time': '4.410'}\n",
      "INFO - {'layer': 14, 'module': 'self_attn.k_proj', 'loss': '2.65161', 'damp': '0.01000', 'time': '1.052'}\n",
      "INFO - {'layer': 14, 'module': 'self_attn.v_proj', 'loss': '1.07387', 'damp': '0.01000', 'time': '0.907'}\n",
      "INFO - {'layer': 14, 'module': 'self_attn.q_proj', 'loss': '4.85614', 'damp': '0.01000', 'time': '1.012'}\n",
      "INFO - {'layer': 14, 'module': 'self_attn.o_proj', 'loss': '0.07184', 'damp': '0.01000', 'time': '0.889'}\n",
      "INFO - {'layer': 14, 'module': 'mlp.up_proj', 'loss': '5.95376', 'damp': '0.01000', 'time': '0.971'}\n",
      "INFO - {'layer': 14, 'module': 'mlp.gate_proj', 'loss': '8.56094', 'damp': '0.01000', 'time': '0.961'}\n",
      "INFO - {'layer': 14, 'module': 'mlp.down_proj', 'loss': '0.26770', 'damp': '0.01000', 'time': '4.191'}\n",
      "INFO - {'layer': 15, 'module': 'self_attn.k_proj', 'loss': '2.52383', 'damp': '0.01000', 'time': '1.036'}\n",
      "INFO - {'layer': 15, 'module': 'self_attn.v_proj', 'loss': '1.06734', 'damp': '0.01000', 'time': '1.039'}\n",
      "INFO - {'layer': 15, 'module': 'self_attn.q_proj', 'loss': '4.41432', 'damp': '0.01000', 'time': '1.133'}\n",
      "INFO - {'layer': 15, 'module': 'self_attn.o_proj', 'loss': '0.37918', 'damp': '0.01000', 'time': '0.880'}\n",
      "INFO - {'layer': 15, 'module': 'mlp.up_proj', 'loss': '7.41926', 'damp': '0.01000', 'time': '0.942'}\n",
      "INFO - {'layer': 15, 'module': 'mlp.gate_proj', 'loss': '9.79895', 'damp': '0.01000', 'time': '0.995'}\n",
      "INFO - {'layer': 15, 'module': 'mlp.down_proj', 'loss': '0.64739', 'damp': '0.01000', 'time': '4.212'}\n",
      "INFO - Packing model...\n"
     ]
    },
    {
     "name": "stdout",
     "output_type": "stream",
     "text": [
      " Packing model.layers.15.mlp.down_proj |----------------------------------------| 100.0%2 / 2:14:24 [0/112] 0.0%.0%"
     ]
    },
    {
     "name": "stderr",
     "output_type": "stream",
     "text": [
      "INFO - Model packed.\n"
     ]
    },
    {
     "name": "stdout",
     "output_type": "stream",
     "text": [
      " Quantizing mlp.down_proj in layer 15 of 15 |----------------------------------------| 100.0%SAVING MODEL\n"
     ]
    },
    {
     "name": "stderr",
     "output_type": "stream",
     "text": [
      "INFO - Pre-Quantized model size: 4714.32MB, 4.60GB\n",
      "INFO - Quantized model size: 1485.55MB, 1.45GB\n",
      "INFO - Size difference: 3228.77MB, 3.15GB - 68.49%\n",
      "WARNING - Model config does not have pad token mapped. Please pass in tokenizer to `quantize()` so GPTQModel can auto-select the best pad token.\n"
     ]
    },
    {
     "name": "stdout",
     "output_type": "stream",
     "text": [
      "QUANTIZING WITH 8 bits and group size of 128 \n",
      "  |██--------------------------------------| 0:00:00 / 0:00:00 [1/16] 6.2%"
     ]
    },
    {
     "name": "stderr",
     "output_type": "stream",
     "text": [
      "INFO - {'layer': 0, 'module': 'self_attn.k_proj', 'loss': '0.00212', 'damp': '0.01000', 'time': '1.374'}\n",
      "INFO - {'layer': 0, 'module': 'self_attn.v_proj', 'loss': '0.00006', 'damp': '0.01000', 'time': '1.366'}\n",
      "INFO - {'layer': 0, 'module': 'self_attn.q_proj', 'loss': '0.00436', 'damp': '0.01000', 'time': '1.190'}\n",
      "INFO - {'layer': 0, 'module': 'self_attn.o_proj', 'loss': '0.00001', 'damp': '0.01000', 'time': '0.987'}\n",
      "INFO - {'layer': 0, 'module': 'mlp.up_proj', 'loss': '0.00392', 'damp': '0.01000', 'time': '0.976'}\n",
      "INFO - {'layer': 0, 'module': 'mlp.gate_proj', 'loss': '0.00493', 'damp': '0.01000', 'time': '1.114'}\n",
      "INFO - {'layer': 0, 'module': 'mlp.down_proj', 'loss': '0.00003', 'damp': '0.01000', 'time': '4.383'}\n"
     ]
    },
    {
     "name": "stdout",
     "output_type": "stream",
     "text": [
      " Quantizing mlp.down_proj in layer 0 of 15 |█████-----------------------------------| 0:01:54 / 0:15:12 [2/16] 12.5%"
     ]
    },
    {
     "name": "stderr",
     "output_type": "stream",
     "text": [
      "INFO - {'layer': 1, 'module': 'self_attn.k_proj', 'loss': '0.00357', 'damp': '0.01000', 'time': '0.898'}\n",
      "INFO - {'layer': 1, 'module': 'self_attn.v_proj', 'loss': '0.00021', 'damp': '0.01000', 'time': '0.920'}\n",
      "INFO - {'layer': 1, 'module': 'self_attn.q_proj', 'loss': '0.00688', 'damp': '0.01000', 'time': '0.989'}\n",
      "INFO - {'layer': 1, 'module': 'self_attn.o_proj', 'loss': '0.00002', 'damp': '0.01000', 'time': '0.900'}\n",
      "INFO - {'layer': 1, 'module': 'mlp.up_proj', 'loss': '0.00573', 'damp': '0.01000', 'time': '0.964'}\n",
      "INFO - {'layer': 1, 'module': 'mlp.gate_proj', 'loss': '0.00785', 'damp': '0.01000', 'time': '0.967'}\n",
      "INFO - {'layer': 1, 'module': 'mlp.down_proj', 'loss': '0.00274', 'damp': '0.01000', 'time': '4.260'}\n"
     ]
    },
    {
     "name": "stdout",
     "output_type": "stream",
     "text": [
      " Quantizing mlp.down_proj in layer 1 of 15 |███████---------------------------------| 0:03:47 / 0:20:10 [3/16] 18.8%"
     ]
    },
    {
     "name": "stderr",
     "output_type": "stream",
     "text": [
      "INFO - {'layer': 2, 'module': 'self_attn.k_proj', 'loss': '0.00734', 'damp': '0.01000', 'time': '1.241'}\n",
      "INFO - {'layer': 2, 'module': 'self_attn.v_proj', 'loss': '0.00051', 'damp': '0.01000', 'time': '1.156'}\n",
      "INFO - {'layer': 2, 'module': 'self_attn.q_proj', 'loss': '0.01404', 'damp': '0.01000', 'time': '1.000'}\n",
      "INFO - {'layer': 2, 'module': 'self_attn.o_proj', 'loss': '0.00002', 'damp': '0.01000', 'time': '0.917'}\n",
      "INFO - {'layer': 2, 'module': 'mlp.up_proj', 'loss': '0.00747', 'damp': '0.01000', 'time': '0.979'}\n",
      "INFO - {'layer': 2, 'module': 'mlp.gate_proj', 'loss': '0.01184', 'damp': '0.01000', 'time': '0.954'}\n",
      "INFO - {'layer': 2, 'module': 'mlp.down_proj', 'loss': '0.00009', 'damp': '0.01000', 'time': '4.387'}\n"
     ]
    },
    {
     "name": "stdout",
     "output_type": "stream",
     "text": [
      " Quantizing mlp.down_proj in layer 2 of 15 |██████████------------------------------| 0:05:40 / 0:22:40 [4/16] 25.0%"
     ]
    },
    {
     "name": "stderr",
     "output_type": "stream",
     "text": [
      "INFO - {'layer': 3, 'module': 'self_attn.k_proj', 'loss': '0.00464', 'damp': '0.01000', 'time': '0.868'}\n",
      "INFO - {'layer': 3, 'module': 'self_attn.v_proj', 'loss': '0.00064', 'damp': '0.01000', 'time': '0.963'}\n",
      "INFO - {'layer': 3, 'module': 'self_attn.q_proj', 'loss': '0.01019', 'damp': '0.01000', 'time': '0.991'}\n",
      "INFO - {'layer': 3, 'module': 'self_attn.o_proj', 'loss': '0.00004', 'damp': '0.01000', 'time': '0.892'}\n",
      "INFO - {'layer': 3, 'module': 'mlp.up_proj', 'loss': '0.00871', 'damp': '0.01000', 'time': '1.143'}\n",
      "INFO - {'layer': 3, 'module': 'mlp.gate_proj', 'loss': '0.01724', 'damp': '0.01000', 'time': '1.059'}\n",
      "INFO - {'layer': 3, 'module': 'mlp.down_proj', 'loss': '0.00013', 'damp': '0.01000', 'time': '4.204'}\n"
     ]
    },
    {
     "name": "stdout",
     "output_type": "stream",
     "text": [
      " Quantizing mlp.down_proj in layer 3 of 15 |████████████----------------------------| 0:07:33 / 0:24:09 [5/16] 31.2%"
     ]
    },
    {
     "name": "stderr",
     "output_type": "stream",
     "text": [
      "INFO - {'layer': 4, 'module': 'self_attn.k_proj', 'loss': '0.00474', 'damp': '0.01000', 'time': '1.149'}\n",
      "INFO - {'layer': 4, 'module': 'self_attn.v_proj', 'loss': '0.00057', 'damp': '0.01000', 'time': '0.957'}\n",
      "INFO - {'layer': 4, 'module': 'self_attn.q_proj', 'loss': '0.00985', 'damp': '0.01000', 'time': '1.140'}\n",
      "INFO - {'layer': 4, 'module': 'self_attn.o_proj', 'loss': '0.00007', 'damp': '0.01000', 'time': '0.936'}\n",
      "INFO - {'layer': 4, 'module': 'mlp.up_proj', 'loss': '0.00852', 'damp': '0.01000', 'time': '1.068'}\n",
      "INFO - {'layer': 4, 'module': 'mlp.gate_proj', 'loss': '0.01827', 'damp': '0.01000', 'time': '0.975'}\n",
      "INFO - {'layer': 4, 'module': 'mlp.down_proj', 'loss': '0.00014', 'damp': '0.01000', 'time': '4.097'}\n"
     ]
    },
    {
     "name": "stdout",
     "output_type": "stream",
     "text": [
      " Quantizing mlp.down_proj in layer 4 of 15 |███████████████-------------------------| 0:09:27 / 0:25:12 [6/16] 37.5%"
     ]
    },
    {
     "name": "stderr",
     "output_type": "stream",
     "text": [
      "INFO - {'layer': 5, 'module': 'self_attn.k_proj', 'loss': '0.00728', 'damp': '0.01000', 'time': '0.987'}\n",
      "INFO - {'layer': 5, 'module': 'self_attn.v_proj', 'loss': '0.00048', 'damp': '0.01000', 'time': '1.088'}\n",
      "INFO - {'layer': 5, 'module': 'self_attn.q_proj', 'loss': '0.01225', 'damp': '0.01000', 'time': '1.260'}\n",
      "INFO - {'layer': 5, 'module': 'self_attn.o_proj', 'loss': '0.00007', 'damp': '0.01000', 'time': '0.885'}\n",
      "INFO - {'layer': 5, 'module': 'mlp.up_proj', 'loss': '0.00896', 'damp': '0.01000', 'time': '0.969'}\n",
      "INFO - {'layer': 5, 'module': 'mlp.gate_proj', 'loss': '0.01642', 'damp': '0.01000', 'time': '0.990'}\n",
      "INFO - {'layer': 5, 'module': 'mlp.down_proj', 'loss': '0.00017', 'damp': '0.01000', 'time': '3.917'}\n"
     ]
    },
    {
     "name": "stdout",
     "output_type": "stream",
     "text": [
      " Quantizing mlp.down_proj in layer 5 of 15 |█████████████████-----------------------| 0:11:19 / 0:25:52 [7/16] 43.8%"
     ]
    },
    {
     "name": "stderr",
     "output_type": "stream",
     "text": [
      "INFO - {'layer': 6, 'module': 'self_attn.k_proj', 'loss': '0.00550', 'damp': '0.01000', 'time': '0.884'}\n",
      "INFO - {'layer': 6, 'module': 'self_attn.v_proj', 'loss': '0.00061', 'damp': '0.01000', 'time': '1.074'}\n",
      "INFO - {'layer': 6, 'module': 'self_attn.q_proj', 'loss': '0.00877', 'damp': '0.01000', 'time': '0.992'}\n",
      "INFO - {'layer': 6, 'module': 'self_attn.o_proj', 'loss': '0.00010', 'damp': '0.01000', 'time': '1.095'}\n",
      "INFO - {'layer': 6, 'module': 'mlp.up_proj', 'loss': '0.00898', 'damp': '0.01000', 'time': '1.000'}\n",
      "INFO - {'layer': 6, 'module': 'mlp.gate_proj', 'loss': '0.01606', 'damp': '0.01000', 'time': '1.000'}\n",
      "INFO - {'layer': 6, 'module': 'mlp.down_proj', 'loss': '0.00017', 'damp': '0.01000', 'time': '4.068'}\n"
     ]
    },
    {
     "name": "stdout",
     "output_type": "stream",
     "text": [
      " Quantizing mlp.down_proj in layer 6 of 15 |████████████████████--------------------| 0:13:12 / 0:26:24 [8/16] 50.0%"
     ]
    },
    {
     "name": "stderr",
     "output_type": "stream",
     "text": [
      "INFO - {'layer': 7, 'module': 'self_attn.k_proj', 'loss': '0.00538', 'damp': '0.01000', 'time': '0.935'}\n",
      "INFO - {'layer': 7, 'module': 'self_attn.v_proj', 'loss': '0.00069', 'damp': '0.01000', 'time': '0.945'}\n",
      "INFO - {'layer': 7, 'module': 'self_attn.q_proj', 'loss': '0.01020', 'damp': '0.01000', 'time': '1.073'}\n",
      "INFO - {'layer': 7, 'module': 'self_attn.o_proj', 'loss': '0.00009', 'damp': '0.01000', 'time': '0.917'}\n",
      "INFO - {'layer': 7, 'module': 'mlp.up_proj', 'loss': '0.00910', 'damp': '0.01000', 'time': '0.962'}\n",
      "INFO - {'layer': 7, 'module': 'mlp.gate_proj', 'loss': '0.01470', 'damp': '0.01000', 'time': '1.060'}\n",
      "INFO - {'layer': 7, 'module': 'mlp.down_proj', 'loss': '0.00018', 'damp': '0.01000', 'time': '4.319'}\n"
     ]
    },
    {
     "name": "stdout",
     "output_type": "stream",
     "text": [
      " Quantizing mlp.down_proj in layer 7 of 15 |██████████████████████------------------| 0:15:05 / 0:26:48 [9/16] 56.2%"
     ]
    },
    {
     "name": "stderr",
     "output_type": "stream",
     "text": [
      "INFO - {'layer': 8, 'module': 'self_attn.k_proj', 'loss': '0.00634', 'damp': '0.01000', 'time': '1.012'}\n",
      "INFO - {'layer': 8, 'module': 'self_attn.v_proj', 'loss': '0.00065', 'damp': '0.01000', 'time': '1.088'}\n",
      "INFO - {'layer': 8, 'module': 'self_attn.q_proj', 'loss': '0.01048', 'damp': '0.01000', 'time': '1.115'}\n",
      "INFO - {'layer': 8, 'module': 'self_attn.o_proj', 'loss': '0.00012', 'damp': '0.01000', 'time': '0.959'}\n",
      "INFO - {'layer': 8, 'module': 'mlp.up_proj', 'loss': '0.00999', 'damp': '0.01000', 'time': '0.998'}\n",
      "INFO - {'layer': 8, 'module': 'mlp.gate_proj', 'loss': '0.01565', 'damp': '0.01000', 'time': '1.140'}\n",
      "INFO - {'layer': 8, 'module': 'mlp.down_proj', 'loss': '0.00024', 'damp': '0.01000', 'time': '4.375'}\n"
     ]
    },
    {
     "name": "stdout",
     "output_type": "stream",
     "text": [
      " Quantizing mlp.down_proj in layer 8 of 15 |█████████████████████████---------------| 0:16:57 / 0:27:07 [10/16] 62.5%"
     ]
    },
    {
     "name": "stderr",
     "output_type": "stream",
     "text": [
      "INFO - {'layer': 9, 'module': 'self_attn.k_proj', 'loss': '0.00513', 'damp': '0.01000', 'time': '1.061'}\n",
      "INFO - {'layer': 9, 'module': 'self_attn.v_proj', 'loss': '0.00079', 'damp': '0.01000', 'time': '0.951'}\n",
      "INFO - {'layer': 9, 'module': 'self_attn.q_proj', 'loss': '0.01255', 'damp': '0.01000', 'time': '0.996'}\n",
      "INFO - {'layer': 9, 'module': 'self_attn.o_proj', 'loss': '0.00016', 'damp': '0.01000', 'time': '0.943'}\n",
      "INFO - {'layer': 9, 'module': 'mlp.up_proj', 'loss': '0.01046', 'damp': '0.01000', 'time': '0.949'}\n",
      "INFO - {'layer': 9, 'module': 'mlp.gate_proj', 'loss': '0.01698', 'damp': '0.01000', 'time': '1.163'}\n",
      "INFO - {'layer': 9, 'module': 'mlp.down_proj', 'loss': '0.00029', 'damp': '0.01000', 'time': '4.339'}\n"
     ]
    },
    {
     "name": "stdout",
     "output_type": "stream",
     "text": [
      " Quantizing mlp.down_proj in layer 9 of 15 |███████████████████████████-------------| 0:18:50 / 0:27:23 [11/16] 68.8%"
     ]
    },
    {
     "name": "stderr",
     "output_type": "stream",
     "text": [
      "INFO - {'layer': 10, 'module': 'self_attn.k_proj', 'loss': '0.00620', 'damp': '0.01000', 'time': '0.949'}\n",
      "INFO - {'layer': 10, 'module': 'self_attn.v_proj', 'loss': '0.00092', 'damp': '0.01000', 'time': '0.990'}\n",
      "INFO - {'layer': 10, 'module': 'self_attn.q_proj', 'loss': '0.01298', 'damp': '0.01000', 'time': '1.039'}\n",
      "INFO - {'layer': 10, 'module': 'self_attn.o_proj', 'loss': '0.00011', 'damp': '0.01000', 'time': '0.950'}\n",
      "INFO - {'layer': 10, 'module': 'mlp.up_proj', 'loss': '0.01261', 'damp': '0.01000', 'time': '0.954'}\n",
      "INFO - {'layer': 10, 'module': 'mlp.gate_proj', 'loss': '0.01974', 'damp': '0.01000', 'time': '1.051'}\n",
      "INFO - {'layer': 10, 'module': 'mlp.down_proj', 'loss': '0.00038', 'damp': '0.01000', 'time': '4.645'}\n"
     ]
    },
    {
     "name": "stdout",
     "output_type": "stream",
     "text": [
      " Quantizing mlp.down_proj in layer 10 of 15 |██████████████████████████████----------| 0:20:43 / 0:27:37 [12/16] 75.0%"
     ]
    },
    {
     "name": "stderr",
     "output_type": "stream",
     "text": [
      "INFO - {'layer': 11, 'module': 'self_attn.k_proj', 'loss': '0.00777', 'damp': '0.01000', 'time': '0.905'}\n",
      "INFO - {'layer': 11, 'module': 'self_attn.v_proj', 'loss': '0.00096', 'damp': '0.01000', 'time': '0.987'}\n",
      "INFO - {'layer': 11, 'module': 'self_attn.q_proj', 'loss': '0.01328', 'damp': '0.01000', 'time': '1.163'}\n",
      "INFO - {'layer': 11, 'module': 'self_attn.o_proj', 'loss': '0.00009', 'damp': '0.01000', 'time': '0.912'}\n",
      "INFO - {'layer': 11, 'module': 'mlp.up_proj', 'loss': '0.01441', 'damp': '0.01000', 'time': '0.975'}\n",
      "INFO - {'layer': 11, 'module': 'mlp.gate_proj', 'loss': '0.02210', 'damp': '0.01000', 'time': '1.033'}\n",
      "INFO - {'layer': 11, 'module': 'mlp.down_proj', 'loss': '0.00042', 'damp': '0.01000', 'time': '4.163'}\n"
     ]
    },
    {
     "name": "stdout",
     "output_type": "stream",
     "text": [
      " Quantizing mlp.down_proj in layer 11 of 15 |████████████████████████████████--------| 0:22:35 / 0:27:47 [13/16] 81.2%"
     ]
    },
    {
     "name": "stderr",
     "output_type": "stream",
     "text": [
      "INFO - {'layer': 12, 'module': 'self_attn.k_proj', 'loss': '0.00809', 'damp': '0.01000', 'time': '0.946'}\n",
      "INFO - {'layer': 12, 'module': 'self_attn.v_proj', 'loss': '0.00098', 'damp': '0.01000', 'time': '0.950'}\n",
      "INFO - {'layer': 12, 'module': 'self_attn.q_proj', 'loss': '0.01353', 'damp': '0.01000', 'time': '1.031'}\n",
      "INFO - {'layer': 12, 'module': 'self_attn.o_proj', 'loss': '0.00009', 'damp': '0.01000', 'time': '0.983'}\n",
      "INFO - {'layer': 12, 'module': 'mlp.up_proj', 'loss': '0.01514', 'damp': '0.01000', 'time': '1.024'}\n",
      "INFO - {'layer': 12, 'module': 'mlp.gate_proj', 'loss': '0.02201', 'damp': '0.01000', 'time': '1.040'}\n",
      "INFO - {'layer': 12, 'module': 'mlp.down_proj', 'loss': '0.00048', 'damp': '0.01000', 'time': '4.588'}\n"
     ]
    },
    {
     "name": "stdout",
     "output_type": "stream",
     "text": [
      " Quantizing mlp.down_proj in layer 12 of 15 |███████████████████████████████████-----| 0:24:28 / 0:27:57 [14/16] 87.5%"
     ]
    },
    {
     "name": "stderr",
     "output_type": "stream",
     "text": [
      "INFO - {'layer': 13, 'module': 'self_attn.k_proj', 'loss': '0.00799', 'damp': '0.01000', 'time': '0.950'}\n",
      "INFO - {'layer': 13, 'module': 'self_attn.v_proj', 'loss': '0.00168', 'damp': '0.01000', 'time': '0.983'}\n",
      "INFO - {'layer': 13, 'module': 'self_attn.q_proj', 'loss': '0.01570', 'damp': '0.01000', 'time': '1.121'}\n",
      "INFO - {'layer': 13, 'module': 'self_attn.o_proj', 'loss': '0.00011', 'damp': '0.01000', 'time': '0.919'}\n",
      "INFO - {'layer': 13, 'module': 'mlp.up_proj', 'loss': '0.01801', 'damp': '0.01000', 'time': '0.970'}\n",
      "INFO - {'layer': 13, 'module': 'mlp.gate_proj', 'loss': '0.02394', 'damp': '0.01000', 'time': '0.987'}\n",
      "INFO - {'layer': 13, 'module': 'mlp.down_proj', 'loss': '0.00070', 'damp': '0.01000', 'time': '4.482'}\n"
     ]
    },
    {
     "name": "stdout",
     "output_type": "stream",
     "text": [
      " Quantizing mlp.down_proj in layer 13 of 15 |█████████████████████████████████████---| 0:26:21 / 0:28:06 [15/16] 93.8%"
     ]
    },
    {
     "name": "stderr",
     "output_type": "stream",
     "text": [
      "INFO - {'layer': 14, 'module': 'self_attn.k_proj', 'loss': '0.00904', 'damp': '0.01000', 'time': '1.074'}\n",
      "INFO - {'layer': 14, 'module': 'self_attn.v_proj', 'loss': '0.00395', 'damp': '0.01000', 'time': '1.171'}\n",
      "INFO - {'layer': 14, 'module': 'self_attn.q_proj', 'loss': '0.01656', 'damp': '0.01000', 'time': '1.099'}\n",
      "INFO - {'layer': 14, 'module': 'self_attn.o_proj', 'loss': '0.00024', 'damp': '0.01000', 'time': '0.906'}\n",
      "INFO - {'layer': 14, 'module': 'mlp.up_proj', 'loss': '0.02054', 'damp': '0.01000', 'time': '0.959'}\n",
      "INFO - {'layer': 14, 'module': 'mlp.gate_proj', 'loss': '0.02956', 'damp': '0.01000', 'time': '1.016'}\n",
      "INFO - {'layer': 14, 'module': 'mlp.down_proj', 'loss': '0.00093', 'damp': '0.01000', 'time': '4.258'}\n"
     ]
    },
    {
     "name": "stdout",
     "output_type": "stream",
     "text": [
      " Quantizing mlp.down_proj in layer 14 of 15 |████████████████████████████████████████| 0:28:14 / 0:28:14 [16/16] 100.0%"
     ]
    },
    {
     "name": "stderr",
     "output_type": "stream",
     "text": [
      "INFO - {'layer': 15, 'module': 'self_attn.k_proj', 'loss': '0.00867', 'damp': '0.01000', 'time': '1.065'}\n",
      "INFO - {'layer': 15, 'module': 'self_attn.v_proj', 'loss': '0.00374', 'damp': '0.01000', 'time': '1.166'}\n",
      "INFO - {'layer': 15, 'module': 'self_attn.q_proj', 'loss': '0.01511', 'damp': '0.01000', 'time': '1.046'}\n",
      "INFO - {'layer': 15, 'module': 'self_attn.o_proj', 'loss': '0.00132', 'damp': '0.01000', 'time': '0.935'}\n",
      "INFO - {'layer': 15, 'module': 'mlp.up_proj', 'loss': '0.02557', 'damp': '0.01000', 'time': '1.135'}\n",
      "INFO - {'layer': 15, 'module': 'mlp.gate_proj', 'loss': '0.03385', 'damp': '0.01000', 'time': '1.129'}\n",
      "INFO - {'layer': 15, 'module': 'mlp.down_proj', 'loss': '0.00231', 'damp': '0.01000', 'time': '4.145'}\n",
      "INFO - Quantization summary:\n",
      "[{'layer': 0, 'module': 'self_attn.k_proj', 'loss': '0.00212', 'damp': '0.01000', 'time': '1.374'}, {'layer': 0, 'module': 'self_attn.v_proj', 'loss': '0.00006', 'damp': '0.01000', 'time': '1.366'}, {'layer': 0, 'module': 'self_attn.q_proj', 'loss': '0.00436', 'damp': '0.01000', 'time': '1.190'}, {'layer': 0, 'module': 'self_attn.o_proj', 'loss': '0.00001', 'damp': '0.01000', 'time': '0.987'}, {'layer': 0, 'module': 'mlp.up_proj', 'loss': '0.00392', 'damp': '0.01000', 'time': '0.976'}, {'layer': 0, 'module': 'mlp.gate_proj', 'loss': '0.00493', 'damp': '0.01000', 'time': '1.114'}, {'layer': 0, 'module': 'mlp.down_proj', 'loss': '0.00003', 'damp': '0.01000', 'time': '4.383'}, {'layer': 1, 'module': 'self_attn.k_proj', 'loss': '0.00357', 'damp': '0.01000', 'time': '0.898'}, {'layer': 1, 'module': 'self_attn.v_proj', 'loss': '0.00021', 'damp': '0.01000', 'time': '0.920'}, {'layer': 1, 'module': 'self_attn.q_proj', 'loss': '0.00688', 'damp': '0.01000', 'time': '0.989'}, {'layer': 1, 'module': 'self_attn.o_proj', 'loss': '0.00002', 'damp': '0.01000', 'time': '0.900'}, {'layer': 1, 'module': 'mlp.up_proj', 'loss': '0.00573', 'damp': '0.01000', 'time': '0.964'}, {'layer': 1, 'module': 'mlp.gate_proj', 'loss': '0.00785', 'damp': '0.01000', 'time': '0.967'}, {'layer': 1, 'module': 'mlp.down_proj', 'loss': '0.00274', 'damp': '0.01000', 'time': '4.260'}, {'layer': 2, 'module': 'self_attn.k_proj', 'loss': '0.00734', 'damp': '0.01000', 'time': '1.241'}, {'layer': 2, 'module': 'self_attn.v_proj', 'loss': '0.00051', 'damp': '0.01000', 'time': '1.156'}, {'layer': 2, 'module': 'self_attn.q_proj', 'loss': '0.01404', 'damp': '0.01000', 'time': '1.000'}, {'layer': 2, 'module': 'self_attn.o_proj', 'loss': '0.00002', 'damp': '0.01000', 'time': '0.917'}, {'layer': 2, 'module': 'mlp.up_proj', 'loss': '0.00747', 'damp': '0.01000', 'time': '0.979'}, {'layer': 2, 'module': 'mlp.gate_proj', 'loss': '0.01184', 'damp': '0.01000', 'time': '0.954'}, {'layer': 2, 'module': 'mlp.down_proj', 'loss': '0.00009', 'damp': '0.01000', 'time': '4.387'}, {'layer': 3, 'module': 'self_attn.k_proj', 'loss': '0.00464', 'damp': '0.01000', 'time': '0.868'}, {'layer': 3, 'module': 'self_attn.v_proj', 'loss': '0.00064', 'damp': '0.01000', 'time': '0.963'}, {'layer': 3, 'module': 'self_attn.q_proj', 'loss': '0.01019', 'damp': '0.01000', 'time': '0.991'}, {'layer': 3, 'module': 'self_attn.o_proj', 'loss': '0.00004', 'damp': '0.01000', 'time': '0.892'}, {'layer': 3, 'module': 'mlp.up_proj', 'loss': '0.00871', 'damp': '0.01000', 'time': '1.143'}, {'layer': 3, 'module': 'mlp.gate_proj', 'loss': '0.01724', 'damp': '0.01000', 'time': '1.059'}, {'layer': 3, 'module': 'mlp.down_proj', 'loss': '0.00013', 'damp': '0.01000', 'time': '4.204'}, {'layer': 4, 'module': 'self_attn.k_proj', 'loss': '0.00474', 'damp': '0.01000', 'time': '1.149'}, {'layer': 4, 'module': 'self_attn.v_proj', 'loss': '0.00057', 'damp': '0.01000', 'time': '0.957'}, {'layer': 4, 'module': 'self_attn.q_proj', 'loss': '0.00985', 'damp': '0.01000', 'time': '1.140'}, {'layer': 4, 'module': 'self_attn.o_proj', 'loss': '0.00007', 'damp': '0.01000', 'time': '0.936'}, {'layer': 4, 'module': 'mlp.up_proj', 'loss': '0.00852', 'damp': '0.01000', 'time': '1.068'}, {'layer': 4, 'module': 'mlp.gate_proj', 'loss': '0.01827', 'damp': '0.01000', 'time': '0.975'}, {'layer': 4, 'module': 'mlp.down_proj', 'loss': '0.00014', 'damp': '0.01000', 'time': '4.097'}, {'layer': 5, 'module': 'self_attn.k_proj', 'loss': '0.00728', 'damp': '0.01000', 'time': '0.987'}, {'layer': 5, 'module': 'self_attn.v_proj', 'loss': '0.00048', 'damp': '0.01000', 'time': '1.088'}, {'layer': 5, 'module': 'self_attn.q_proj', 'loss': '0.01225', 'damp': '0.01000', 'time': '1.260'}, {'layer': 5, 'module': 'self_attn.o_proj', 'loss': '0.00007', 'damp': '0.01000', 'time': '0.885'}, {'layer': 5, 'module': 'mlp.up_proj', 'loss': '0.00896', 'damp': '0.01000', 'time': '0.969'}, {'layer': 5, 'module': 'mlp.gate_proj', 'loss': '0.01642', 'damp': '0.01000', 'time': '0.990'}, {'layer': 5, 'module': 'mlp.down_proj', 'loss': '0.00017', 'damp': '0.01000', 'time': '3.917'}, {'layer': 6, 'module': 'self_attn.k_proj', 'loss': '0.00550', 'damp': '0.01000', 'time': '0.884'}, {'layer': 6, 'module': 'self_attn.v_proj', 'loss': '0.00061', 'damp': '0.01000', 'time': '1.074'}, {'layer': 6, 'module': 'self_attn.q_proj', 'loss': '0.00877', 'damp': '0.01000', 'time': '0.992'}, {'layer': 6, 'module': 'self_attn.o_proj', 'loss': '0.00010', 'damp': '0.01000', 'time': '1.095'}, {'layer': 6, 'module': 'mlp.up_proj', 'loss': '0.00898', 'damp': '0.01000', 'time': '1.000'}, {'layer': 6, 'module': 'mlp.gate_proj', 'loss': '0.01606', 'damp': '0.01000', 'time': '1.000'}, {'layer': 6, 'module': 'mlp.down_proj', 'loss': '0.00017', 'damp': '0.01000', 'time': '4.068'}, {'layer': 7, 'module': 'self_attn.k_proj', 'loss': '0.00538', 'damp': '0.01000', 'time': '0.935'}, {'layer': 7, 'module': 'self_attn.v_proj', 'loss': '0.00069', 'damp': '0.01000', 'time': '0.945'}, {'layer': 7, 'module': 'self_attn.q_proj', 'loss': '0.01020', 'damp': '0.01000', 'time': '1.073'}, {'layer': 7, 'module': 'self_attn.o_proj', 'loss': '0.00009', 'damp': '0.01000', 'time': '0.917'}, {'layer': 7, 'module': 'mlp.up_proj', 'loss': '0.00910', 'damp': '0.01000', 'time': '0.962'}, {'layer': 7, 'module': 'mlp.gate_proj', 'loss': '0.01470', 'damp': '0.01000', 'time': '1.060'}, {'layer': 7, 'module': 'mlp.down_proj', 'loss': '0.00018', 'damp': '0.01000', 'time': '4.319'}, {'layer': 8, 'module': 'self_attn.k_proj', 'loss': '0.00634', 'damp': '0.01000', 'time': '1.012'}, {'layer': 8, 'module': 'self_attn.v_proj', 'loss': '0.00065', 'damp': '0.01000', 'time': '1.088'}, {'layer': 8, 'module': 'self_attn.q_proj', 'loss': '0.01048', 'damp': '0.01000', 'time': '1.115'}, {'layer': 8, 'module': 'self_attn.o_proj', 'loss': '0.00012', 'damp': '0.01000', 'time': '0.959'}, {'layer': 8, 'module': 'mlp.up_proj', 'loss': '0.00999', 'damp': '0.01000', 'time': '0.998'}, {'layer': 8, 'module': 'mlp.gate_proj', 'loss': '0.01565', 'damp': '0.01000', 'time': '1.140'}, {'layer': 8, 'module': 'mlp.down_proj', 'loss': '0.00024', 'damp': '0.01000', 'time': '4.375'}, {'layer': 9, 'module': 'self_attn.k_proj', 'loss': '0.00513', 'damp': '0.01000', 'time': '1.061'}, {'layer': 9, 'module': 'self_attn.v_proj', 'loss': '0.00079', 'damp': '0.01000', 'time': '0.951'}, {'layer': 9, 'module': 'self_attn.q_proj', 'loss': '0.01255', 'damp': '0.01000', 'time': '0.996'}, {'layer': 9, 'module': 'self_attn.o_proj', 'loss': '0.00016', 'damp': '0.01000', 'time': '0.943'}, {'layer': 9, 'module': 'mlp.up_proj', 'loss': '0.01046', 'damp': '0.01000', 'time': '0.949'}, {'layer': 9, 'module': 'mlp.gate_proj', 'loss': '0.01698', 'damp': '0.01000', 'time': '1.163'}, {'layer': 9, 'module': 'mlp.down_proj', 'loss': '0.00029', 'damp': '0.01000', 'time': '4.339'}, {'layer': 10, 'module': 'self_attn.k_proj', 'loss': '0.00620', 'damp': '0.01000', 'time': '0.949'}, {'layer': 10, 'module': 'self_attn.v_proj', 'loss': '0.00092', 'damp': '0.01000', 'time': '0.990'}, {'layer': 10, 'module': 'self_attn.q_proj', 'loss': '0.01298', 'damp': '0.01000', 'time': '1.039'}, {'layer': 10, 'module': 'self_attn.o_proj', 'loss': '0.00011', 'damp': '0.01000', 'time': '0.950'}, {'layer': 10, 'module': 'mlp.up_proj', 'loss': '0.01261', 'damp': '0.01000', 'time': '0.954'}, {'layer': 10, 'module': 'mlp.gate_proj', 'loss': '0.01974', 'damp': '0.01000', 'time': '1.051'}, {'layer': 10, 'module': 'mlp.down_proj', 'loss': '0.00038', 'damp': '0.01000', 'time': '4.645'}, {'layer': 11, 'module': 'self_attn.k_proj', 'loss': '0.00777', 'damp': '0.01000', 'time': '0.905'}, {'layer': 11, 'module': 'self_attn.v_proj', 'loss': '0.00096', 'damp': '0.01000', 'time': '0.987'}, {'layer': 11, 'module': 'self_attn.q_proj', 'loss': '0.01328', 'damp': '0.01000', 'time': '1.163'}, {'layer': 11, 'module': 'self_attn.o_proj', 'loss': '0.00009', 'damp': '0.01000', 'time': '0.912'}, {'layer': 11, 'module': 'mlp.up_proj', 'loss': '0.01441', 'damp': '0.01000', 'time': '0.975'}, {'layer': 11, 'module': 'mlp.gate_proj', 'loss': '0.02210', 'damp': '0.01000', 'time': '1.033'}, {'layer': 11, 'module': 'mlp.down_proj', 'loss': '0.00042', 'damp': '0.01000', 'time': '4.163'}, {'layer': 12, 'module': 'self_attn.k_proj', 'loss': '0.00809', 'damp': '0.01000', 'time': '0.946'}, {'layer': 12, 'module': 'self_attn.v_proj', 'loss': '0.00098', 'damp': '0.01000', 'time': '0.950'}, {'layer': 12, 'module': 'self_attn.q_proj', 'loss': '0.01353', 'damp': '0.01000', 'time': '1.031'}, {'layer': 12, 'module': 'self_attn.o_proj', 'loss': '0.00009', 'damp': '0.01000', 'time': '0.983'}, {'layer': 12, 'module': 'mlp.up_proj', 'loss': '0.01514', 'damp': '0.01000', 'time': '1.024'}, {'layer': 12, 'module': 'mlp.gate_proj', 'loss': '0.02201', 'damp': '0.01000', 'time': '1.040'}, {'layer': 12, 'module': 'mlp.down_proj', 'loss': '0.00048', 'damp': '0.01000', 'time': '4.588'}, {'layer': 13, 'module': 'self_attn.k_proj', 'loss': '0.00799', 'damp': '0.01000', 'time': '0.950'}, {'layer': 13, 'module': 'self_attn.v_proj', 'loss': '0.00168', 'damp': '0.01000', 'time': '0.983'}, {'layer': 13, 'module': 'self_attn.q_proj', 'loss': '0.01570', 'damp': '0.01000', 'time': '1.121'}, {'layer': 13, 'module': 'self_attn.o_proj', 'loss': '0.00011', 'damp': '0.01000', 'time': '0.919'}, {'layer': 13, 'module': 'mlp.up_proj', 'loss': '0.01801', 'damp': '0.01000', 'time': '0.970'}, {'layer': 13, 'module': 'mlp.gate_proj', 'loss': '0.02394', 'damp': '0.01000', 'time': '0.987'}, {'layer': 13, 'module': 'mlp.down_proj', 'loss': '0.00070', 'damp': '0.01000', 'time': '4.482'}, {'layer': 14, 'module': 'self_attn.k_proj', 'loss': '0.00904', 'damp': '0.01000', 'time': '1.074'}, {'layer': 14, 'module': 'self_attn.v_proj', 'loss': '0.00395', 'damp': '0.01000', 'time': '1.171'}, {'layer': 14, 'module': 'self_attn.q_proj', 'loss': '0.01656', 'damp': '0.01000', 'time': '1.099'}, {'layer': 14, 'module': 'self_attn.o_proj', 'loss': '0.00024', 'damp': '0.01000', 'time': '0.906'}, {'layer': 14, 'module': 'mlp.up_proj', 'loss': '0.02054', 'damp': '0.01000', 'time': '0.959'}, {'layer': 14, 'module': 'mlp.gate_proj', 'loss': '0.02956', 'damp': '0.01000', 'time': '1.016'}, {'layer': 14, 'module': 'mlp.down_proj', 'loss': '0.00093', 'damp': '0.01000', 'time': '4.258'}, {'layer': 15, 'module': 'self_attn.k_proj', 'loss': '0.00867', 'damp': '0.01000', 'time': '1.065'}, {'layer': 15, 'module': 'self_attn.v_proj', 'loss': '0.00374', 'damp': '0.01000', 'time': '1.166'}, {'layer': 15, 'module': 'self_attn.q_proj', 'loss': '0.01511', 'damp': '0.01000', 'time': '1.046'}, {'layer': 15, 'module': 'self_attn.o_proj', 'loss': '0.00132', 'damp': '0.01000', 'time': '0.935'}, {'layer': 15, 'module': 'mlp.up_proj', 'loss': '0.02557', 'damp': '0.01000', 'time': '1.135'}, {'layer': 15, 'module': 'mlp.gate_proj', 'loss': '0.03385', 'damp': '0.01000', 'time': '1.129'}, {'layer': 15, 'module': 'mlp.down_proj', 'loss': '0.00231', 'damp': '0.01000', 'time': '4.145'}]\n",
      "INFO - {'layer': 0, 'module': 'self_attn.k_proj', 'loss': '0.00212', 'damp': '0.01000', 'time': '1.374'}\n",
      "INFO - {'layer': 0, 'module': 'self_attn.v_proj', 'loss': '0.00006', 'damp': '0.01000', 'time': '1.366'}\n",
      "INFO - {'layer': 0, 'module': 'self_attn.q_proj', 'loss': '0.00436', 'damp': '0.01000', 'time': '1.190'}\n",
      "INFO - {'layer': 0, 'module': 'self_attn.o_proj', 'loss': '0.00001', 'damp': '0.01000', 'time': '0.987'}\n",
      "INFO - {'layer': 0, 'module': 'mlp.up_proj', 'loss': '0.00392', 'damp': '0.01000', 'time': '0.976'}\n",
      "INFO - {'layer': 0, 'module': 'mlp.gate_proj', 'loss': '0.00493', 'damp': '0.01000', 'time': '1.114'}\n",
      "INFO - {'layer': 0, 'module': 'mlp.down_proj', 'loss': '0.00003', 'damp': '0.01000', 'time': '4.383'}\n",
      "INFO - {'layer': 1, 'module': 'self_attn.k_proj', 'loss': '0.00357', 'damp': '0.01000', 'time': '0.898'}\n",
      "INFO - {'layer': 1, 'module': 'self_attn.v_proj', 'loss': '0.00021', 'damp': '0.01000', 'time': '0.920'}\n",
      "INFO - {'layer': 1, 'module': 'self_attn.q_proj', 'loss': '0.00688', 'damp': '0.01000', 'time': '0.989'}\n",
      "INFO - {'layer': 1, 'module': 'self_attn.o_proj', 'loss': '0.00002', 'damp': '0.01000', 'time': '0.900'}\n",
      "INFO - {'layer': 1, 'module': 'mlp.up_proj', 'loss': '0.00573', 'damp': '0.01000', 'time': '0.964'}\n",
      "INFO - {'layer': 1, 'module': 'mlp.gate_proj', 'loss': '0.00785', 'damp': '0.01000', 'time': '0.967'}\n",
      "INFO - {'layer': 1, 'module': 'mlp.down_proj', 'loss': '0.00274', 'damp': '0.01000', 'time': '4.260'}\n",
      "INFO - {'layer': 2, 'module': 'self_attn.k_proj', 'loss': '0.00734', 'damp': '0.01000', 'time': '1.241'}\n",
      "INFO - {'layer': 2, 'module': 'self_attn.v_proj', 'loss': '0.00051', 'damp': '0.01000', 'time': '1.156'}\n",
      "INFO - {'layer': 2, 'module': 'self_attn.q_proj', 'loss': '0.01404', 'damp': '0.01000', 'time': '1.000'}\n",
      "INFO - {'layer': 2, 'module': 'self_attn.o_proj', 'loss': '0.00002', 'damp': '0.01000', 'time': '0.917'}\n",
      "INFO - {'layer': 2, 'module': 'mlp.up_proj', 'loss': '0.00747', 'damp': '0.01000', 'time': '0.979'}\n",
      "INFO - {'layer': 2, 'module': 'mlp.gate_proj', 'loss': '0.01184', 'damp': '0.01000', 'time': '0.954'}\n",
      "INFO - {'layer': 2, 'module': 'mlp.down_proj', 'loss': '0.00009', 'damp': '0.01000', 'time': '4.387'}\n",
      "INFO - {'layer': 3, 'module': 'self_attn.k_proj', 'loss': '0.00464', 'damp': '0.01000', 'time': '0.868'}\n",
      "INFO - {'layer': 3, 'module': 'self_attn.v_proj', 'loss': '0.00064', 'damp': '0.01000', 'time': '0.963'}\n",
      "INFO - {'layer': 3, 'module': 'self_attn.q_proj', 'loss': '0.01019', 'damp': '0.01000', 'time': '0.991'}\n",
      "INFO - {'layer': 3, 'module': 'self_attn.o_proj', 'loss': '0.00004', 'damp': '0.01000', 'time': '0.892'}\n",
      "INFO - {'layer': 3, 'module': 'mlp.up_proj', 'loss': '0.00871', 'damp': '0.01000', 'time': '1.143'}\n",
      "INFO - {'layer': 3, 'module': 'mlp.gate_proj', 'loss': '0.01724', 'damp': '0.01000', 'time': '1.059'}\n",
      "INFO - {'layer': 3, 'module': 'mlp.down_proj', 'loss': '0.00013', 'damp': '0.01000', 'time': '4.204'}\n",
      "INFO - {'layer': 4, 'module': 'self_attn.k_proj', 'loss': '0.00474', 'damp': '0.01000', 'time': '1.149'}\n",
      "INFO - {'layer': 4, 'module': 'self_attn.v_proj', 'loss': '0.00057', 'damp': '0.01000', 'time': '0.957'}\n",
      "INFO - {'layer': 4, 'module': 'self_attn.q_proj', 'loss': '0.00985', 'damp': '0.01000', 'time': '1.140'}\n",
      "INFO - {'layer': 4, 'module': 'self_attn.o_proj', 'loss': '0.00007', 'damp': '0.01000', 'time': '0.936'}\n",
      "INFO - {'layer': 4, 'module': 'mlp.up_proj', 'loss': '0.00852', 'damp': '0.01000', 'time': '1.068'}\n",
      "INFO - {'layer': 4, 'module': 'mlp.gate_proj', 'loss': '0.01827', 'damp': '0.01000', 'time': '0.975'}\n",
      "INFO - {'layer': 4, 'module': 'mlp.down_proj', 'loss': '0.00014', 'damp': '0.01000', 'time': '4.097'}\n",
      "INFO - {'layer': 5, 'module': 'self_attn.k_proj', 'loss': '0.00728', 'damp': '0.01000', 'time': '0.987'}\n",
      "INFO - {'layer': 5, 'module': 'self_attn.v_proj', 'loss': '0.00048', 'damp': '0.01000', 'time': '1.088'}\n",
      "INFO - {'layer': 5, 'module': 'self_attn.q_proj', 'loss': '0.01225', 'damp': '0.01000', 'time': '1.260'}\n",
      "INFO - {'layer': 5, 'module': 'self_attn.o_proj', 'loss': '0.00007', 'damp': '0.01000', 'time': '0.885'}\n",
      "INFO - {'layer': 5, 'module': 'mlp.up_proj', 'loss': '0.00896', 'damp': '0.01000', 'time': '0.969'}\n",
      "INFO - {'layer': 5, 'module': 'mlp.gate_proj', 'loss': '0.01642', 'damp': '0.01000', 'time': '0.990'}\n",
      "INFO - {'layer': 5, 'module': 'mlp.down_proj', 'loss': '0.00017', 'damp': '0.01000', 'time': '3.917'}\n",
      "INFO - {'layer': 6, 'module': 'self_attn.k_proj', 'loss': '0.00550', 'damp': '0.01000', 'time': '0.884'}\n",
      "INFO - {'layer': 6, 'module': 'self_attn.v_proj', 'loss': '0.00061', 'damp': '0.01000', 'time': '1.074'}\n",
      "INFO - {'layer': 6, 'module': 'self_attn.q_proj', 'loss': '0.00877', 'damp': '0.01000', 'time': '0.992'}\n",
      "INFO - {'layer': 6, 'module': 'self_attn.o_proj', 'loss': '0.00010', 'damp': '0.01000', 'time': '1.095'}\n",
      "INFO - {'layer': 6, 'module': 'mlp.up_proj', 'loss': '0.00898', 'damp': '0.01000', 'time': '1.000'}\n",
      "INFO - {'layer': 6, 'module': 'mlp.gate_proj', 'loss': '0.01606', 'damp': '0.01000', 'time': '1.000'}\n",
      "INFO - {'layer': 6, 'module': 'mlp.down_proj', 'loss': '0.00017', 'damp': '0.01000', 'time': '4.068'}\n",
      "INFO - {'layer': 7, 'module': 'self_attn.k_proj', 'loss': '0.00538', 'damp': '0.01000', 'time': '0.935'}\n",
      "INFO - {'layer': 7, 'module': 'self_attn.v_proj', 'loss': '0.00069', 'damp': '0.01000', 'time': '0.945'}\n",
      "INFO - {'layer': 7, 'module': 'self_attn.q_proj', 'loss': '0.01020', 'damp': '0.01000', 'time': '1.073'}\n",
      "INFO - {'layer': 7, 'module': 'self_attn.o_proj', 'loss': '0.00009', 'damp': '0.01000', 'time': '0.917'}\n",
      "INFO - {'layer': 7, 'module': 'mlp.up_proj', 'loss': '0.00910', 'damp': '0.01000', 'time': '0.962'}\n",
      "INFO - {'layer': 7, 'module': 'mlp.gate_proj', 'loss': '0.01470', 'damp': '0.01000', 'time': '1.060'}\n",
      "INFO - {'layer': 7, 'module': 'mlp.down_proj', 'loss': '0.00018', 'damp': '0.01000', 'time': '4.319'}\n",
      "INFO - {'layer': 8, 'module': 'self_attn.k_proj', 'loss': '0.00634', 'damp': '0.01000', 'time': '1.012'}\n",
      "INFO - {'layer': 8, 'module': 'self_attn.v_proj', 'loss': '0.00065', 'damp': '0.01000', 'time': '1.088'}\n",
      "INFO - {'layer': 8, 'module': 'self_attn.q_proj', 'loss': '0.01048', 'damp': '0.01000', 'time': '1.115'}\n",
      "INFO - {'layer': 8, 'module': 'self_attn.o_proj', 'loss': '0.00012', 'damp': '0.01000', 'time': '0.959'}\n",
      "INFO - {'layer': 8, 'module': 'mlp.up_proj', 'loss': '0.00999', 'damp': '0.01000', 'time': '0.998'}\n",
      "INFO - {'layer': 8, 'module': 'mlp.gate_proj', 'loss': '0.01565', 'damp': '0.01000', 'time': '1.140'}\n",
      "INFO - {'layer': 8, 'module': 'mlp.down_proj', 'loss': '0.00024', 'damp': '0.01000', 'time': '4.375'}\n",
      "INFO - {'layer': 9, 'module': 'self_attn.k_proj', 'loss': '0.00513', 'damp': '0.01000', 'time': '1.061'}\n",
      "INFO - {'layer': 9, 'module': 'self_attn.v_proj', 'loss': '0.00079', 'damp': '0.01000', 'time': '0.951'}\n",
      "INFO - {'layer': 9, 'module': 'self_attn.q_proj', 'loss': '0.01255', 'damp': '0.01000', 'time': '0.996'}\n",
      "INFO - {'layer': 9, 'module': 'self_attn.o_proj', 'loss': '0.00016', 'damp': '0.01000', 'time': '0.943'}\n",
      "INFO - {'layer': 9, 'module': 'mlp.up_proj', 'loss': '0.01046', 'damp': '0.01000', 'time': '0.949'}\n",
      "INFO - {'layer': 9, 'module': 'mlp.gate_proj', 'loss': '0.01698', 'damp': '0.01000', 'time': '1.163'}\n",
      "INFO - {'layer': 9, 'module': 'mlp.down_proj', 'loss': '0.00029', 'damp': '0.01000', 'time': '4.339'}\n",
      "INFO - {'layer': 10, 'module': 'self_attn.k_proj', 'loss': '0.00620', 'damp': '0.01000', 'time': '0.949'}\n",
      "INFO - {'layer': 10, 'module': 'self_attn.v_proj', 'loss': '0.00092', 'damp': '0.01000', 'time': '0.990'}\n",
      "INFO - {'layer': 10, 'module': 'self_attn.q_proj', 'loss': '0.01298', 'damp': '0.01000', 'time': '1.039'}\n",
      "INFO - {'layer': 10, 'module': 'self_attn.o_proj', 'loss': '0.00011', 'damp': '0.01000', 'time': '0.950'}\n",
      "INFO - {'layer': 10, 'module': 'mlp.up_proj', 'loss': '0.01261', 'damp': '0.01000', 'time': '0.954'}\n",
      "INFO - {'layer': 10, 'module': 'mlp.gate_proj', 'loss': '0.01974', 'damp': '0.01000', 'time': '1.051'}\n",
      "INFO - {'layer': 10, 'module': 'mlp.down_proj', 'loss': '0.00038', 'damp': '0.01000', 'time': '4.645'}\n",
      "INFO - {'layer': 11, 'module': 'self_attn.k_proj', 'loss': '0.00777', 'damp': '0.01000', 'time': '0.905'}\n",
      "INFO - {'layer': 11, 'module': 'self_attn.v_proj', 'loss': '0.00096', 'damp': '0.01000', 'time': '0.987'}\n",
      "INFO - {'layer': 11, 'module': 'self_attn.q_proj', 'loss': '0.01328', 'damp': '0.01000', 'time': '1.163'}\n",
      "INFO - {'layer': 11, 'module': 'self_attn.o_proj', 'loss': '0.00009', 'damp': '0.01000', 'time': '0.912'}\n",
      "INFO - {'layer': 11, 'module': 'mlp.up_proj', 'loss': '0.01441', 'damp': '0.01000', 'time': '0.975'}\n",
      "INFO - {'layer': 11, 'module': 'mlp.gate_proj', 'loss': '0.02210', 'damp': '0.01000', 'time': '1.033'}\n",
      "INFO - {'layer': 11, 'module': 'mlp.down_proj', 'loss': '0.00042', 'damp': '0.01000', 'time': '4.163'}\n",
      "INFO - {'layer': 12, 'module': 'self_attn.k_proj', 'loss': '0.00809', 'damp': '0.01000', 'time': '0.946'}\n",
      "INFO - {'layer': 12, 'module': 'self_attn.v_proj', 'loss': '0.00098', 'damp': '0.01000', 'time': '0.950'}\n",
      "INFO - {'layer': 12, 'module': 'self_attn.q_proj', 'loss': '0.01353', 'damp': '0.01000', 'time': '1.031'}\n",
      "INFO - {'layer': 12, 'module': 'self_attn.o_proj', 'loss': '0.00009', 'damp': '0.01000', 'time': '0.983'}\n",
      "INFO - {'layer': 12, 'module': 'mlp.up_proj', 'loss': '0.01514', 'damp': '0.01000', 'time': '1.024'}\n",
      "INFO - {'layer': 12, 'module': 'mlp.gate_proj', 'loss': '0.02201', 'damp': '0.01000', 'time': '1.040'}\n",
      "INFO - {'layer': 12, 'module': 'mlp.down_proj', 'loss': '0.00048', 'damp': '0.01000', 'time': '4.588'}\n",
      "INFO - {'layer': 13, 'module': 'self_attn.k_proj', 'loss': '0.00799', 'damp': '0.01000', 'time': '0.950'}\n",
      "INFO - {'layer': 13, 'module': 'self_attn.v_proj', 'loss': '0.00168', 'damp': '0.01000', 'time': '0.983'}\n",
      "INFO - {'layer': 13, 'module': 'self_attn.q_proj', 'loss': '0.01570', 'damp': '0.01000', 'time': '1.121'}\n",
      "INFO - {'layer': 13, 'module': 'self_attn.o_proj', 'loss': '0.00011', 'damp': '0.01000', 'time': '0.919'}\n",
      "INFO - {'layer': 13, 'module': 'mlp.up_proj', 'loss': '0.01801', 'damp': '0.01000', 'time': '0.970'}\n",
      "INFO - {'layer': 13, 'module': 'mlp.gate_proj', 'loss': '0.02394', 'damp': '0.01000', 'time': '0.987'}\n",
      "INFO - {'layer': 13, 'module': 'mlp.down_proj', 'loss': '0.00070', 'damp': '0.01000', 'time': '4.482'}\n",
      "INFO - {'layer': 14, 'module': 'self_attn.k_proj', 'loss': '0.00904', 'damp': '0.01000', 'time': '1.074'}\n",
      "INFO - {'layer': 14, 'module': 'self_attn.v_proj', 'loss': '0.00395', 'damp': '0.01000', 'time': '1.171'}\n",
      "INFO - {'layer': 14, 'module': 'self_attn.q_proj', 'loss': '0.01656', 'damp': '0.01000', 'time': '1.099'}\n",
      "INFO - {'layer': 14, 'module': 'self_attn.o_proj', 'loss': '0.00024', 'damp': '0.01000', 'time': '0.906'}\n",
      "INFO - {'layer': 14, 'module': 'mlp.up_proj', 'loss': '0.02054', 'damp': '0.01000', 'time': '0.959'}\n",
      "INFO - {'layer': 14, 'module': 'mlp.gate_proj', 'loss': '0.02956', 'damp': '0.01000', 'time': '1.016'}\n",
      "INFO - {'layer': 14, 'module': 'mlp.down_proj', 'loss': '0.00093', 'damp': '0.01000', 'time': '4.258'}\n",
      "INFO - {'layer': 15, 'module': 'self_attn.k_proj', 'loss': '0.00867', 'damp': '0.01000', 'time': '1.065'}\n",
      "INFO - {'layer': 15, 'module': 'self_attn.v_proj', 'loss': '0.00374', 'damp': '0.01000', 'time': '1.166'}\n",
      "INFO - {'layer': 15, 'module': 'self_attn.q_proj', 'loss': '0.01511', 'damp': '0.01000', 'time': '1.046'}\n",
      "INFO - {'layer': 15, 'module': 'self_attn.o_proj', 'loss': '0.00132', 'damp': '0.01000', 'time': '0.935'}\n",
      "INFO - {'layer': 15, 'module': 'mlp.up_proj', 'loss': '0.02557', 'damp': '0.01000', 'time': '1.135'}\n",
      "INFO - {'layer': 15, 'module': 'mlp.gate_proj', 'loss': '0.03385', 'damp': '0.01000', 'time': '1.129'}\n",
      "INFO - {'layer': 15, 'module': 'mlp.down_proj', 'loss': '0.00231', 'damp': '0.01000', 'time': '4.145'}\n",
      "INFO - Packing model...\n"
     ]
    },
    {
     "name": "stdout",
     "output_type": "stream",
     "text": [
      " Packing model.layers.15.mlp.down_proj |----------------------------------------| 100.0%1 / 2:12:32 [0/112] 0.0%.0%"
     ]
    },
    {
     "name": "stderr",
     "output_type": "stream",
     "text": [
      "INFO - Model packed.\n"
     ]
    },
    {
     "name": "stdout",
     "output_type": "stream",
     "text": [
      " Quantizing mlp.down_proj in layer 15 of 15 |----------------------------------------| 100.0%SAVING MODEL\n"
     ]
    },
    {
     "name": "stderr",
     "output_type": "stream",
     "text": [
      "INFO - Pre-Quantized model size: 4714.32MB, 4.60GB\n",
      "INFO - Quantized model size: 1953.18MB, 1.91GB\n",
      "INFO - Size difference: 2761.14MB, 2.70GB - 58.57%\n"
     ]
    }
   ],
   "source": [
    "model_id = \"meta-llama/Llama-3.2-1B-Instruct\"\n",
    "tokenizer = AutoTokenizer.from_pretrained(model_id)\n",
    "print(\"LOADING DATASET\")\n",
    "traindataset = get_wikitext2(tokenizer, nsamples=256, seqlen=1024)\n",
    "print(\"DATASET LOADED\")\n",
    "quantize_for_all_bits_precision(traindataset, model_id)"
   ]
  },
  {
   "cell_type": "code",
   "execution_count": 14,
   "metadata": {},
   "outputs": [
    {
     "name": "stdout",
     "output_type": "stream",
     "text": [
      "LOADING DATASET\n",
      "DATASET LOADED\n",
      "LOADING MODEL\n",
      "MODEL LOADED\n",
      "Computing PPL for non-quantized model...\n",
      " Perplexity: 15.2052 |----------------------------------------| 100.0%3 / 0:05:33 [410/410] 100.0%"
     ]
    },
    {
     "name": "stderr",
     "output_type": "stream",
     "text": [
      "Setting `pad_token_id` to `eos_token_id`:128001 for open-end generation.\n"
     ]
    },
    {
     "name": "stdout",
     "output_type": "stream",
     "text": [
      "Non-quantized model PPL: 15.922907671351842\n",
      "Measuring inference speed for non-quantized model...\n"
     ]
    },
    {
     "name": "stderr",
     "output_type": "stream",
     "text": [
      "Setting `pad_token_id` to `eos_token_id`:128001 for open-end generation.\n",
      "Setting `pad_token_id` to `eos_token_id`:128001 for open-end generation.\n",
      "Setting `pad_token_id` to `eos_token_id`:128001 for open-end generation.\n",
      "Setting `pad_token_id` to `eos_token_id`:128001 for open-end generation.\n",
      "Setting `pad_token_id` to `eos_token_id`:128001 for open-end generation.\n",
      "Setting `pad_token_id` to `eos_token_id`:128001 for open-end generation.\n",
      "Setting `pad_token_id` to `eos_token_id`:128001 for open-end generation.\n",
      "Setting `pad_token_id` to `eos_token_id`:128001 for open-end generation.\n",
      "Setting `pad_token_id` to `eos_token_id`:128001 for open-end generation.\n",
      "WARNING - Model config does not have pad token mapped. Please pass in tokenizer to `quantize()` so GPTQModel can auto-select the best pad token.\n"
     ]
    },
    {
     "name": "stdout",
     "output_type": "stream",
     "text": [
      "Non-quantized model average inference time: 2.3167 seconds per generation\n",
      "QUANTIZING...\n",
      "  |██--------------------------------------| 0:00:00 / 0:00:00 [1/16] 6.2%"
     ]
    },
    {
     "name": "stderr",
     "output_type": "stream",
     "text": [
      "INFO - {'layer': 0, 'module': 'self_attn.k_proj', 'loss': '0.62014', 'damp': '0.01000', 'time': '1.037'}\n",
      "INFO - {'layer': 0, 'module': 'self_attn.v_proj', 'loss': '0.01660', 'damp': '0.01000', 'time': '0.984'}\n",
      "INFO - {'layer': 0, 'module': 'self_attn.q_proj', 'loss': '1.27480', 'damp': '0.01000', 'time': '1.101'}\n",
      "INFO - {'layer': 0, 'module': 'self_attn.o_proj', 'loss': '0.00164', 'damp': '0.01000', 'time': '1.019'}\n",
      "INFO - {'layer': 0, 'module': 'mlp.up_proj', 'loss': '1.13989', 'damp': '0.01000', 'time': '0.968'}\n",
      "INFO - {'layer': 0, 'module': 'mlp.gate_proj', 'loss': '1.43341', 'damp': '0.01000', 'time': '1.000'}\n",
      "INFO - {'layer': 0, 'module': 'mlp.down_proj', 'loss': '0.00756', 'damp': '0.01000', 'time': '4.020'}\n"
     ]
    },
    {
     "name": "stdout",
     "output_type": "stream",
     "text": [
      " Quantizing mlp.down_proj in layer 0 of 15 |█████-----------------------------------| 0:01:22 / 0:10:56 [2/16] 12.5%"
     ]
    },
    {
     "name": "stderr",
     "output_type": "stream",
     "text": [
      "INFO - {'layer': 1, 'module': 'self_attn.k_proj', 'loss': '1.05103', 'damp': '0.01000', 'time': '0.910'}\n",
      "INFO - {'layer': 1, 'module': 'self_attn.v_proj', 'loss': '0.06223', 'damp': '0.01000', 'time': '0.990'}\n",
      "INFO - {'layer': 1, 'module': 'self_attn.q_proj', 'loss': '2.02254', 'damp': '0.01000', 'time': '1.056'}\n",
      "INFO - {'layer': 1, 'module': 'self_attn.o_proj', 'loss': '0.00474', 'damp': '0.01000', 'time': '0.940'}\n",
      "INFO - {'layer': 1, 'module': 'mlp.up_proj', 'loss': '1.67089', 'damp': '0.01000', 'time': '0.982'}\n",
      "INFO - {'layer': 1, 'module': 'mlp.gate_proj', 'loss': '2.28826', 'damp': '0.01000', 'time': '0.951'}\n",
      "INFO - {'layer': 1, 'module': 'mlp.down_proj', 'loss': '5.47714', 'damp': '0.01000', 'time': '4.253'}\n"
     ]
    },
    {
     "name": "stdout",
     "output_type": "stream",
     "text": [
      " Quantizing mlp.down_proj in layer 1 of 15 |███████---------------------------------| 0:02:58 / 0:15:49 [3/16] 18.8%"
     ]
    },
    {
     "name": "stderr",
     "output_type": "stream",
     "text": [
      "INFO - {'layer': 2, 'module': 'self_attn.k_proj', 'loss': '2.13145', 'damp': '0.01000', 'time': '1.099'}\n",
      "INFO - {'layer': 2, 'module': 'self_attn.v_proj', 'loss': '0.14697', 'damp': '0.01000', 'time': '1.248'}\n",
      "INFO - {'layer': 2, 'module': 'self_attn.q_proj', 'loss': '4.06626', 'damp': '0.01000', 'time': '1.297'}\n",
      "INFO - {'layer': 2, 'module': 'self_attn.o_proj', 'loss': '0.00621', 'damp': '0.01000', 'time': '1.201'}\n",
      "INFO - {'layer': 2, 'module': 'mlp.up_proj', 'loss': '2.17195', 'damp': '0.01000', 'time': '1.368'}\n",
      "INFO - {'layer': 2, 'module': 'mlp.gate_proj', 'loss': '3.43811', 'damp': '0.01000', 'time': '1.512'}\n",
      "INFO - {'layer': 2, 'module': 'mlp.down_proj', 'loss': '0.02579', 'damp': '0.01000', 'time': '5.629'}\n"
     ]
    },
    {
     "name": "stdout",
     "output_type": "stream",
     "text": [
      " Quantizing mlp.down_proj in layer 2 of 15 |██████████------------------------------| 0:04:27 / 0:17:48 [4/16] 25.0%"
     ]
    },
    {
     "name": "stderr",
     "output_type": "stream",
     "text": [
      "INFO - {'layer': 3, 'module': 'self_attn.k_proj', 'loss': '1.39290', 'damp': '0.01000', 'time': '0.911'}\n",
      "INFO - {'layer': 3, 'module': 'self_attn.v_proj', 'loss': '0.18991', 'damp': '0.01000', 'time': '0.996'}\n",
      "INFO - {'layer': 3, 'module': 'self_attn.q_proj', 'loss': '3.04391', 'damp': '0.01000', 'time': '1.111'}\n",
      "INFO - {'layer': 3, 'module': 'self_attn.o_proj', 'loss': '0.01221', 'damp': '0.01000', 'time': '0.926'}\n",
      "INFO - {'layer': 3, 'module': 'mlp.up_proj', 'loss': '2.57169', 'damp': '0.01000', 'time': '1.049'}\n",
      "INFO - {'layer': 3, 'module': 'mlp.gate_proj', 'loss': '5.09807', 'damp': '0.01000', 'time': '1.032'}\n",
      "INFO - {'layer': 3, 'module': 'mlp.down_proj', 'loss': '0.03694', 'damp': '0.01000', 'time': '4.229'}\n"
     ]
    },
    {
     "name": "stdout",
     "output_type": "stream",
     "text": [
      " Quantizing mlp.down_proj in layer 3 of 15 |████████████----------------------------| 0:05:49 / 0:18:36 [5/16] 31.2%"
     ]
    },
    {
     "name": "stderr",
     "output_type": "stream",
     "text": [
      "INFO - {'layer': 4, 'module': 'self_attn.k_proj', 'loss': '1.42607', 'damp': '0.01000', 'time': '0.894'}\n",
      "INFO - {'layer': 4, 'module': 'self_attn.v_proj', 'loss': '0.17019', 'damp': '0.01000', 'time': '1.011'}\n",
      "INFO - {'layer': 4, 'module': 'self_attn.q_proj', 'loss': '2.95491', 'damp': '0.01000', 'time': '1.313'}\n",
      "INFO - {'layer': 4, 'module': 'self_attn.o_proj', 'loss': '0.01923', 'damp': '0.01000', 'time': '0.996'}\n",
      "INFO - {'layer': 4, 'module': 'mlp.up_proj', 'loss': '2.50548', 'damp': '0.01000', 'time': '0.961'}\n",
      "INFO - {'layer': 4, 'module': 'mlp.gate_proj', 'loss': '5.38534', 'damp': '0.01000', 'time': '0.970'}\n",
      "INFO - {'layer': 4, 'module': 'mlp.down_proj', 'loss': '0.04074', 'damp': '0.01000', 'time': '4.051'}\n"
     ]
    },
    {
     "name": "stdout",
     "output_type": "stream",
     "text": [
      " Quantizing mlp.down_proj in layer 4 of 15 |███████████████-------------------------| 0:07:15 / 0:19:20 [6/16] 37.5%"
     ]
    },
    {
     "name": "stderr",
     "output_type": "stream",
     "text": [
      "INFO - {'layer': 5, 'module': 'self_attn.k_proj', 'loss': '2.17936', 'damp': '0.01000', 'time': '0.934'}\n",
      "INFO - {'layer': 5, 'module': 'self_attn.v_proj', 'loss': '0.14247', 'damp': '0.01000', 'time': '0.981'}\n",
      "INFO - {'layer': 5, 'module': 'self_attn.q_proj', 'loss': '3.71173', 'damp': '0.01000', 'time': '1.295'}\n",
      "INFO - {'layer': 5, 'module': 'self_attn.o_proj', 'loss': '0.01942', 'damp': '0.01000', 'time': '0.900'}\n",
      "INFO - {'layer': 5, 'module': 'mlp.up_proj', 'loss': '2.64294', 'damp': '0.01000', 'time': '1.082'}\n",
      "INFO - {'layer': 5, 'module': 'mlp.gate_proj', 'loss': '4.85856', 'damp': '0.01000', 'time': '1.112'}\n",
      "INFO - {'layer': 5, 'module': 'mlp.down_proj', 'loss': '0.04861', 'damp': '0.01000', 'time': '4.284'}\n"
     ]
    },
    {
     "name": "stdout",
     "output_type": "stream",
     "text": [
      " Quantizing mlp.down_proj in layer 5 of 15 |█████████████████-----------------------| 0:08:42 / 0:19:53 [7/16] 43.8%"
     ]
    },
    {
     "name": "stderr",
     "output_type": "stream",
     "text": [
      "INFO - {'layer': 6, 'module': 'self_attn.k_proj', 'loss': '1.64679', 'damp': '0.01000', 'time': '0.900'}\n",
      "INFO - {'layer': 6, 'module': 'self_attn.v_proj', 'loss': '0.18011', 'damp': '0.01000', 'time': '1.002'}\n",
      "INFO - {'layer': 6, 'module': 'self_attn.q_proj', 'loss': '2.62159', 'damp': '0.01000', 'time': '0.966'}\n",
      "INFO - {'layer': 6, 'module': 'self_attn.o_proj', 'loss': '0.03072', 'damp': '0.01000', 'time': '0.966'}\n",
      "INFO - {'layer': 6, 'module': 'mlp.up_proj', 'loss': '2.65523', 'damp': '0.01000', 'time': '1.102'}\n",
      "INFO - {'layer': 6, 'module': 'mlp.gate_proj', 'loss': '4.75024', 'damp': '0.01000', 'time': '1.091'}\n",
      "INFO - {'layer': 6, 'module': 'mlp.down_proj', 'loss': '0.04964', 'damp': '0.01000', 'time': '4.489'}\n"
     ]
    },
    {
     "name": "stdout",
     "output_type": "stream",
     "text": [
      " Quantizing mlp.down_proj in layer 6 of 15 |████████████████████--------------------| 0:10:04 / 0:20:08 [8/16] 50.0%"
     ]
    },
    {
     "name": "stderr",
     "output_type": "stream",
     "text": [
      "INFO - {'layer': 7, 'module': 'self_attn.k_proj', 'loss': '1.61762', 'damp': '0.01000', 'time': '1.051'}\n",
      "INFO - {'layer': 7, 'module': 'self_attn.v_proj', 'loss': '0.20405', 'damp': '0.01000', 'time': '1.044'}\n",
      "INFO - {'layer': 7, 'module': 'self_attn.q_proj', 'loss': '3.05333', 'damp': '0.01000', 'time': '1.300'}\n",
      "INFO - {'layer': 7, 'module': 'self_attn.o_proj', 'loss': '0.02708', 'damp': '0.01000', 'time': '0.990'}\n",
      "INFO - {'layer': 7, 'module': 'mlp.up_proj', 'loss': '2.69283', 'damp': '0.01000', 'time': '1.046'}\n",
      "INFO - {'layer': 7, 'module': 'mlp.gate_proj', 'loss': '4.34144', 'damp': '0.01000', 'time': '0.989'}\n",
      "INFO - {'layer': 7, 'module': 'mlp.down_proj', 'loss': '0.05376', 'damp': '0.01000', 'time': '4.133'}\n"
     ]
    },
    {
     "name": "stdout",
     "output_type": "stream",
     "text": [
      " Quantizing mlp.down_proj in layer 7 of 15 |██████████████████████------------------| 0:11:40 / 0:20:44 [9/16] 56.2%"
     ]
    },
    {
     "name": "stderr",
     "output_type": "stream",
     "text": [
      "INFO - {'layer': 8, 'module': 'self_attn.k_proj', 'loss': '1.89474', 'damp': '0.01000', 'time': '1.036'}\n",
      "INFO - {'layer': 8, 'module': 'self_attn.v_proj', 'loss': '0.19292', 'damp': '0.01000', 'time': '1.115'}\n",
      "INFO - {'layer': 8, 'module': 'self_attn.q_proj', 'loss': '3.12245', 'damp': '0.01000', 'time': '1.290'}\n",
      "INFO - {'layer': 8, 'module': 'self_attn.o_proj', 'loss': '0.03453', 'damp': '0.01000', 'time': '1.031'}\n",
      "INFO - {'layer': 8, 'module': 'mlp.up_proj', 'loss': '2.95268', 'damp': '0.01000', 'time': '0.969'}\n",
      "INFO - {'layer': 8, 'module': 'mlp.gate_proj', 'loss': '4.62903', 'damp': '0.01000', 'time': '1.131'}\n",
      "INFO - {'layer': 8, 'module': 'mlp.down_proj', 'loss': '0.07173', 'damp': '0.01000', 'time': '4.082'}\n"
     ]
    },
    {
     "name": "stdout",
     "output_type": "stream",
     "text": [
      " Quantizing mlp.down_proj in layer 8 of 15 |█████████████████████████---------------| 0:13:01 / 0:20:49 [10/16] 62.5%"
     ]
    },
    {
     "name": "stderr",
     "output_type": "stream",
     "text": [
      "INFO - {'layer': 9, 'module': 'self_attn.k_proj', 'loss': '1.53122', 'damp': '0.01000', 'time': '1.012'}\n",
      "INFO - {'layer': 9, 'module': 'self_attn.v_proj', 'loss': '0.23447', 'damp': '0.01000', 'time': '1.045'}\n",
      "INFO - {'layer': 9, 'module': 'self_attn.q_proj', 'loss': '3.73604', 'damp': '0.01000', 'time': '1.109'}\n",
      "INFO - {'layer': 9, 'module': 'self_attn.o_proj', 'loss': '0.04613', 'damp': '0.01000', 'time': '1.024'}\n",
      "INFO - {'layer': 9, 'module': 'mlp.up_proj', 'loss': '3.08657', 'damp': '0.01000', 'time': '1.020'}\n",
      "INFO - {'layer': 9, 'module': 'mlp.gate_proj', 'loss': '5.01843', 'damp': '0.01000', 'time': '1.169'}\n",
      "INFO - {'layer': 9, 'module': 'mlp.down_proj', 'loss': '0.08492', 'damp': '0.01000', 'time': '4.064'}\n"
     ]
    },
    {
     "name": "stdout",
     "output_type": "stream",
     "text": [
      " Quantizing mlp.down_proj in layer 9 of 15 |███████████████████████████-------------| 0:14:24 / 0:20:56 [11/16] 68.8%"
     ]
    },
    {
     "name": "stderr",
     "output_type": "stream",
     "text": [
      "INFO - {'layer': 10, 'module': 'self_attn.k_proj', 'loss': '1.83477', 'damp': '0.01000', 'time': '1.009'}\n",
      "INFO - {'layer': 10, 'module': 'self_attn.v_proj', 'loss': '0.25994', 'damp': '0.01000', 'time': '0.951'}\n",
      "INFO - {'layer': 10, 'module': 'self_attn.q_proj', 'loss': '3.84458', 'damp': '0.01000', 'time': '1.060'}\n",
      "INFO - {'layer': 10, 'module': 'self_attn.o_proj', 'loss': '0.03127', 'damp': '0.01000', 'time': '0.921'}\n",
      "INFO - {'layer': 10, 'module': 'mlp.up_proj', 'loss': '3.71283', 'damp': '0.01000', 'time': '1.017'}\n",
      "INFO - {'layer': 10, 'module': 'mlp.gate_proj', 'loss': '5.81468', 'damp': '0.01000', 'time': '0.972'}\n",
      "INFO - {'layer': 10, 'module': 'mlp.down_proj', 'loss': '0.11023', 'damp': '0.01000', 'time': '4.460'}\n"
     ]
    },
    {
     "name": "stdout",
     "output_type": "stream",
     "text": [
      " Quantizing mlp.down_proj in layer 10 of 15 |██████████████████████████████----------| 0:15:46 / 0:21:01 [12/16] 75.0%"
     ]
    },
    {
     "name": "stderr",
     "output_type": "stream",
     "text": [
      "INFO - {'layer': 11, 'module': 'self_attn.k_proj', 'loss': '2.29956', 'damp': '0.01000', 'time': '0.916'}\n",
      "INFO - {'layer': 11, 'module': 'self_attn.v_proj', 'loss': '0.27798', 'damp': '0.01000', 'time': '1.065'}\n",
      "INFO - {'layer': 11, 'module': 'self_attn.q_proj', 'loss': '3.92013', 'damp': '0.01000', 'time': '1.045'}\n",
      "INFO - {'layer': 11, 'module': 'self_attn.o_proj', 'loss': '0.02644', 'damp': '0.01000', 'time': '1.087'}\n",
      "INFO - {'layer': 11, 'module': 'mlp.up_proj', 'loss': '4.22150', 'damp': '0.01000', 'time': '0.955'}\n",
      "INFO - {'layer': 11, 'module': 'mlp.gate_proj', 'loss': '6.47687', 'damp': '0.01000', 'time': '1.051'}\n",
      "INFO - {'layer': 11, 'module': 'mlp.down_proj', 'loss': '0.12065', 'damp': '0.01000', 'time': '4.259'}\n"
     ]
    },
    {
     "name": "stdout",
     "output_type": "stream",
     "text": [
      " Quantizing mlp.down_proj in layer 11 of 15 |████████████████████████████████--------| 0:17:09 / 0:21:06 [13/16] 81.2%"
     ]
    },
    {
     "name": "stderr",
     "output_type": "stream",
     "text": [
      "INFO - {'layer': 12, 'module': 'self_attn.k_proj', 'loss': '2.36638', 'damp': '0.01000', 'time': '0.939'}\n",
      "INFO - {'layer': 12, 'module': 'self_attn.v_proj', 'loss': '0.28494', 'damp': '0.01000', 'time': '0.950'}\n",
      "INFO - {'layer': 12, 'module': 'self_attn.q_proj', 'loss': '3.97809', 'damp': '0.01000', 'time': '1.133'}\n",
      "INFO - {'layer': 12, 'module': 'self_attn.o_proj', 'loss': '0.02573', 'damp': '0.01000', 'time': '0.923'}\n",
      "INFO - {'layer': 12, 'module': 'mlp.up_proj', 'loss': '4.40740', 'damp': '0.01000', 'time': '1.035'}\n",
      "INFO - {'layer': 12, 'module': 'mlp.gate_proj', 'loss': '6.40871', 'damp': '0.01000', 'time': '1.101'}\n",
      "INFO - {'layer': 12, 'module': 'mlp.down_proj', 'loss': '0.13805', 'damp': '0.01000', 'time': '4.654'}\n"
     ]
    },
    {
     "name": "stdout",
     "output_type": "stream",
     "text": [
      " Quantizing mlp.down_proj in layer 12 of 15 |███████████████████████████████████-----| 0:18:31 / 0:21:09 [14/16] 87.5%"
     ]
    },
    {
     "name": "stderr",
     "output_type": "stream",
     "text": [
      "INFO - {'layer': 13, 'module': 'self_attn.k_proj', 'loss': '2.33875', 'damp': '0.01000', 'time': '1.034'}\n",
      "INFO - {'layer': 13, 'module': 'self_attn.v_proj', 'loss': '0.47960', 'damp': '0.01000', 'time': '0.909'}\n",
      "INFO - {'layer': 13, 'module': 'self_attn.q_proj', 'loss': '4.59054', 'damp': '0.01000', 'time': '1.117'}\n",
      "INFO - {'layer': 13, 'module': 'self_attn.o_proj', 'loss': '0.03183', 'damp': '0.01000', 'time': '0.950'}\n",
      "INFO - {'layer': 13, 'module': 'mlp.up_proj', 'loss': '5.22019', 'damp': '0.01000', 'time': '0.917'}\n",
      "INFO - {'layer': 13, 'module': 'mlp.gate_proj', 'loss': '6.94502', 'damp': '0.01000', 'time': '0.981'}\n",
      "INFO - {'layer': 13, 'module': 'mlp.down_proj', 'loss': '0.20137', 'damp': '0.01000', 'time': '4.020'}\n"
     ]
    },
    {
     "name": "stdout",
     "output_type": "stream",
     "text": [
      " Quantizing mlp.down_proj in layer 13 of 15 |█████████████████████████████████████---| 0:19:53 / 0:21:12 [15/16] 93.8%"
     ]
    },
    {
     "name": "stderr",
     "output_type": "stream",
     "text": [
      "INFO - {'layer': 14, 'module': 'self_attn.k_proj', 'loss': '2.65161', 'damp': '0.01000', 'time': '0.917'}\n",
      "INFO - {'layer': 14, 'module': 'self_attn.v_proj', 'loss': '1.07387', 'damp': '0.01000', 'time': '0.951'}\n",
      "INFO - {'layer': 14, 'module': 'self_attn.q_proj', 'loss': '4.85614', 'damp': '0.01000', 'time': '1.133'}\n",
      "INFO - {'layer': 14, 'module': 'self_attn.o_proj', 'loss': '0.07184', 'damp': '0.01000', 'time': '0.997'}\n",
      "INFO - {'layer': 14, 'module': 'mlp.up_proj', 'loss': '5.95376', 'damp': '0.01000', 'time': '1.034'}\n",
      "INFO - {'layer': 14, 'module': 'mlp.gate_proj', 'loss': '8.56094', 'damp': '0.01000', 'time': '1.165'}\n",
      "INFO - {'layer': 14, 'module': 'mlp.down_proj', 'loss': '0.26770', 'damp': '0.01000', 'time': '4.036'}\n"
     ]
    },
    {
     "name": "stdout",
     "output_type": "stream",
     "text": [
      " Quantizing mlp.down_proj in layer 14 of 15 |████████████████████████████████████████| 0:21:15 / 0:21:15 [16/16] 100.0%"
     ]
    },
    {
     "name": "stderr",
     "output_type": "stream",
     "text": [
      "INFO - {'layer': 15, 'module': 'self_attn.k_proj', 'loss': '2.52383', 'damp': '0.01000', 'time': '0.932'}\n",
      "INFO - {'layer': 15, 'module': 'self_attn.v_proj', 'loss': '1.06734', 'damp': '0.01000', 'time': '1.008'}\n",
      "INFO - {'layer': 15, 'module': 'self_attn.q_proj', 'loss': '4.41432', 'damp': '0.01000', 'time': '1.087'}\n",
      "INFO - {'layer': 15, 'module': 'self_attn.o_proj', 'loss': '0.37918', 'damp': '0.01000', 'time': '0.905'}\n",
      "INFO - {'layer': 15, 'module': 'mlp.up_proj', 'loss': '7.41926', 'damp': '0.01000', 'time': '0.959'}\n",
      "INFO - {'layer': 15, 'module': 'mlp.gate_proj', 'loss': '9.79895', 'damp': '0.01000', 'time': '0.971'}\n",
      "INFO - {'layer': 15, 'module': 'mlp.down_proj', 'loss': '0.64739', 'damp': '0.01000', 'time': '4.338'}\n",
      "INFO - Quantization summary:\n",
      "[{'layer': 0, 'module': 'self_attn.k_proj', 'loss': '0.62014', 'damp': '0.01000', 'time': '1.037'}, {'layer': 0, 'module': 'self_attn.v_proj', 'loss': '0.01660', 'damp': '0.01000', 'time': '0.984'}, {'layer': 0, 'module': 'self_attn.q_proj', 'loss': '1.27480', 'damp': '0.01000', 'time': '1.101'}, {'layer': 0, 'module': 'self_attn.o_proj', 'loss': '0.00164', 'damp': '0.01000', 'time': '1.019'}, {'layer': 0, 'module': 'mlp.up_proj', 'loss': '1.13989', 'damp': '0.01000', 'time': '0.968'}, {'layer': 0, 'module': 'mlp.gate_proj', 'loss': '1.43341', 'damp': '0.01000', 'time': '1.000'}, {'layer': 0, 'module': 'mlp.down_proj', 'loss': '0.00756', 'damp': '0.01000', 'time': '4.020'}, {'layer': 1, 'module': 'self_attn.k_proj', 'loss': '1.05103', 'damp': '0.01000', 'time': '0.910'}, {'layer': 1, 'module': 'self_attn.v_proj', 'loss': '0.06223', 'damp': '0.01000', 'time': '0.990'}, {'layer': 1, 'module': 'self_attn.q_proj', 'loss': '2.02254', 'damp': '0.01000', 'time': '1.056'}, {'layer': 1, 'module': 'self_attn.o_proj', 'loss': '0.00474', 'damp': '0.01000', 'time': '0.940'}, {'layer': 1, 'module': 'mlp.up_proj', 'loss': '1.67089', 'damp': '0.01000', 'time': '0.982'}, {'layer': 1, 'module': 'mlp.gate_proj', 'loss': '2.28826', 'damp': '0.01000', 'time': '0.951'}, {'layer': 1, 'module': 'mlp.down_proj', 'loss': '5.47714', 'damp': '0.01000', 'time': '4.253'}, {'layer': 2, 'module': 'self_attn.k_proj', 'loss': '2.13145', 'damp': '0.01000', 'time': '1.099'}, {'layer': 2, 'module': 'self_attn.v_proj', 'loss': '0.14697', 'damp': '0.01000', 'time': '1.248'}, {'layer': 2, 'module': 'self_attn.q_proj', 'loss': '4.06626', 'damp': '0.01000', 'time': '1.297'}, {'layer': 2, 'module': 'self_attn.o_proj', 'loss': '0.00621', 'damp': '0.01000', 'time': '1.201'}, {'layer': 2, 'module': 'mlp.up_proj', 'loss': '2.17195', 'damp': '0.01000', 'time': '1.368'}, {'layer': 2, 'module': 'mlp.gate_proj', 'loss': '3.43811', 'damp': '0.01000', 'time': '1.512'}, {'layer': 2, 'module': 'mlp.down_proj', 'loss': '0.02579', 'damp': '0.01000', 'time': '5.629'}, {'layer': 3, 'module': 'self_attn.k_proj', 'loss': '1.39290', 'damp': '0.01000', 'time': '0.911'}, {'layer': 3, 'module': 'self_attn.v_proj', 'loss': '0.18991', 'damp': '0.01000', 'time': '0.996'}, {'layer': 3, 'module': 'self_attn.q_proj', 'loss': '3.04391', 'damp': '0.01000', 'time': '1.111'}, {'layer': 3, 'module': 'self_attn.o_proj', 'loss': '0.01221', 'damp': '0.01000', 'time': '0.926'}, {'layer': 3, 'module': 'mlp.up_proj', 'loss': '2.57169', 'damp': '0.01000', 'time': '1.049'}, {'layer': 3, 'module': 'mlp.gate_proj', 'loss': '5.09807', 'damp': '0.01000', 'time': '1.032'}, {'layer': 3, 'module': 'mlp.down_proj', 'loss': '0.03694', 'damp': '0.01000', 'time': '4.229'}, {'layer': 4, 'module': 'self_attn.k_proj', 'loss': '1.42607', 'damp': '0.01000', 'time': '0.894'}, {'layer': 4, 'module': 'self_attn.v_proj', 'loss': '0.17019', 'damp': '0.01000', 'time': '1.011'}, {'layer': 4, 'module': 'self_attn.q_proj', 'loss': '2.95491', 'damp': '0.01000', 'time': '1.313'}, {'layer': 4, 'module': 'self_attn.o_proj', 'loss': '0.01923', 'damp': '0.01000', 'time': '0.996'}, {'layer': 4, 'module': 'mlp.up_proj', 'loss': '2.50548', 'damp': '0.01000', 'time': '0.961'}, {'layer': 4, 'module': 'mlp.gate_proj', 'loss': '5.38534', 'damp': '0.01000', 'time': '0.970'}, {'layer': 4, 'module': 'mlp.down_proj', 'loss': '0.04074', 'damp': '0.01000', 'time': '4.051'}, {'layer': 5, 'module': 'self_attn.k_proj', 'loss': '2.17936', 'damp': '0.01000', 'time': '0.934'}, {'layer': 5, 'module': 'self_attn.v_proj', 'loss': '0.14247', 'damp': '0.01000', 'time': '0.981'}, {'layer': 5, 'module': 'self_attn.q_proj', 'loss': '3.71173', 'damp': '0.01000', 'time': '1.295'}, {'layer': 5, 'module': 'self_attn.o_proj', 'loss': '0.01942', 'damp': '0.01000', 'time': '0.900'}, {'layer': 5, 'module': 'mlp.up_proj', 'loss': '2.64294', 'damp': '0.01000', 'time': '1.082'}, {'layer': 5, 'module': 'mlp.gate_proj', 'loss': '4.85856', 'damp': '0.01000', 'time': '1.112'}, {'layer': 5, 'module': 'mlp.down_proj', 'loss': '0.04861', 'damp': '0.01000', 'time': '4.284'}, {'layer': 6, 'module': 'self_attn.k_proj', 'loss': '1.64679', 'damp': '0.01000', 'time': '0.900'}, {'layer': 6, 'module': 'self_attn.v_proj', 'loss': '0.18011', 'damp': '0.01000', 'time': '1.002'}, {'layer': 6, 'module': 'self_attn.q_proj', 'loss': '2.62159', 'damp': '0.01000', 'time': '0.966'}, {'layer': 6, 'module': 'self_attn.o_proj', 'loss': '0.03072', 'damp': '0.01000', 'time': '0.966'}, {'layer': 6, 'module': 'mlp.up_proj', 'loss': '2.65523', 'damp': '0.01000', 'time': '1.102'}, {'layer': 6, 'module': 'mlp.gate_proj', 'loss': '4.75024', 'damp': '0.01000', 'time': '1.091'}, {'layer': 6, 'module': 'mlp.down_proj', 'loss': '0.04964', 'damp': '0.01000', 'time': '4.489'}, {'layer': 7, 'module': 'self_attn.k_proj', 'loss': '1.61762', 'damp': '0.01000', 'time': '1.051'}, {'layer': 7, 'module': 'self_attn.v_proj', 'loss': '0.20405', 'damp': '0.01000', 'time': '1.044'}, {'layer': 7, 'module': 'self_attn.q_proj', 'loss': '3.05333', 'damp': '0.01000', 'time': '1.300'}, {'layer': 7, 'module': 'self_attn.o_proj', 'loss': '0.02708', 'damp': '0.01000', 'time': '0.990'}, {'layer': 7, 'module': 'mlp.up_proj', 'loss': '2.69283', 'damp': '0.01000', 'time': '1.046'}, {'layer': 7, 'module': 'mlp.gate_proj', 'loss': '4.34144', 'damp': '0.01000', 'time': '0.989'}, {'layer': 7, 'module': 'mlp.down_proj', 'loss': '0.05376', 'damp': '0.01000', 'time': '4.133'}, {'layer': 8, 'module': 'self_attn.k_proj', 'loss': '1.89474', 'damp': '0.01000', 'time': '1.036'}, {'layer': 8, 'module': 'self_attn.v_proj', 'loss': '0.19292', 'damp': '0.01000', 'time': '1.115'}, {'layer': 8, 'module': 'self_attn.q_proj', 'loss': '3.12245', 'damp': '0.01000', 'time': '1.290'}, {'layer': 8, 'module': 'self_attn.o_proj', 'loss': '0.03453', 'damp': '0.01000', 'time': '1.031'}, {'layer': 8, 'module': 'mlp.up_proj', 'loss': '2.95268', 'damp': '0.01000', 'time': '0.969'}, {'layer': 8, 'module': 'mlp.gate_proj', 'loss': '4.62903', 'damp': '0.01000', 'time': '1.131'}, {'layer': 8, 'module': 'mlp.down_proj', 'loss': '0.07173', 'damp': '0.01000', 'time': '4.082'}, {'layer': 9, 'module': 'self_attn.k_proj', 'loss': '1.53122', 'damp': '0.01000', 'time': '1.012'}, {'layer': 9, 'module': 'self_attn.v_proj', 'loss': '0.23447', 'damp': '0.01000', 'time': '1.045'}, {'layer': 9, 'module': 'self_attn.q_proj', 'loss': '3.73604', 'damp': '0.01000', 'time': '1.109'}, {'layer': 9, 'module': 'self_attn.o_proj', 'loss': '0.04613', 'damp': '0.01000', 'time': '1.024'}, {'layer': 9, 'module': 'mlp.up_proj', 'loss': '3.08657', 'damp': '0.01000', 'time': '1.020'}, {'layer': 9, 'module': 'mlp.gate_proj', 'loss': '5.01843', 'damp': '0.01000', 'time': '1.169'}, {'layer': 9, 'module': 'mlp.down_proj', 'loss': '0.08492', 'damp': '0.01000', 'time': '4.064'}, {'layer': 10, 'module': 'self_attn.k_proj', 'loss': '1.83477', 'damp': '0.01000', 'time': '1.009'}, {'layer': 10, 'module': 'self_attn.v_proj', 'loss': '0.25994', 'damp': '0.01000', 'time': '0.951'}, {'layer': 10, 'module': 'self_attn.q_proj', 'loss': '3.84458', 'damp': '0.01000', 'time': '1.060'}, {'layer': 10, 'module': 'self_attn.o_proj', 'loss': '0.03127', 'damp': '0.01000', 'time': '0.921'}, {'layer': 10, 'module': 'mlp.up_proj', 'loss': '3.71283', 'damp': '0.01000', 'time': '1.017'}, {'layer': 10, 'module': 'mlp.gate_proj', 'loss': '5.81468', 'damp': '0.01000', 'time': '0.972'}, {'layer': 10, 'module': 'mlp.down_proj', 'loss': '0.11023', 'damp': '0.01000', 'time': '4.460'}, {'layer': 11, 'module': 'self_attn.k_proj', 'loss': '2.29956', 'damp': '0.01000', 'time': '0.916'}, {'layer': 11, 'module': 'self_attn.v_proj', 'loss': '0.27798', 'damp': '0.01000', 'time': '1.065'}, {'layer': 11, 'module': 'self_attn.q_proj', 'loss': '3.92013', 'damp': '0.01000', 'time': '1.045'}, {'layer': 11, 'module': 'self_attn.o_proj', 'loss': '0.02644', 'damp': '0.01000', 'time': '1.087'}, {'layer': 11, 'module': 'mlp.up_proj', 'loss': '4.22150', 'damp': '0.01000', 'time': '0.955'}, {'layer': 11, 'module': 'mlp.gate_proj', 'loss': '6.47687', 'damp': '0.01000', 'time': '1.051'}, {'layer': 11, 'module': 'mlp.down_proj', 'loss': '0.12065', 'damp': '0.01000', 'time': '4.259'}, {'layer': 12, 'module': 'self_attn.k_proj', 'loss': '2.36638', 'damp': '0.01000', 'time': '0.939'}, {'layer': 12, 'module': 'self_attn.v_proj', 'loss': '0.28494', 'damp': '0.01000', 'time': '0.950'}, {'layer': 12, 'module': 'self_attn.q_proj', 'loss': '3.97809', 'damp': '0.01000', 'time': '1.133'}, {'layer': 12, 'module': 'self_attn.o_proj', 'loss': '0.02573', 'damp': '0.01000', 'time': '0.923'}, {'layer': 12, 'module': 'mlp.up_proj', 'loss': '4.40740', 'damp': '0.01000', 'time': '1.035'}, {'layer': 12, 'module': 'mlp.gate_proj', 'loss': '6.40871', 'damp': '0.01000', 'time': '1.101'}, {'layer': 12, 'module': 'mlp.down_proj', 'loss': '0.13805', 'damp': '0.01000', 'time': '4.654'}, {'layer': 13, 'module': 'self_attn.k_proj', 'loss': '2.33875', 'damp': '0.01000', 'time': '1.034'}, {'layer': 13, 'module': 'self_attn.v_proj', 'loss': '0.47960', 'damp': '0.01000', 'time': '0.909'}, {'layer': 13, 'module': 'self_attn.q_proj', 'loss': '4.59054', 'damp': '0.01000', 'time': '1.117'}, {'layer': 13, 'module': 'self_attn.o_proj', 'loss': '0.03183', 'damp': '0.01000', 'time': '0.950'}, {'layer': 13, 'module': 'mlp.up_proj', 'loss': '5.22019', 'damp': '0.01000', 'time': '0.917'}, {'layer': 13, 'module': 'mlp.gate_proj', 'loss': '6.94502', 'damp': '0.01000', 'time': '0.981'}, {'layer': 13, 'module': 'mlp.down_proj', 'loss': '0.20137', 'damp': '0.01000', 'time': '4.020'}, {'layer': 14, 'module': 'self_attn.k_proj', 'loss': '2.65161', 'damp': '0.01000', 'time': '0.917'}, {'layer': 14, 'module': 'self_attn.v_proj', 'loss': '1.07387', 'damp': '0.01000', 'time': '0.951'}, {'layer': 14, 'module': 'self_attn.q_proj', 'loss': '4.85614', 'damp': '0.01000', 'time': '1.133'}, {'layer': 14, 'module': 'self_attn.o_proj', 'loss': '0.07184', 'damp': '0.01000', 'time': '0.997'}, {'layer': 14, 'module': 'mlp.up_proj', 'loss': '5.95376', 'damp': '0.01000', 'time': '1.034'}, {'layer': 14, 'module': 'mlp.gate_proj', 'loss': '8.56094', 'damp': '0.01000', 'time': '1.165'}, {'layer': 14, 'module': 'mlp.down_proj', 'loss': '0.26770', 'damp': '0.01000', 'time': '4.036'}, {'layer': 15, 'module': 'self_attn.k_proj', 'loss': '2.52383', 'damp': '0.01000', 'time': '0.932'}, {'layer': 15, 'module': 'self_attn.v_proj', 'loss': '1.06734', 'damp': '0.01000', 'time': '1.008'}, {'layer': 15, 'module': 'self_attn.q_proj', 'loss': '4.41432', 'damp': '0.01000', 'time': '1.087'}, {'layer': 15, 'module': 'self_attn.o_proj', 'loss': '0.37918', 'damp': '0.01000', 'time': '0.905'}, {'layer': 15, 'module': 'mlp.up_proj', 'loss': '7.41926', 'damp': '0.01000', 'time': '0.959'}, {'layer': 15, 'module': 'mlp.gate_proj', 'loss': '9.79895', 'damp': '0.01000', 'time': '0.971'}, {'layer': 15, 'module': 'mlp.down_proj', 'loss': '0.64739', 'damp': '0.01000', 'time': '4.338'}]\n",
      "INFO - {'layer': 0, 'module': 'self_attn.k_proj', 'loss': '0.62014', 'damp': '0.01000', 'time': '1.037'}\n",
      "INFO - {'layer': 0, 'module': 'self_attn.v_proj', 'loss': '0.01660', 'damp': '0.01000', 'time': '0.984'}\n",
      "INFO - {'layer': 0, 'module': 'self_attn.q_proj', 'loss': '1.27480', 'damp': '0.01000', 'time': '1.101'}\n",
      "INFO - {'layer': 0, 'module': 'self_attn.o_proj', 'loss': '0.00164', 'damp': '0.01000', 'time': '1.019'}\n",
      "INFO - {'layer': 0, 'module': 'mlp.up_proj', 'loss': '1.13989', 'damp': '0.01000', 'time': '0.968'}\n",
      "INFO - {'layer': 0, 'module': 'mlp.gate_proj', 'loss': '1.43341', 'damp': '0.01000', 'time': '1.000'}\n",
      "INFO - {'layer': 0, 'module': 'mlp.down_proj', 'loss': '0.00756', 'damp': '0.01000', 'time': '4.020'}\n",
      "INFO - {'layer': 1, 'module': 'self_attn.k_proj', 'loss': '1.05103', 'damp': '0.01000', 'time': '0.910'}\n",
      "INFO - {'layer': 1, 'module': 'self_attn.v_proj', 'loss': '0.06223', 'damp': '0.01000', 'time': '0.990'}\n",
      "INFO - {'layer': 1, 'module': 'self_attn.q_proj', 'loss': '2.02254', 'damp': '0.01000', 'time': '1.056'}\n",
      "INFO - {'layer': 1, 'module': 'self_attn.o_proj', 'loss': '0.00474', 'damp': '0.01000', 'time': '0.940'}\n",
      "INFO - {'layer': 1, 'module': 'mlp.up_proj', 'loss': '1.67089', 'damp': '0.01000', 'time': '0.982'}\n",
      "INFO - {'layer': 1, 'module': 'mlp.gate_proj', 'loss': '2.28826', 'damp': '0.01000', 'time': '0.951'}\n",
      "INFO - {'layer': 1, 'module': 'mlp.down_proj', 'loss': '5.47714', 'damp': '0.01000', 'time': '4.253'}\n",
      "INFO - {'layer': 2, 'module': 'self_attn.k_proj', 'loss': '2.13145', 'damp': '0.01000', 'time': '1.099'}\n",
      "INFO - {'layer': 2, 'module': 'self_attn.v_proj', 'loss': '0.14697', 'damp': '0.01000', 'time': '1.248'}\n",
      "INFO - {'layer': 2, 'module': 'self_attn.q_proj', 'loss': '4.06626', 'damp': '0.01000', 'time': '1.297'}\n",
      "INFO - {'layer': 2, 'module': 'self_attn.o_proj', 'loss': '0.00621', 'damp': '0.01000', 'time': '1.201'}\n",
      "INFO - {'layer': 2, 'module': 'mlp.up_proj', 'loss': '2.17195', 'damp': '0.01000', 'time': '1.368'}\n",
      "INFO - {'layer': 2, 'module': 'mlp.gate_proj', 'loss': '3.43811', 'damp': '0.01000', 'time': '1.512'}\n",
      "INFO - {'layer': 2, 'module': 'mlp.down_proj', 'loss': '0.02579', 'damp': '0.01000', 'time': '5.629'}\n",
      "INFO - {'layer': 3, 'module': 'self_attn.k_proj', 'loss': '1.39290', 'damp': '0.01000', 'time': '0.911'}\n",
      "INFO - {'layer': 3, 'module': 'self_attn.v_proj', 'loss': '0.18991', 'damp': '0.01000', 'time': '0.996'}\n",
      "INFO - {'layer': 3, 'module': 'self_attn.q_proj', 'loss': '3.04391', 'damp': '0.01000', 'time': '1.111'}\n",
      "INFO - {'layer': 3, 'module': 'self_attn.o_proj', 'loss': '0.01221', 'damp': '0.01000', 'time': '0.926'}\n",
      "INFO - {'layer': 3, 'module': 'mlp.up_proj', 'loss': '2.57169', 'damp': '0.01000', 'time': '1.049'}\n",
      "INFO - {'layer': 3, 'module': 'mlp.gate_proj', 'loss': '5.09807', 'damp': '0.01000', 'time': '1.032'}\n",
      "INFO - {'layer': 3, 'module': 'mlp.down_proj', 'loss': '0.03694', 'damp': '0.01000', 'time': '4.229'}\n",
      "INFO - {'layer': 4, 'module': 'self_attn.k_proj', 'loss': '1.42607', 'damp': '0.01000', 'time': '0.894'}\n",
      "INFO - {'layer': 4, 'module': 'self_attn.v_proj', 'loss': '0.17019', 'damp': '0.01000', 'time': '1.011'}\n",
      "INFO - {'layer': 4, 'module': 'self_attn.q_proj', 'loss': '2.95491', 'damp': '0.01000', 'time': '1.313'}\n",
      "INFO - {'layer': 4, 'module': 'self_attn.o_proj', 'loss': '0.01923', 'damp': '0.01000', 'time': '0.996'}\n",
      "INFO - {'layer': 4, 'module': 'mlp.up_proj', 'loss': '2.50548', 'damp': '0.01000', 'time': '0.961'}\n",
      "INFO - {'layer': 4, 'module': 'mlp.gate_proj', 'loss': '5.38534', 'damp': '0.01000', 'time': '0.970'}\n",
      "INFO - {'layer': 4, 'module': 'mlp.down_proj', 'loss': '0.04074', 'damp': '0.01000', 'time': '4.051'}\n",
      "INFO - {'layer': 5, 'module': 'self_attn.k_proj', 'loss': '2.17936', 'damp': '0.01000', 'time': '0.934'}\n",
      "INFO - {'layer': 5, 'module': 'self_attn.v_proj', 'loss': '0.14247', 'damp': '0.01000', 'time': '0.981'}\n",
      "INFO - {'layer': 5, 'module': 'self_attn.q_proj', 'loss': '3.71173', 'damp': '0.01000', 'time': '1.295'}\n",
      "INFO - {'layer': 5, 'module': 'self_attn.o_proj', 'loss': '0.01942', 'damp': '0.01000', 'time': '0.900'}\n",
      "INFO - {'layer': 5, 'module': 'mlp.up_proj', 'loss': '2.64294', 'damp': '0.01000', 'time': '1.082'}\n",
      "INFO - {'layer': 5, 'module': 'mlp.gate_proj', 'loss': '4.85856', 'damp': '0.01000', 'time': '1.112'}\n",
      "INFO - {'layer': 5, 'module': 'mlp.down_proj', 'loss': '0.04861', 'damp': '0.01000', 'time': '4.284'}\n",
      "INFO - {'layer': 6, 'module': 'self_attn.k_proj', 'loss': '1.64679', 'damp': '0.01000', 'time': '0.900'}\n",
      "INFO - {'layer': 6, 'module': 'self_attn.v_proj', 'loss': '0.18011', 'damp': '0.01000', 'time': '1.002'}\n",
      "INFO - {'layer': 6, 'module': 'self_attn.q_proj', 'loss': '2.62159', 'damp': '0.01000', 'time': '0.966'}\n",
      "INFO - {'layer': 6, 'module': 'self_attn.o_proj', 'loss': '0.03072', 'damp': '0.01000', 'time': '0.966'}\n",
      "INFO - {'layer': 6, 'module': 'mlp.up_proj', 'loss': '2.65523', 'damp': '0.01000', 'time': '1.102'}\n",
      "INFO - {'layer': 6, 'module': 'mlp.gate_proj', 'loss': '4.75024', 'damp': '0.01000', 'time': '1.091'}\n",
      "INFO - {'layer': 6, 'module': 'mlp.down_proj', 'loss': '0.04964', 'damp': '0.01000', 'time': '4.489'}\n",
      "INFO - {'layer': 7, 'module': 'self_attn.k_proj', 'loss': '1.61762', 'damp': '0.01000', 'time': '1.051'}\n",
      "INFO - {'layer': 7, 'module': 'self_attn.v_proj', 'loss': '0.20405', 'damp': '0.01000', 'time': '1.044'}\n",
      "INFO - {'layer': 7, 'module': 'self_attn.q_proj', 'loss': '3.05333', 'damp': '0.01000', 'time': '1.300'}\n",
      "INFO - {'layer': 7, 'module': 'self_attn.o_proj', 'loss': '0.02708', 'damp': '0.01000', 'time': '0.990'}\n",
      "INFO - {'layer': 7, 'module': 'mlp.up_proj', 'loss': '2.69283', 'damp': '0.01000', 'time': '1.046'}\n",
      "INFO - {'layer': 7, 'module': 'mlp.gate_proj', 'loss': '4.34144', 'damp': '0.01000', 'time': '0.989'}\n",
      "INFO - {'layer': 7, 'module': 'mlp.down_proj', 'loss': '0.05376', 'damp': '0.01000', 'time': '4.133'}\n",
      "INFO - {'layer': 8, 'module': 'self_attn.k_proj', 'loss': '1.89474', 'damp': '0.01000', 'time': '1.036'}\n",
      "INFO - {'layer': 8, 'module': 'self_attn.v_proj', 'loss': '0.19292', 'damp': '0.01000', 'time': '1.115'}\n",
      "INFO - {'layer': 8, 'module': 'self_attn.q_proj', 'loss': '3.12245', 'damp': '0.01000', 'time': '1.290'}\n",
      "INFO - {'layer': 8, 'module': 'self_attn.o_proj', 'loss': '0.03453', 'damp': '0.01000', 'time': '1.031'}\n",
      "INFO - {'layer': 8, 'module': 'mlp.up_proj', 'loss': '2.95268', 'damp': '0.01000', 'time': '0.969'}\n",
      "INFO - {'layer': 8, 'module': 'mlp.gate_proj', 'loss': '4.62903', 'damp': '0.01000', 'time': '1.131'}\n",
      "INFO - {'layer': 8, 'module': 'mlp.down_proj', 'loss': '0.07173', 'damp': '0.01000', 'time': '4.082'}\n",
      "INFO - {'layer': 9, 'module': 'self_attn.k_proj', 'loss': '1.53122', 'damp': '0.01000', 'time': '1.012'}\n",
      "INFO - {'layer': 9, 'module': 'self_attn.v_proj', 'loss': '0.23447', 'damp': '0.01000', 'time': '1.045'}\n",
      "INFO - {'layer': 9, 'module': 'self_attn.q_proj', 'loss': '3.73604', 'damp': '0.01000', 'time': '1.109'}\n",
      "INFO - {'layer': 9, 'module': 'self_attn.o_proj', 'loss': '0.04613', 'damp': '0.01000', 'time': '1.024'}\n",
      "INFO - {'layer': 9, 'module': 'mlp.up_proj', 'loss': '3.08657', 'damp': '0.01000', 'time': '1.020'}\n",
      "INFO - {'layer': 9, 'module': 'mlp.gate_proj', 'loss': '5.01843', 'damp': '0.01000', 'time': '1.169'}\n",
      "INFO - {'layer': 9, 'module': 'mlp.down_proj', 'loss': '0.08492', 'damp': '0.01000', 'time': '4.064'}\n",
      "INFO - {'layer': 10, 'module': 'self_attn.k_proj', 'loss': '1.83477', 'damp': '0.01000', 'time': '1.009'}\n",
      "INFO - {'layer': 10, 'module': 'self_attn.v_proj', 'loss': '0.25994', 'damp': '0.01000', 'time': '0.951'}\n",
      "INFO - {'layer': 10, 'module': 'self_attn.q_proj', 'loss': '3.84458', 'damp': '0.01000', 'time': '1.060'}\n",
      "INFO - {'layer': 10, 'module': 'self_attn.o_proj', 'loss': '0.03127', 'damp': '0.01000', 'time': '0.921'}\n",
      "INFO - {'layer': 10, 'module': 'mlp.up_proj', 'loss': '3.71283', 'damp': '0.01000', 'time': '1.017'}\n",
      "INFO - {'layer': 10, 'module': 'mlp.gate_proj', 'loss': '5.81468', 'damp': '0.01000', 'time': '0.972'}\n",
      "INFO - {'layer': 10, 'module': 'mlp.down_proj', 'loss': '0.11023', 'damp': '0.01000', 'time': '4.460'}\n",
      "INFO - {'layer': 11, 'module': 'self_attn.k_proj', 'loss': '2.29956', 'damp': '0.01000', 'time': '0.916'}\n",
      "INFO - {'layer': 11, 'module': 'self_attn.v_proj', 'loss': '0.27798', 'damp': '0.01000', 'time': '1.065'}\n",
      "INFO - {'layer': 11, 'module': 'self_attn.q_proj', 'loss': '3.92013', 'damp': '0.01000', 'time': '1.045'}\n",
      "INFO - {'layer': 11, 'module': 'self_attn.o_proj', 'loss': '0.02644', 'damp': '0.01000', 'time': '1.087'}\n",
      "INFO - {'layer': 11, 'module': 'mlp.up_proj', 'loss': '4.22150', 'damp': '0.01000', 'time': '0.955'}\n",
      "INFO - {'layer': 11, 'module': 'mlp.gate_proj', 'loss': '6.47687', 'damp': '0.01000', 'time': '1.051'}\n",
      "INFO - {'layer': 11, 'module': 'mlp.down_proj', 'loss': '0.12065', 'damp': '0.01000', 'time': '4.259'}\n",
      "INFO - {'layer': 12, 'module': 'self_attn.k_proj', 'loss': '2.36638', 'damp': '0.01000', 'time': '0.939'}\n",
      "INFO - {'layer': 12, 'module': 'self_attn.v_proj', 'loss': '0.28494', 'damp': '0.01000', 'time': '0.950'}\n",
      "INFO - {'layer': 12, 'module': 'self_attn.q_proj', 'loss': '3.97809', 'damp': '0.01000', 'time': '1.133'}\n",
      "INFO - {'layer': 12, 'module': 'self_attn.o_proj', 'loss': '0.02573', 'damp': '0.01000', 'time': '0.923'}\n",
      "INFO - {'layer': 12, 'module': 'mlp.up_proj', 'loss': '4.40740', 'damp': '0.01000', 'time': '1.035'}\n",
      "INFO - {'layer': 12, 'module': 'mlp.gate_proj', 'loss': '6.40871', 'damp': '0.01000', 'time': '1.101'}\n",
      "INFO - {'layer': 12, 'module': 'mlp.down_proj', 'loss': '0.13805', 'damp': '0.01000', 'time': '4.654'}\n",
      "INFO - {'layer': 13, 'module': 'self_attn.k_proj', 'loss': '2.33875', 'damp': '0.01000', 'time': '1.034'}\n",
      "INFO - {'layer': 13, 'module': 'self_attn.v_proj', 'loss': '0.47960', 'damp': '0.01000', 'time': '0.909'}\n",
      "INFO - {'layer': 13, 'module': 'self_attn.q_proj', 'loss': '4.59054', 'damp': '0.01000', 'time': '1.117'}\n",
      "INFO - {'layer': 13, 'module': 'self_attn.o_proj', 'loss': '0.03183', 'damp': '0.01000', 'time': '0.950'}\n",
      "INFO - {'layer': 13, 'module': 'mlp.up_proj', 'loss': '5.22019', 'damp': '0.01000', 'time': '0.917'}\n",
      "INFO - {'layer': 13, 'module': 'mlp.gate_proj', 'loss': '6.94502', 'damp': '0.01000', 'time': '0.981'}\n",
      "INFO - {'layer': 13, 'module': 'mlp.down_proj', 'loss': '0.20137', 'damp': '0.01000', 'time': '4.020'}\n",
      "INFO - {'layer': 14, 'module': 'self_attn.k_proj', 'loss': '2.65161', 'damp': '0.01000', 'time': '0.917'}\n",
      "INFO - {'layer': 14, 'module': 'self_attn.v_proj', 'loss': '1.07387', 'damp': '0.01000', 'time': '0.951'}\n",
      "INFO - {'layer': 14, 'module': 'self_attn.q_proj', 'loss': '4.85614', 'damp': '0.01000', 'time': '1.133'}\n",
      "INFO - {'layer': 14, 'module': 'self_attn.o_proj', 'loss': '0.07184', 'damp': '0.01000', 'time': '0.997'}\n",
      "INFO - {'layer': 14, 'module': 'mlp.up_proj', 'loss': '5.95376', 'damp': '0.01000', 'time': '1.034'}\n",
      "INFO - {'layer': 14, 'module': 'mlp.gate_proj', 'loss': '8.56094', 'damp': '0.01000', 'time': '1.165'}\n",
      "INFO - {'layer': 14, 'module': 'mlp.down_proj', 'loss': '0.26770', 'damp': '0.01000', 'time': '4.036'}\n",
      "INFO - {'layer': 15, 'module': 'self_attn.k_proj', 'loss': '2.52383', 'damp': '0.01000', 'time': '0.932'}\n",
      "INFO - {'layer': 15, 'module': 'self_attn.v_proj', 'loss': '1.06734', 'damp': '0.01000', 'time': '1.008'}\n",
      "INFO - {'layer': 15, 'module': 'self_attn.q_proj', 'loss': '4.41432', 'damp': '0.01000', 'time': '1.087'}\n",
      "INFO - {'layer': 15, 'module': 'self_attn.o_proj', 'loss': '0.37918', 'damp': '0.01000', 'time': '0.905'}\n",
      "INFO - {'layer': 15, 'module': 'mlp.up_proj', 'loss': '7.41926', 'damp': '0.01000', 'time': '0.959'}\n",
      "INFO - {'layer': 15, 'module': 'mlp.gate_proj', 'loss': '9.79895', 'damp': '0.01000', 'time': '0.971'}\n",
      "INFO - {'layer': 15, 'module': 'mlp.down_proj', 'loss': '0.64739', 'damp': '0.01000', 'time': '4.338'}\n",
      "INFO - Packing model...\n"
     ]
    },
    {
     "name": "stdout",
     "output_type": "stream",
     "text": [
      " Packing model.layers.15.mlp.down_proj |----------------------------------------| 100.0%6 / 2:03:12 [0/112] 0.0%.0%"
     ]
    },
    {
     "name": "stderr",
     "output_type": "stream",
     "text": [
      "INFO - Model packed.\n"
     ]
    },
    {
     "name": "stdout",
     "output_type": "stream",
     "text": [
      " Quantizing mlp.down_proj in layer 15 of 15 |----------------------------------------| 100.0%SAVING...\n"
     ]
    },
    {
     "name": "stderr",
     "output_type": "stream",
     "text": [
      "INFO - Pre-Quantized model size: 4714.32MB, 4.60GB\n",
      "INFO - Quantized model size: 1485.55MB, 1.45GB\n",
      "INFO - Size difference: 3228.77MB, 3.15GB - 68.49%\n"
     ]
    },
    {
     "name": "stdout",
     "output_type": "stream",
     "text": [
      "LOADING QUANTIZED MODEL...\n"
     ]
    },
    {
     "name": "stderr",
     "output_type": "stream",
     "text": [
      "INFO - Compatibility: converting `checkpoint_format` from `gptq` to `gptq_v2`.\n"
     ]
    },
    {
     "name": "stdout",
     "output_type": "stream",
     "text": [
      "Computing PPL for quantized model...\n"
     ]
    },
    {
     "data": {
      "application/vnd.jupyter.widget-view+json": {
       "model_id": "6563d656138648b5ac485aaf4d2d1e61",
       "version_major": 2,
       "version_minor": 0
      },
      "text/plain": [
       "Filter:   0%|          | 0/36718 [00:00<?, ? examples/s]"
      ]
     },
     "metadata": {},
     "output_type": "display_data"
    },
    {
     "name": "stdout",
     "output_type": "stream",
     "text": [
      " Perplexity: 19.1346 |----------------------------------------| 100.0%3 / 0:01:23 [410/410] 100.0%"
     ]
    },
    {
     "name": "stderr",
     "output_type": "stream",
     "text": [
      "Setting `pad_token_id` to `eos_token_id`:128001 for open-end generation.\n"
     ]
    },
    {
     "name": "stdout",
     "output_type": "stream",
     "text": [
      "Quantized model PPL: 20.073740641036252\n",
      "Measuring inference speed for quantized model...\n"
     ]
    },
    {
     "name": "stderr",
     "output_type": "stream",
     "text": [
      "Setting `pad_token_id` to `eos_token_id`:128001 for open-end generation.\n",
      "Setting `pad_token_id` to `eos_token_id`:128001 for open-end generation.\n",
      "Setting `pad_token_id` to `eos_token_id`:128001 for open-end generation.\n",
      "Setting `pad_token_id` to `eos_token_id`:128001 for open-end generation.\n",
      "Setting `pad_token_id` to `eos_token_id`:128001 for open-end generation.\n",
      "Setting `pad_token_id` to `eos_token_id`:128001 for open-end generation.\n",
      "Setting `pad_token_id` to `eos_token_id`:128001 for open-end generation.\n",
      "Setting `pad_token_id` to `eos_token_id`:128001 for open-end generation.\n",
      "Setting `pad_token_id` to `eos_token_id`:128001 for open-end generation.\n",
      "Setting `pad_token_id` to `eos_token_id`:128001 for open-end generation.\n"
     ]
    },
    {
     "name": "stdout",
     "output_type": "stream",
     "text": [
      "Quantized model average inference time: 0.7319 seconds per generation\n",
      "\n",
      "Question:  What is the capital of France?\n",
      "Non-quantized model response:\n"
     ]
    },
    {
     "name": "stderr",
     "output_type": "stream",
     "text": [
      "Setting `pad_token_id` to `eos_token_id`:128001 for open-end generation.\n"
     ]
    },
    {
     "name": "stdout",
     "output_type": "stream",
     "text": [
      "tensor([128000,   3923,    374,    279,   6864,    315,   9822,     30,  12366,\n",
      "           198,   3923,    374,    279,   6864,    315,   9822,   5380,  60704,\n",
      "           374,    279,   6864,    315,   9822,     13, 128009],\n",
      "       device='cuda:0')\n",
      "Quantized model response:\n",
      "tensor([128000,   3923,    374,    279,   6864,    315,   9822,     30,  12366,\n",
      "           198,   3923,    374,    279,   6864,    315,   9822,   5380,  60704,\n",
      "           374,    279,   6864,    315,   9822,     13, 128009],\n",
      "       device='cuda:0')\n",
      "\n",
      "SUMMARY:\n",
      "Non-quantized model PPL: 15.922907671351842\n",
      "Quantized model PPL: 20.073740641036252\n",
      "Speed improvement (quantized vs non-quantized): 3.17x faster\n"
     ]
    }
   ],
   "source": [
    "import torch\n",
    "import time\n",
    "from datasets import load_dataset\n",
    "from transformers import AutoTokenizer\n",
    "from gptqmodel import GPTQModel, QuantizeConfig\n",
    "from gptqmodel.utils import Perplexity\n",
    "\n",
    "\n",
    "\n",
    "# Function to measure speed of model generation\n",
    "def measure_inference_time(model, tokenizer, prompt, num_runs=10):\n",
    "    start_time = time.time()\n",
    "    for _ in range(num_runs):\n",
    "        result = model.generate(\n",
    "            **tokenizer(prompt, return_tensors=\"pt\").to(model.device)\n",
    "        )[0]\n",
    "    end_time = time.time()\n",
    "    avg_time = (end_time - start_time) / num_runs\n",
    "    return avg_time\n",
    "\n",
    "\n",
    "model_id = \"meta-llama/Llama-3.2-1B-Instruct\"\n",
    "quant_path = \"Llama-3.2-1B-Instruct-gptqmodel-4bit\"\n",
    "\n",
    "tokenizer = AutoTokenizer.from_pretrained(model_id)\n",
    "\n",
    "# Load the wikitext dataset\n",
    "print(\"LOADING DATASET\")\n",
    "traindataset = get_wikitext2(tokenizer, nsamples=256, seqlen=1024)\n",
    "print(\"DATASET LOADED\")\n",
    "\n",
    "# Choose number of bits for quantization\n",
    "quant_config = QuantizeConfig(bits=4, group_size=128)\n",
    "\n",
    "print(\"LOADING MODEL\")\n",
    "model = GPTQModel.load(model_id, quant_config)\n",
    "print(\"MODEL LOADED\")\n",
    "\n",
    "# Compute PPL for non-quantized model\n",
    "print(\"Computing PPL for non-quantized model...\")\n",
    "non_quantized_ppl = calculate_avg_ppl(model, tokenizer)\n",
    "print(f\"Non-quantized model PPL: {non_quantized_ppl}\")\n",
    "\n",
    "# Measure speed of non-quantized model\n",
    "print(\"Measuring inference speed for non-quantized model...\")\n",
    "non_quantized_speed = measure_inference_time(model, tokenizer, \"Uncovering deep insights begins with\")\n",
    "print(f\"Non-quantized model average inference time: {non_quantized_speed:.4f} seconds per generation\")\n",
    "\n",
    "print(\"QUANTIZING...\")\n",
    "model.quantize(traindataset)\n",
    "\n",
    "print(\"SAVING...\")\n",
    "model.save(quant_path)\n",
    "\n",
    "print(\"LOADING QUANTIZED MODEL...\")\n",
    "model = GPTQModel.load(quant_path)\n",
    "\n",
    "# Compute PPL for quantized model\n",
    "print(\"Computing PPL for quantized model...\")\n",
    "quantized_ppl = calculate_avg_ppl(model, tokenizer)\n",
    "print(f\"Quantized model PPL: {quantized_ppl}\")\n",
    "\n",
    "# Measure speed of quantized model\n",
    "print(\"Measuring inference speed for quantized model...\")\n",
    "quantized_speed = measure_inference_time(model, tokenizer, \"Uncovering deep insights begins with\")\n",
    "print(f\"Quantized model average inference time: {quantized_speed:.4f} seconds per generation\")\n",
    "\n",
    "# Example question generation: comparing responses from both models\n",
    "prompt = \"What is the capital of France?\"\n",
    "print(\"\\nQuestion: \", prompt)\n",
    "\n",
    "# Summary\n",
    "print(\"\\nSUMMARY:\")\n",
    "print(f\"Non-quantized model PPL: {non_quantized_ppl}\")\n",
    "print(f\"Quantized model PPL: {quantized_ppl}\")\n",
    "print(f\"Speed improvement (quantized vs non-quantized): {non_quantized_speed / quantized_speed:.2f}x faster\")\n"
   ]
  },
  {
   "cell_type": "code",
   "execution_count": 7,
   "metadata": {},
   "outputs": [
    {
     "name": "stdout",
     "output_type": "stream",
     "text": [
      "\n",
      "Question:  What is the capital of France?\n",
      "Non-quantized model response:\n"
     ]
    },
    {
     "name": "stderr",
     "output_type": "stream",
     "text": [
      "Setting `pad_token_id` to `eos_token_id`:128001 for open-end generation.\n",
      "Setting `pad_token_id` to `eos_token_id`:128001 for open-end generation.\n"
     ]
    },
    {
     "name": "stdout",
     "output_type": "stream",
     "text": [
      "What is the capital of France? Paris\n",
      "The capital of France is Paris. Paris is the most populous city in France and is known\n",
      "Quantized model response:\n",
      "What is the capital of France? Paris\n",
      "The capital of France is Paris. Paris is the most populous city in France and is known\n"
     ]
    }
   ],
   "source": [
    "# Example question generation: comparing responses from both models\n",
    "prompt = \"What is the capital of France?\"\n",
    "print(\"\\nQuestion: \", prompt)\n",
    "\n",
    "# Non-quantized model response:\n",
    "print(\"Non-quantized model response:\")\n",
    "non_quantized_result = model.generate(\n",
    "  **tokenizer(prompt, return_tensors=\"pt\").to(model.device)\n",
    ")[0]\n",
    "\n",
    "# Decode the generated token IDs to text\n",
    "non_quantized_text = tokenizer.decode(non_quantized_result, skip_special_tokens=True)\n",
    "print(non_quantized_text)\n",
    "\n",
    "# Reload and generate response from quantized model\n",
    "print(\"Quantized model response:\")\n",
    "quantized_result = model.generate(\n",
    "  **tokenizer(prompt, return_tensors=\"pt\").to(model.device)\n",
    ")[0]\n",
    "\n",
    "# Decode the generated token IDs to text\n",
    "quantized_text = tokenizer.decode(quantized_result, skip_special_tokens=True)\n",
    "print(quantized_text)"
   ]
  },
  {
   "cell_type": "markdown",
   "metadata": {},
   "source": [
    "#### To evaluate the model's performance on wikiText we will see how well it performs with random phrases from the test set, since there is no ground truth we will divide the lenghty phrases (len > 150) into input and ground truth\n",
    "\n",
    "<li> Input will be composed of the first 100 characters till the tend of the current word, if any is found (e.g. if the phrases ends on \"he likes buil-\", it will become \"he likes buildings\")</li>\n",
    "<li> The ground truth will be the rest of the phrase</li>"
   ]
  },
  {
   "cell_type": "code",
   "execution_count": 11,
   "metadata": {},
   "outputs": [
    {
     "name": "stdout",
     "output_type": "stream",
     "text": [
      "INPUT TEXT:  Robert Boulter is an English film , television and theatre actor . He had a guest @-@ starring role\n",
      "GROUND TRUTH:  on the television series The Bill in 2000 . This was followed by a starring role in the play Herons written by Simon Stephens , which was performed in 2001 at the Royal Court Theatre . He had a guest role in the television series Judge John Deed in 2002 . In 2004 Boulter landed a role as \" Craig \" in the episode \" Teddy 's Story \" of the television series The Long Firm ; he starred alongside actors Mark Strong and Derek Jacobi . He was cast in the 2005 theatre productions of the Philip Ridley play Mercury Fur , which was performed at the Drum Theatre in Plymouth and the Menier Chocolate Factory in London . He was directed by John Tiffany and starred alongside Ben Whishaw , Shane Zaza , Harry Kent , Fraser Ayres , Sophie Stanton and Dominic Hall . \n",
      "\n",
      "INPUT TEXT:  In 2006 , Boulter starred alongside Whishaw in the play Citizenship written by Mark Ravenhill . He \n",
      "GROUND TRUTH: appeared on a 2006 episode of the television series , Doctors , followed by a role in the 2007 theatre production of How to Curse directed by Josie Rourke . How to Curse was performed at Bush Theatre in the London Borough of Hammersmith and Fulham . Boulter starred in two films in 2008 , Daylight Robbery by filmmaker Paris Leonti , and Donkey Punch directed by Olly Blackburn . In May 2008 , Boulter made a guest appearance on a two @-@ part episode arc of the television series Waking the Dead , followed by an appearance on the television series Survivors in November 2008 . He had a recurring role in ten episodes of the television series Casualty in 2010 , as \" Kieron Fletcher \" . Boulter starred in the 2011 film Mercenaries directed by Paris Leonti . \n",
      "\n",
      "INPUT TEXT:  In 2000 Boulter had a guest @-@ starring role on the television series The Bill ; he portrayed \" Scott\n",
      "GROUND TRUTH:  Parry \" in the episode , \" In Safe Hands \" . Boulter starred as \" Scott \" in the play Herons written by Simon Stephens , which was performed in 2001 at the Royal Court Theatre . A review of Boulter 's performance in The Independent on Sunday described him as \" horribly menacing \" in the role , and he received critical reviews in The Herald , and Evening Standard . He appeared in the television series Judge John Deed in 2002 as \" Addem Armitage \" in the episode \" Political Expediency \" , and had a role as a different character \" Toby Steele \" on The Bill . \n",
      "\n",
      "INPUT TEXT:  He had a recurring role in 2003 on two episodes of The Bill , as character \" Connor Price \" . In 2004\n",
      "GROUND TRUTH:  Boulter landed a role as \" Craig \" in the episode \" Teddy 's Story \" of the television series The Long Firm ; he starred alongside actors Mark Strong and Derek Jacobi . Boulter starred as \" Darren \" , in the 2005 theatre productions of the Philip Ridley play Mercury Fur . It was performed at the Drum Theatre in Plymouth , and the Menier Chocolate Factory in London . He was directed by John Tiffany and starred alongside Ben Whishaw , Shane Zaza , Harry Kent , Fraser Ayres , Sophie Stanton and Dominic Hall . Boulter received a favorable review in The Daily Telegraph : \" The acting is shatteringly intense , with wired performances from Ben Whishaw ( now unrecognisable from his performance as Trevor Nunn 's Hamlet ) , Robert Boulter , Shane Zaza and Fraser Ayres . \" The Guardian noted , \" Ben Whishaw and Robert Boulter offer tenderness amid the savagery . \" \n",
      "\n",
      "INPUT TEXT:  In 2006 Boulter starred in the play Citizenship written by Mark Ravenhill . The play was part of a \n",
      "GROUND TRUTH: series which featured different playwrights , titled Burn / Chatroom / Citizenship . In a 2006 interview , fellow actor Ben Whishaw identified Boulter as one of his favorite co @-@ stars : \" I loved working with a guy called Robert Boulter , who was in the triple bill of Burn , Chatroom and Citizenship at the National . He played my brother in Mercury Fur . \" He portrayed \" Jason Tyler \" on the 2006 episode of the television series , Doctors , titled \" Something I Ate \" . Boulter starred as \" William \" in the 2007 production of How to Curse directed by Josie Rourke . How to Curse was performed at Bush Theatre in the London Borough of Hammersmith and Fulham . In a review of the production for The Daily Telegraph , theatre critic Charles Spencer noted , \" Robert Boulter brings a touching vulnerability to the stage as William . \" \n",
      "\n",
      "INPUT TEXT:  Boulter starred in two films in 2008 , Daylight Robbery by filmmaker Paris Leonti , and Donkey Punch\n",
      "GROUND TRUTH:  directed by Olly Blackburn . Boulter portrayed a character named \" Sean \" in Donkey Punch , who tags along with character \" Josh \" as the \" quiet brother ... who hits it off with Tammi \" . Boulter guest starred on a two @-@ part episode arc \" Wounds \" in May 2008 of the television series Waking the Dead as character \" Jimmy Dearden \" . He appeared on the television series Survivors as \" Neil \" in November 2008 . He had a recurring role in ten episodes of the television series Casualty in 2010 , as \" Kieron Fletcher \" . He portrayed an emergency physician applying for a medical fellowship . He commented on the inherent difficulties in portraying a physician on television : \" Playing a doctor is a strange experience . Pretending you know what you 're talking about when you don 't is very bizarre but there are advisers on set who are fantastic at taking you through procedures and giving you the confidence to stand there and look like you know what you 're doing . \" Boulter starred in the 2011 film Mercenaries directed by Paris Leonti . \n",
      "\n",
      "INPUT TEXT:  Du Fu ( Wade – Giles : Tu Fu ; Chinese : 杜甫 ; 712 – 770 ) was a prominent Chinese poet of the Tang \n",
      "GROUND TRUTH: dynasty . Along with Li Bai ( Li Po ) , he is frequently called the greatest of the Chinese poets . His greatest ambition was to serve his country as a successful civil servant , but he proved unable to make the necessary accommodations . His life , like the whole country , was devastated by the An Lushan Rebellion of 755 , and his last 15 years were a time of almost constant unrest . \n",
      "\n",
      "INPUT TEXT:  Although initially he was little @-@ known to other writers , his works came to be hugely influential\n",
      "GROUND TRUTH:  in both Chinese and Japanese literary culture . Of his poetic writing , nearly fifteen hundred poems have been preserved over the ages . He has been called the \" Poet @-@ Historian \" and the \" Poet @-@ Sage \" by Chinese critics , while the range of his work has allowed him to be introduced to Western readers as \" the Chinese Virgil , Horace , Ovid , Shakespeare , Milton , Burns , Wordsworth , Béranger , Hugo or Baudelaire \" . \n",
      "\n",
      "INPUT TEXT:  Traditional Chinese literary criticism emphasized the life of the author when interpreting a work , \n",
      "GROUND TRUTH: a practice which Burton Watson attributes to \" the close links that traditional Chinese thought posits between art and morality \" . Since many of Du Fu 's poems feature morality and history , this practice is particularly important . Another reason , identified by the Chinese historian William Hung , is that Chinese poems are typically concise , omitting context that might be relevant , but which an informed contemporary could be assumed to know . For modern Western readers , \" The less accurately we know the time , the place and the circumstances in the background , the more liable we are to imagine it incorrectly , and the result will be that we either misunderstand the poem or fail to understand it altogether \" . Stephen Owen suggests a third factor particular to Du Fu , arguing that the variety of the poet 's work required consideration of his whole life , rather than the \" reductive \" categorizations used for more limited poets . \n",
      "\n",
      "INPUT TEXT:  Most of what is known of Du Fu 's life comes from his poems . His paternal grandfather was Du Shenyan\n",
      "GROUND TRUTH:  , a noted politician and poet during the reign of Empress Wu . Du Fu was born in 712 ; the exact birthplace is unknown , except that it was near Luoyang , Henan province ( Gong county is a favourite candidate ) . In later life , he considered himself to belong to the capital city of Chang 'an , ancestral hometown of the Du family . \n",
      "\n",
      "INPUT TEXT:  Du Fu 's mother died shortly after he was born , and he was partially raised by his aunt . He had an\n",
      "GROUND TRUTH:  elder brother , who died young . He also had three half brothers and one half sister , to whom he frequently refers in his poems , although he never mentions his stepmother . \n",
      "\n",
      "INPUT TEXT:  The son of a minor scholar @-@ official , his youth was spent on the standard education of a future\n",
      "GROUND TRUTH:  civil servant : study and memorisation of the Confucian classics of philosophy , history and poetry . He later claimed to have produced creditable poems by his early teens , but these have been lost . \n",
      "\n",
      "INPUT TEXT:  In the early 730s , he travelled in the Jiangsu / Zhejiang area ; his earliest surviving poem , describing\n",
      "GROUND TRUTH:  a poetry contest , is thought to date from the end of this period , around 735 . In that year , he took the civil service exam , likely in Chang 'an . He failed , to his surprise and that of centuries of later critics . Hung concludes that he probably failed because his prose style at the time was too dense and obscure , while Chou suggests his failure to cultivate connections in the capital may have been to blame . After this failure , he went back to traveling , this time around Shandong and Hebei . \n",
      "\n",
      "INPUT TEXT:  His father died around 740 . Du Fu would have been allowed to enter the civil service because of his\n",
      "GROUND TRUTH:  father 's rank , but he is thought to have given up the privilege in favour of one of his half brothers . He spent the next four years living in the Luoyang area , fulfilling his duties in domestic affairs . \n",
      "\n",
      "INPUT TEXT:  In the autumn of 744 , he met Li Bai ( Li Po ) for the first time , and the two poets formed a friendship\n",
      "GROUND TRUTH:  . David Young describes this as \" the most significant formative element in Du Fu 's artistic development \" because it gave him a living example of the reclusive poet @-@ scholar life to which he was attracted after his failure in the civil service exam . The relationship was somewhat one @-@ sided , however . Du Fu was by some years the younger , while Li Bai was already a poetic star . We have twelve poems to or about Li Bai from the younger poet , but only one in the other direction . They met again only once , in 745 . \n",
      "\n",
      "INPUT TEXT:  In 746 , he moved to the capital in an attempt to resurrect his official career . He took the civil\n",
      "GROUND TRUTH:  service exam a second time during the following year , but all the candidates were failed by the prime minister ( apparently in order to prevent the emergence of possible rivals ) . He never again attempted the examinations , instead petitioning the emperor directly in 751 , 754 and probably again in 755 . He married around 752 , and by 757 the couple had had five children — three sons and two daughters — but one of the sons died in infancy in 755 . From 754 he began to have lung problems ( probably asthma ) , the first of a series of ailments which dogged him for the rest of his life . It was in that year that Du Fu was forced to move his family due to the turmoil of a famine brought about by massive floods in the region . \n",
      "\n",
      "INPUT TEXT:  In 755 , he received an appointment as Registrar of the Right Commandant 's office of the Crown Prince\n",
      "GROUND TRUTH:  's Palace . Although this was a minor post , in normal times it would have been at least the start of an official career . Even before he had begun work , however , the position was swept away by events . \n",
      "\n",
      "INPUT TEXT:  The An Lushan Rebellion began in December 755 , and was not completely suppressed for almost eight \n",
      "GROUND TRUTH: years . It caused enormous disruption to Chinese society : the census of 754 recorded 52 @.@ 9 million people , but ten years later , the census counted just 16 @.@ 9 million , the remainder having been displaced or killed . During this time , Du Fu led a largely itinerant life unsettled by wars , associated famines and imperial displeasure . This period of unhappiness was the making of Du Fu as a poet : Even Shan Chou has written that , \" What he saw around him — the lives of his family , neighbors , and strangers – what he heard , and what he hoped for or feared from the progress of various campaigns — these became the enduring themes of his poetry \" . Even when he learned of the death of his youngest child , he turned to the suffering of others in his poetry instead of dwelling upon his own misfortunes . Du Fu wrote : \n",
      "\n",
      "INPUT TEXT:  Brooding on what I have lived through , if even I know such suffering , the common man must surely \n",
      "GROUND TRUTH: be rattled by the winds . \n",
      "\n",
      "INPUT TEXT:  In 756 , Emperor Xuanzong was forced to flee the capital and abdicate . Du Fu , who had been away from\n",
      "GROUND TRUTH:  the city , took his family to a place of safety and attempted to join the court of the new emperor ( Suzong ) , but he was captured by the rebels and taken to Chang 'an . In the autumn , his youngest son , Du Zongwu ( Baby Bear ) , was born . Around this time Du Fu is thought to have contracted malaria . \n",
      "\n",
      "INPUT TEXT:  He escaped from Chang 'an the following year , and was appointed Reminder when he rejoined the court\n",
      "GROUND TRUTH:  in May 757 . This post gave access to the emperor but was largely ceremonial . Du Fu 's conscientiousness compelled him to try to make use of it : he caused trouble for himself by protesting the removal of his friend and patron Fang Guan on a petty charge . He was arrested but was pardoned in June . He was granted leave to visit his family in September , but he soon rejoined the court and on December 8 , 757 , he returned to Chang 'an with the emperor following its recapture by government forces . However , his advice continued to be unappreciated , and in the summer of 758 he was demoted to a post as Commissioner of Education in Huazhou . The position was not to his taste : in one poem , he wrote : \n",
      "\n",
      "INPUT TEXT:  I am about to scream madly in the office / Especially when they bring more papers to pile higher on\n",
      "GROUND TRUTH:  my desk . \n",
      "\n",
      "INPUT TEXT:  He moved on in the summer of 759 ; this has traditionally been ascribed to famine , but Hung believes\n",
      "GROUND TRUTH:  that frustration is a more likely reason . He next spent around six weeks in Qinzhou ( now Tianshui , Gansu province ) , where he wrote more than sixty poems . \n",
      "\n",
      "INPUT TEXT:  In December 759 , he briefly stayed in Tonggu ( modern Gansu ) . He departed on December 24 for Chengdu\n",
      "GROUND TRUTH:  ( Sichuan province ) , where he was hosted by local Prefect and fellow poet Pei Di . Du subsequently based himself in Sichuan for most of the next five years . By the autumn of that year he was in financial trouble , and sent poems begging help to various acquaintances . He was relieved by Yan Wu , a friend and former colleague who was appointed governor general at Chengdu . Despite his financial problems , this was one of the happiest and most peaceful periods of his life . Many of Du 's poems from this period are peaceful depictions of his life at \" thatched hut \" . In 762 , he left the city to escape a rebellion , but he returned in summer 764 when he was appointed an advisor to Yan , who was involved in campaigns against the Tibetan Empire . \n",
      "\n",
      "INPUT TEXT:  Luoyang , the region of his birthplace , was recovered by government forces in the winter of 762 , \n",
      "GROUND TRUTH: and in the spring of 765 Du Fu and his family sailed down the Yangtze , apparently with the intention of making their way there . They traveled slowly , held up by his ill @-@ health ( by this time he was suffering from poor eyesight , deafness and general old age in addition to his previous ailments ) . They stayed in Kuizhou ( in what is now Baidicheng , Chongqing ) at the entrance to the Three Gorges for almost two years from late spring 766 . This period was Du Fu 's last great poetic flowering , and here he wrote 400 poems in his dense , late style . In autumn 766 , Bo Maolin became governor of the region : he supported Du Fu financially and employed him as his unofficial secretary . \n",
      "\n",
      "INPUT TEXT:  In March 768 , he began his journey again and got as far as Hunan province , where he died in Tanzhou\n",
      "GROUND TRUTH:  ( now Changsha ) in November or December 770 , in his 58th year . He was survived by his wife and two sons , who remained in the area for some years at least . His last known descendant is a grandson who requested a grave inscription for the poet from Yuan Zhen in 813 . \n",
      "\n",
      "INPUT TEXT:  Hung summarises his life by concluding that , \" He appeared to be a filial son , an affectionate father\n",
      "GROUND TRUTH:  , a generous brother , a faithful husband , a loyal friend , a dutiful official , and a patriotic subject . \" \n",
      "\n",
      "INPUT TEXT:  Below is an example of one of Du Fu 's later works , To My Retired Friend Wei ( Chinese : 贈衛八處士 ) . \n",
      "GROUND TRUTH: Like many other poems in the Tang it featured the theme of a long parting between friends , which was often due to officials being frequently transferred to the provinces : \n",
      "\n",
      "INPUT TEXT:  Criticism of Du Fu 's works has focused on his strong sense of history , his moral engagement , and\n",
      "GROUND TRUTH:  his technical excellence . \n",
      "\n",
      "INPUT TEXT:  Since the Song dynasty , critics have called Du Fu the \" poet historian \" ( 詩史 shī shǐ ) . The most\n",
      "GROUND TRUTH:  directly historical of his poems are those commenting on military tactics or the successes and failures of the government , or the poems of advice which he wrote to the emperor . Indirectly , he wrote about the effect of the times in which he lived on himself , and on the ordinary people of China . As Watson notes , this is information \" of a kind seldom found in the officially compiled histories of the era \" . \n",
      "\n",
      "INPUT TEXT:  Du Fu 's political comments are based on emotion rather than calculation : his prescriptions have been\n",
      "GROUND TRUTH:  paraphrased as , \" Let us all be less selfish , let us all do what we are supposed to do \" . Since his views were impossible to disagree with , his forcefully expressed truisms enabled his installation as the central figure of Chinese poetic history . \n",
      "\n",
      "INPUT TEXT:  A second favourite epithet of Chinese critics is that of \" poet sage \" ( 詩聖 shī shèng ) , a counterpart\n",
      "GROUND TRUTH:  to the philosophical sage , Confucius . One of the earliest surviving works , The Song of the Wagons ( from around 750 ) , gives voice to the sufferings of a conscript soldier in the imperial army and a clear @-@ sighted consciousness of suffering . These concerns are continuously articulated in poems on the lives of both soldiers and civilians produced by Du Fu throughout his life . \n",
      "\n",
      "INPUT TEXT:  Although Du Fu 's frequent references to his own difficulties can give the impression of an all @-@ \n",
      "GROUND TRUTH: consuming solipsism , Hawkes argues that his \" famous compassion in fact includes himself , viewed quite objectively and almost as an afterthought \" . He therefore \" lends grandeur \" to the wider picture by comparing it to \" his own slightly comical triviality \" . \n",
      "\n",
      "INPUT TEXT:  Du Fu 's compassion , for himself and for others , was part of his general broadening of the scope \n",
      "GROUND TRUTH: of poetry : he devoted many works to topics which had previously been considered unsuitable for poetic treatment . Zhang Jie wrote that for Du Fu , \" everything in this world is poetry \" , Du wrote extensively on subjects such as domestic life , calligraphy , paintings , animals , and other poems . \n",
      "\n",
      "INPUT TEXT:  Du Fu 's work is notable above all for its range . Chinese critics traditionally used the term 集大成 ( \n",
      "GROUND TRUTH: jídàchéng- \" complete symphony \" ) , a reference to Mencius ' description of Confucius . Yuan Zhen was the first to note the breadth of Du Fu 's achievement , writing in 813 that his predecessor , \" united in his work traits which previous men had displayed only singly \" . He mastered all the forms of Chinese poetry : Chou says that in every form he \" either made outstanding advances or contributed outstanding examples \" . Furthermore , his poems use a wide range of registers , from the direct and colloquial to the allusive and self @-@ consciously literary . This variety is manifested even within individual works : Owen identifies the , \" rapid stylistic and thematic shifts \" in poems which enable the poet to represent different facets of a situation , while Chou uses the term \" juxtaposition \" as the major analytical tool in her work . Du Fu is noted for having written more on poetics and painting than any other writer of his time . He wrote eighteen poems on painting alone , more than any other Tang poet . Du Fu 's seemingly negative commentary on the prized horse paintings of Han Gan ignited a controversy that has persisted to the present day . \n",
      "\n",
      "INPUT TEXT:  The tenor of his work changed as he developed his style and adapted to his surroundings ( \" chameleon\n",
      "GROUND TRUTH:  @-@ like \" according to Watson ) : his earliest works are in a relatively derivative , courtly style , but he came into his own in the years of the rebellion . Owen comments on the \" grim simplicity \" of the Qinzhou poems , which mirrors the desert landscape ; the works from his Chengdu period are \" light , often finely observed \" ; while the poems from the late Kuizhou period have a \" density and power of vision \" . \n",
      "\n",
      "INPUT TEXT:  Although he wrote in all poetic forms , Du Fu is best known for his lǜshi , a type of poem with strict\n",
      "GROUND TRUTH:  constraints on form and content , for example : \n",
      "\n",
      "INPUT TEXT:  About two thirds of Du Fu 's 1500 extant works are in this form , and he is generally considered to\n",
      "GROUND TRUTH:  be its leading exponent . His best lǜshi use the parallelisms required by the form to add expressive content rather than as mere technical restrictions . Hawkes comments that , \" it is amazing that Tu Fu is able to use so immensely stylized a form in so natural a manner \" . \n",
      "\n",
      "INPUT TEXT:  According to the Encyclopædia Britannica , Du Fu 's writings are considered by many literary critics\n",
      "GROUND TRUTH:  to be among the greatest of all time , and it states \" his dense , compressed language makes use of all the connotative overtones of a phrase and of all the intonational potentials of the individual word , qualities that no translation can ever reveal . \" \n",
      "\n",
      "INPUT TEXT:  In his lifetime and immediately following his death , Du Fu was not greatly appreciated . In part this\n",
      "GROUND TRUTH:  can be attributed to his stylistic and formal innovations , some of which are still \" considered extremely daring and bizarre by Chinese critics . \" There are few contemporary references to him — only eleven poems from six writers — and these describe him in terms of affection , but not as a paragon of poetic or moral ideals . Du Fu is also poorly represented in contemporary anthologies of poetry . \n",
      "\n",
      "INPUT TEXT:  However , as Hung notes , he \" is the only Chinese poet whose influence grew with time \" , and his \n",
      "GROUND TRUTH: works began to increase in popularity in the ninth century . Early positive comments came from Bai Juyi , who praised the moral sentiments of some of Du Fu 's works ( although he found these in only a small fraction of the poems ) , and from Han Yu , who wrote a piece defending Du Fu and Li Bai on aesthetic grounds from attacks made against them . Both these writers showed the influence of Du Fu in their own poetic work . By the beginning of the 10th century , Wei Zhuang constructed the first replica of his thatched cottage in Sichuan . \n",
      "\n",
      "INPUT TEXT:  It was in the 11th century , during the Northern Song era that Du Fu 's reputation reached its peak\n",
      "GROUND TRUTH:  . In this period a comprehensive re @-@ evaluation of earlier poets took place , in which Wang Wei , Li Bai and Du Fu came to be regarded as representing respectively the Buddhist , Daoist and Confucian strands of Chinese culture . At the same time , the development of Neo @-@ Confucianism ensured that Du Fu , as its poetic exemplar , occupied the paramount position . Su Shi famously expressed this reasoning when he wrote that Du Fu was \" preeminent ... because ... through all his vicissitudes , he never for the space of a meal forgot his sovereign \" . His influence was helped by his ability to reconcile apparent opposites : political conservatives were attracted by his loyalty to the established order , while political radicals embraced his concern for the poor . Literary conservatives could look to his technical mastery , while literary radicals were inspired by his innovations . Since the establishment of the People 's Republic of China , Du Fu 's loyalty to the state and concern for the poor have been interpreted as embryonic nationalism and socialism , and he has been praised for his use of simple , \" people 's language \" . \n",
      "\n"
     ]
    }
   ],
   "source": [
    "import re\n",
    "test_data = load_dataset(\"wikitext\", \"wikitext-2-raw-v1\", split=\"test\")\n",
    "\n",
    "for i in range(100):\n",
    "    sample = test_data[i][\"text\"]\n",
    "    input_cutoff = 100\n",
    "    if len(sample) > input_cutoff:\n",
    "        # Match up to the nearest word boundary after the cutoff\n",
    "        match = re.match(r\"^(.{100,}?\\b)\", sample[:150])  # Up to 150 characters\n",
    "        if match:\n",
    "            input_text = match.group(1)\n",
    "        else:\n",
    "            input_text = sample[:100]  # Fallback in case regex fails\n",
    "    else:\n",
    "        continue\n",
    "\n",
    "    # Use the remaining text for the ground truth\n",
    "    ground_truth_start = len(input_text)\n",
    "    ground_truth = sample[ground_truth_start:]\n",
    "    print(f\"INPUT TEXT: {input_text}\")\n",
    "    print(f\"GROUND TRUTH: {ground_truth}\")\n"
   ]
  },
  {
   "cell_type": "code",
   "execution_count": 13,
   "metadata": {},
   "outputs": [
    {
     "name": "stderr",
     "output_type": "stream",
     "text": [
      "INFO - Compatibility: converting `checkpoint_format` from `gptq` to `gptq_v2`.\n",
      "Setting `pad_token_id` to `eos_token_id`:128001 for open-end generation.\n"
     ]
    },
    {
     "name": "stdout",
     "output_type": "stream",
     "text": [
      "Evaluating non-quantized model...\n"
     ]
    },
    {
     "name": "stderr",
     "output_type": "stream",
     "text": [
      "Setting `pad_token_id` to `eos_token_id`:128001 for open-end generation.\n",
      "Setting `pad_token_id` to `eos_token_id`:128001 for open-end generation.\n",
      "Setting `pad_token_id` to `eos_token_id`:128001 for open-end generation.\n",
      "Setting `pad_token_id` to `eos_token_id`:128001 for open-end generation.\n",
      "Setting `pad_token_id` to `eos_token_id`:128001 for open-end generation.\n"
     ]
    },
    {
     "name": "stdout",
     "output_type": "stream",
     "text": [
      "Evaluating quantized model...\n"
     ]
    },
    {
     "name": "stderr",
     "output_type": "stream",
     "text": [
      "Setting `pad_token_id` to `eos_token_id`:128001 for open-end generation.\n",
      "Setting `pad_token_id` to `eos_token_id`:128001 for open-end generation.\n",
      "Setting `pad_token_id` to `eos_token_id`:128001 for open-end generation.\n",
      "Setting `pad_token_id` to `eos_token_id`:128001 for open-end generation.\n"
     ]
    },
    {
     "name": "stdout",
     "output_type": "stream",
     "text": [
      "\n",
      "Sample 1:\n",
      "Input Text:  Robert Boulter is an English film , television and theatre actor . He had a guest @-@ starring role\n",
      "Ground Truth:  on the television series The Bill in 2000 . This was followed by a starring role in the play Herons written by Simon Stephens , which was performed i\n",
      "Non-Quantized Generated:  Robert Boulter is an English film, television and theatre actor. He had a guest @-@ starring role in the 1980s and 1990s TV series \"The Young Ones\". He appeared in the 1984 film \" The Wild Boys of London \". He also appeared in the 1990s TV series \"The Bill\". He has also appeared in the 1984 film \" The Wild Boys of London \" and the 1990s TV series \" The Bill \". He also appeared in the 1984 film \" The Wild Boys of London \" and the 1990s TV series \" The Bill \". He also appeared in the 1984 film \" The Wild Boys of London \"\n",
      "Quantized Generated:  Robert Boulter is an English film, television and theatre actor. He had a guest @-@ starring role in the 2010 film \"The Twilight Saga: New Moon\". He also appeared in the 2010 film \"The Twilight Saga: Eclipse\". He played the role of @-@ in the 2010 film \"The Twilight Saga: Breaking Dawn - Part 1\". He also appeared in the 2010 film \"The Twilight Saga: Breaking Dawn - Part 2\". He played the role of @-@ in the 2012 film \"The Twilight Saga: Breaking Dawn - Part 3\". He also appeared in the 2013 film \"The Twilight Saga: Breaking Dawn - Part\n",
      "\n",
      "Sample 2:\n",
      "Input Text:  In 2006 , Boulter starred alongside Whishaw in the play Citizenship written by Mark Ravenhill . He \n",
      "Ground Truth: appeared on a 2006 episode of the television series , Doctors , followed by a role in the 2007 theatre production of How to Curse directed by Josie Ro\n",
      "Non-Quantized Generated:  In 2006, Boulter starred alongside Whishaw in the play Citizenship written by Mark Ravenhill. He  played the role of the main character, Arthur's father, in the BBC television series adaptation of the play, which aired in 2007. He also appeared in the film adaptation of the play, which was released in 2008. Boulter played the role of the villainous character,'s father, in the film adaptation of the play. He also played the role of the main character in the film adaptation of the play. He also appeared in the film adaptation of the play. He also appeared in the film adaptation of the play. He also appeared in the film adaptation of the play. He\n",
      "Quantized Generated:  In 2006, Boulter starred alongside Whishaw in the play Citizenship written by Mark Ravenhill. He  also appeared in the 2007 film The Last Day of Summer, alongside Whishaw and Kate Winslet. Boulter has also appeared in the 2008 film The Last Day of Summer, alongside Whishaw and Kate Winslet. He has also appeared in the 2008 film The Last Day of Summer, alongside Whishaw and Kate Winslet. He has also appeared in the 2008 film The Last Day of Summer, alongside Whishaw and Kate Winslet. He has also appeared in the 2008 film The Last Day of Summer, alongside Whishaw and Kate Winslet\n",
      "\n",
      "Sample 3:\n",
      "Input Text:  In 2000 Boulter had a guest @-@ starring role on the television series The Bill ; he portrayed \" Scott\n",
      "Ground Truth:  Parry \" in the episode , \" In Safe Hands \" . Boulter starred as \" Scott \" in the play Herons written by Simon Stephens , which was performed in 2001 \n",
      "Non-Quantized Generated:  In 2000 Boulter had a guest @-@ starring role on the television series The Bill ; he portrayed \" Scotty\" in the episode \" Scotty's Return\". He also appeared in a few episodes of the 2003 series The Bill. In 2003 Boulter had a guest role on the television series The Bill, in the episode \" Scotty's Return\". He also appeared in a few episodes of the 2004 series The Bill. In 2004 Boulter had a guest role on the television series The Bill. In 2005 Boulter had a guest role on the television series The Bill. In 2006 Boulter had a guest role on the television series\n",
      "Quantized Generated:  In 2000 Boulter had a guest @-@ starring role on the television series The Bill ; he portrayed \" Scotty\", a young man who gets into a fight with a group of rough-looking men. Boulter's performance was widely praised by critics and audiences alike. He was also cast in the film \" The Bill \", which was released in 2001. Boulter's performance in \" The Bill \" was also widely praised. He played the role of \" Scotty\", a young man who gets into a fight with a group of rough-looking men. Boulter's performance in \" The Bill \" was also widely praised. He played the role of \" Scotty\", a young man who\n",
      "\n",
      "Sample 4:\n",
      "Input Text:  He had a recurring role in 2003 on two episodes of The Bill , as character \" Connor Price \" . In 2004\n",
      "Ground Truth:  Boulter landed a role as \" Craig \" in the episode \" Teddy 's Story \" of the television series The Long Firm ; he starred alongside actors Mark Strong\n",
      "Non-Quantized Generated:  He had a recurring role in 2003 on two episodes of The Bill, as character \" Connor Price \". In 2004, he appeared in a guest role on the BBC series \" Casualty \". He also appeared in the 2006 film \" The Last Airbender \", where he played the role of \" Prince Zuko \". In 2007, he appeared in the BBC series \" Doctor Who \", as character \" Mr. Big \". In 2008, he appeared in the BBC series \" Doctor Who \", as character \" Mr. Big \". In 2009, he appeared in the BBC series \" Doctor Who \", as character \" Mr. Big \". In 2010,\n",
      "Quantized Generated:  He had a recurring role in 2003 on two episodes of The Bill, as character \" Connor Price \". In 2004, he appeared in the episode \" The Bill \", as character \" Connor Price \" again. In 2005, he appeared in the episode \" The Bill \", as character \" Connor Price \" once more. In 2006, he appeared in the episode \" The Bill \", as character \" Connor Price \" once again. In 2007, he appeared in the episode \" The Bill \", as character \" Connor Price \" once more. In 2008, he appeared in the episode \" The Bill \", as character \" Connor Price \" once again. In 2009, he appeared\n",
      "\n",
      "Sample 5:\n",
      "Input Text:  In 2006 Boulter starred in the play Citizenship written by Mark Ravenhill . The play was part of a \n",
      "Ground Truth: series which featured different playwrights , titled Burn / Chatroom / Citizenship . In a 2006 interview , fellow actor Ben Whishaw identified Boulter\n",
      "Non-Quantized Generated:  In 2006 Boulter starred in the play Citizenship written by Mark Ravenhill. The play was part of a 2006-2007 season of the London's Young Vic theatre company. The play was later adapted into a film in 2009. Boulter also starred in the 2006 film \"The Invention of Lying\" alongside Ben Kingsley and Colin Firth.\n",
      "Quantized Generated:  In 2006 Boulter starred in the play Citizenship written by Mark Ravenhill. The play was part of a 2006-2007 season of the Royal Shakespeare Company and was performed at the Royal Shakespeare Theatre in Stratford-upon-Avon. Boulter played the role of the protagonist, a young man who is struggling to come to terms with the loss of his father. The play explores themes of grief, identity and the search for meaning in a postmodern world.\n"
     ]
    }
   ],
   "source": [
    "from datasets import load_dataset\n",
    "from transformers import AutoTokenizer\n",
    "import torch\n",
    "\n",
    "\n",
    "# Load the wikitext test dataset\n",
    "test_data = load_dataset(\"wikitext\", \"wikitext-2-raw-v1\", split=\"test\")\n",
    "\n",
    "# Load the tokenizer and models (non-quantized and quantized)\n",
    "model_id = \"meta-llama/Llama-3.2-1B-Instruct\"\n",
    "tokenizer = AutoTokenizer.from_pretrained(model_id)\n",
    "\n",
    "quant_config = QuantizeConfig(bits=4, group_size=128)\n",
    "# Prepare the non-quantized and quantized models\n",
    "quant_path = \"Llama-3.2-1B-Instruct-gptqmodel-4bit\"\n",
    "non_quantized_model = GPTQModel.load(model_id, quant_config)  # Non-quantized\n",
    "quantized_model = GPTQModel.load(quant_path)  # Quantized\n",
    "\n",
    "# Define a function to evaluate the models\n",
    "def evaluate_model_on_wikitext(test_data, tokenizer, model, input_cutoff = 150, num_samples=5, max_length=150):\n",
    "    results = []\n",
    "    i, counter = 0, 0\n",
    "    while counter < num_samples:\n",
    "        # Select a random example from the test set\n",
    "        sample = test_data[i][\"text\"]\n",
    "\n",
    "        # I only want lengthy samples to evaluate model's performance\n",
    "        if len(sample) < 200:\n",
    "            i += 1\n",
    "            continue\n",
    "\n",
    "        if len(sample) > input_cutoff:\n",
    "            # Match up to the nearest word boundary after the cutoff\n",
    "            match = re.match(r\"^(.{100,}?\\b)\", sample[:170])  \n",
    "            if match:\n",
    "                input_text = match.group(1)\n",
    "            else:\n",
    "                continue  # Fallback in case regex fails\n",
    "        else:\n",
    "            continue\n",
    "\n",
    "        # Use the remaining text for the ground truth\n",
    "        ground_truth_start = len(input_text)\n",
    "        ground_truth = sample[ground_truth_start:ground_truth_start + max_length]\n",
    "\n",
    "        # Generate a response\n",
    "        inputs = tokenizer(input_text, return_tensors=\"pt\").to(model.device)\n",
    "        output = model.generate(**inputs, max_length=max_length)\n",
    "        generated_text = tokenizer.decode(output[0], skip_special_tokens=True)\n",
    "\n",
    "        # Store the result\n",
    "        results.append({\n",
    "            \"input_text\": input_text,\n",
    "            \"ground_truth\": ground_truth,\n",
    "            \"generated_text\": generated_text\n",
    "        })\n",
    "\n",
    "        counter += 1\n",
    "        i += 1\n",
    "\n",
    "    return results\n",
    "\n",
    "# Evaluate both models\n",
    "print(\"Evaluating non-quantized model...\")\n",
    "non_quantized_results = evaluate_model_on_wikitext(test_data, tokenizer, non_quantized_model)\n",
    "\n",
    "print(\"Evaluating quantized model...\")\n",
    "quantized_results = evaluate_model_on_wikitext(test_data, tokenizer, quantized_model)\n",
    "\n",
    "# Compare results\n",
    "for i, (nq_res, q_res) in enumerate(zip(non_quantized_results, quantized_results)):\n",
    "    print(f\"\\nSample {i+1}:\")\n",
    "    print(\"Input Text:\", nq_res[\"input_text\"])\n",
    "    print(\"Ground Truth:\", nq_res[\"ground_truth\"])\n",
    "    print(\"Non-Quantized Generated:\", nq_res[\"generated_text\"])\n",
    "    print(\"Quantized Generated:\", q_res[\"generated_text\"])\n"
   ]
  },
  {
   "cell_type": "code",
   "execution_count": 42,
   "metadata": {},
   "outputs": [],
   "source": [
    "# Function to calculate Perplexity distribution\n",
    "@torch.no_grad()\n",
    "def calculate_ppl_distribution(model, tokenizer, dataset_path=\"wikitext\", dataset_name=\"wikitext-2-raw-v1\", split=\"test\", n_chunks=10):\n",
    "    ppl = Perplexity(\n",
    "        model=model,\n",
    "        tokenizer=tokenizer,\n",
    "        dataset_path=dataset_path,\n",
    "        dataset_name=dataset_name,\n",
    "        split=split,\n",
    "        text_column=\"text\",\n",
    "    )\n",
    "\n",
    "    all_ppl = ppl.calculate(n_ctx=512, n_batch=512)\n",
    "    chunk_size = len(all_ppl) // n_chunks\n",
    "    distributions = [np.mean(all_ppl[i:i + chunk_size]) for i in range(0, len(all_ppl), chunk_size)]\n",
    "    return distributions\n",
    "\n",
    "def compute_ppl_distribution_for_all_bits(model_id, group_size = 128):\n",
    "    ppl_distributions = []\n",
    "    non_quant_model = GPTQModel.load(model_id, QuantizeConfig(bits=4, group_size=128))\n",
    "    tokenizer = AutoTokenizer.from_pretrained(model_id)\n",
    "    print(\"COMPUTING PERPLEXITY FOR NON QUANTIZED MODEL\")\n",
    "    ppl_distributions.append(calculate_ppl_distribution(non_quant_model, tokenizer))\n",
    "\n",
    "    for num_bits in [2, 3, 4, 8]:\n",
    "        print(f\"COMPUTING PERPLEXITY FOR {num_bits} BITS\")\n",
    "        quant_path = f\"Llama-3.2-1B-Instruct-gptqmodel-{num_bits}bit-{group_size}gs\"\n",
    "        model = GPTQModel.load(quant_path)\n",
    "        ppl_distributions.append(calculate_ppl_distribution(model, tokenizer))\n",
    "\n",
    "    return ppl_distributions\n",
    "\n",
    "def show_distributions(ppl_distributions):\n",
    "    ppl_legend = {\n",
    "        0: 'non-quantized',\n",
    "        1: '2-bits',\n",
    "        2: '3-bits',\n",
    "        3: '4-bits',\n",
    "        4: '8-bits',\n",
    "    }\n",
    "\n",
    "    plt.figure(figsize=(8, 5))\n",
    "    for i in range(len(ppl_distributions)):\n",
    "        plt.plot(ppl_distributions[i], label=ppl_legend[i], marker=\"o\")\n",
    "\n",
    "    plt.title(\"Perplexity Distribution\")\n",
    "    plt.xlabel(\"Chunk Index\")\n",
    "    plt.ylabel(\"Average Perplexity\")\n",
    "    plt.legend()\n",
    "    plt.show()"
   ]
  },
  {
   "cell_type": "code",
   "execution_count": 43,
   "metadata": {},
   "outputs": [
    {
     "name": "stdout",
     "output_type": "stream",
     "text": [
      "COMPUTING PERPLEXITY FOR NON QUANTIZED MODEL\n"
     ]
    },
    {
     "name": "stderr",
     "output_type": "stream",
     "text": [
      "Parameter 'function'=<function Perplexity._prepare_data.<locals>.<lambda> at 0x00000194C939BD80> of the transform datasets.arrow_dataset.Dataset.filter@2.0.1 couldn't be hashed properly, a random hash was used instead. Make sure your transforms and parameters are serializable with pickle or dill for the dataset fingerprinting and caching to work. If you reuse this transform, the caching mechanism will consider it to be different from the previous calls and recompute everything. This warning is only showed once. Subsequent hashing failures won't be showed.\n"
     ]
    },
    {
     "data": {
      "application/vnd.jupyter.widget-view+json": {
       "model_id": "0491c3aeb8344c5d8415cad96d13c7d3",
       "version_major": 2,
       "version_minor": 0
      },
      "text/plain": [
       "Filter:   0%|          | 0/4358 [00:00<?, ? examples/s]"
      ]
     },
     "metadata": {},
     "output_type": "display_data"
    },
    {
     "name": "stdout",
     "output_type": "stream",
     "text": [
      " Perplexity: 14.5253 |----------------------------------------| 100.0%3 / 0:05:23 [399/399] 100.0%COMPUTING PERPLEXITY FOR 2 BITS\n"
     ]
    },
    {
     "name": "stderr",
     "output_type": "stream",
     "text": [
      "INFO - Compatibility: converting `checkpoint_format` from `gptq` to `gptq_v2`.\n"
     ]
    },
    {
     "name": "stdout",
     "output_type": "stream",
     "text": [
      " Perplexity: 4713.0921 |----------------------------------------| 100.0%1 / 0:01:21 [399/399] 100.0%COMPUTING PERPLEXITY FOR 3 BITS\n"
     ]
    },
    {
     "name": "stderr",
     "output_type": "stream",
     "text": [
      "INFO - Compatibility: converting `checkpoint_format` from `gptq` to `gptq_v2`.\n"
     ]
    },
    {
     "name": "stdout",
     "output_type": "stream",
     "text": [
      " Perplexity: 28.6991 |----------------------------------------| 100.0%3 / 0:02:03 [399/399] 100.0%COMPUTING PERPLEXITY FOR 4 BITS\n"
     ]
    },
    {
     "name": "stderr",
     "output_type": "stream",
     "text": [
      "INFO - Compatibility: converting `checkpoint_format` from `gptq` to `gptq_v2`.\n"
     ]
    },
    {
     "data": {
      "application/vnd.jupyter.widget-view+json": {
       "model_id": "dd67b03f206c492083374de3eea25f09",
       "version_major": 2,
       "version_minor": 0
      },
      "text/plain": [
       "Filter:   0%|          | 0/4358 [00:00<?, ? examples/s]"
      ]
     },
     "metadata": {},
     "output_type": "display_data"
    },
    {
     "name": "stdout",
     "output_type": "stream",
     "text": [
      " Perplexity: 18.8967 |----------------------------------------| 100.0%9 / 0:01:19 [399/399] 100.0%COMPUTING PERPLEXITY FOR 8 BITS\n"
     ]
    },
    {
     "name": "stderr",
     "output_type": "stream",
     "text": [
      "INFO - Compatibility: converting `checkpoint_format` from `gptq` to `gptq_v2`.\n"
     ]
    },
    {
     "data": {
      "application/vnd.jupyter.widget-view+json": {
       "model_id": "6de45f8f0ebb42bd93c14e32f42b1ed8",
       "version_major": 2,
       "version_minor": 0
      },
      "text/plain": [
       "Filter:   0%|          | 0/4358 [00:00<?, ? examples/s]"
      ]
     },
     "metadata": {},
     "output_type": "display_data"
    },
    {
     "name": "stdout",
     "output_type": "stream",
     "text": [
      " Perplexity: 17.3995 |----------------------------------------| 100.0%4 / 0:01:34 [399/399] 100.0%"
     ]
    },
    {
     "data": {
      "image/png": "[encoded data removed]",
      "text/plain": [
       "<Figure size 800x500 with 1 Axes>"
      ]
     },
     "metadata": {},
     "output_type": "display_data"
    }
   ],
   "source": [
    "ppl_distributions = compute_ppl_distribution_for_all_bits(model_id)\n",
    "show_distributions(ppl_distributions)"
   ]
  },
  {
   "cell_type": "code",
   "execution_count": 44,
   "metadata": {},
   "outputs": [
    {
     "data": {
      "image/png": "[encoded data removed]",
      "text/plain": [
       "<Figure size 800x500 with 1 Axes>"
      ]
     },
     "metadata": {},
     "output_type": "display_data"
    }
   ],
   "source": [
    "ppl_legend = {\n",
    "        0: 'non-quantized',\n",
    "        #1: '2-bits',\n",
    "        2: '3-bits',\n",
    "        3: '4-bits',\n",
    "        4: '8-bits',\n",
    "    }\n",
    "\n",
    "plt.figure(figsize=(8, 5))\n",
    "for i in range(len(ppl_distributions)):\n",
    "    if i == 1:\n",
    "        continue\n",
    "    plt.plot(ppl_distributions[i], label=ppl_legend[i], marker=\"o\")\n",
    "\n",
    "plt.title(\"Perplexity Distribution\")\n",
    "plt.xlabel(\"Chunk Index\")\n",
    "plt.ylabel(\"Average Perplexity\")\n",
    "plt.legend()\n",
    "plt.show()"
   ]
  },
  {
   "cell_type": "code",
   "execution_count": 15,
   "metadata": {},
   "outputs": [
    {
     "name": "stdout",
     "output_type": "stream",
     "text": [
      "Calculating PPL distribution for non-quantized model...\n"
     ]
    },
    {
     "data": {
      "application/vnd.jupyter.widget-view+json": {
       "model_id": "a8aed56274bb415f8c994b2e275716c9",
       "version_major": 2,
       "version_minor": 0
      },
      "text/plain": [
       "Filter:   0%|          | 0/36718 [00:00<?, ? examples/s]"
      ]
     },
     "metadata": {},
     "output_type": "display_data"
    },
    {
     "name": "stdout",
     "output_type": "stream",
     "text": [
      " Perplexity: 15.2052 |----------------------------------------| 100.0%1 / 0:05:11 [410/410] 100.0%"
     ]
    },
    {
     "data": {
      "image/png": "[encoded data removed]",
      "text/plain": [
       "<Figure size 800x500 with 1 Axes>"
      ]
     },
     "metadata": {},
     "output_type": "display_data"
    }
   ],
   "source": [
    "# Calculate PPL distribution\n",
    "print(\"Calculating PPL distribution for non-quantized model...\")\n",
    "non_quantized_ppl_distribution = calculate_ppl_distribution(non_quantized_model, tokenizer)\n",
    "\n",
    "# Plot PPL distribution\n",
    "plt.figure(figsize=(8, 5))\n",
    "plt.plot(non_quantized_ppl_distribution, label=\"Non-quantized Model\", marker=\"o\")\n",
    "plt.title(\"Perplexity Distribution\")\n",
    "plt.xlabel(\"Chunk Index\")\n",
    "plt.ylabel(\"Average Perplexity\")\n",
    "plt.legend()\n",
    "plt.show()\n"
   ]
  },
  {
   "cell_type": "code",
   "execution_count": 101,
   "metadata": {},
   "outputs": [],
   "source": [
    "def measure_token_generation_speed(model, tokenizer, prompt, num_runs=10):\n",
    "    total_tokens = 0\n",
    "    start_time = time.time()\n",
    "    for _ in range(num_runs):\n",
    "        result = model.generate(\n",
    "            **tokenizer(prompt, return_tensors=\"pt\").to(model.device)\n",
    "        )\n",
    "        total_tokens += result.shape[-1]  # Number of tokens in the output\n",
    "    end_time = time.time()\n",
    "    avg_time = (end_time - start_time) / num_runs\n",
    "    tokens_per_second = total_tokens / (end_time - start_time)\n",
    "    return avg_time, tokens_per_second\n",
    "\n",
    "def measure_token_generation_speed_for_all_bits(model_id, group_size = 128):\n",
    "    avg_times = []\n",
    "    tokens_per_seconds = []\n",
    "    \n",
    "    prompt = \"Uncovering deep insights begins with\"\n",
    "\n",
    "    non_quant_model = GPTQModel.load(model_id, QuantizeConfig(bits=4, group_size=group_size))\n",
    "    tokenizer = AutoTokenizer.from_pretrained(model_id)\n",
    "    print(\"COMPUTING SPEED FOR NON QUANTIZED MODEL\")\n",
    "    nq_avg_time, nq_tokens_per_second = measure_token_generation_speed(non_quant_model, tokenizer, prompt)\n",
    "\n",
    "    for num_bits in [8, 4, 3, 2]:\n",
    "        print(f\"COMPUTING PERPLEXITY FOR {num_bits} BITS\")\n",
    "        quant_path = f\"Llama-3.2-1B-Instruct-gptqmodel-{num_bits}bit-{group_size}gs\"\n",
    "        model = GPTQModel.load(quant_path)\n",
    "        avg_time, tokens_per_second = measure_token_generation_speed(model, tokenizer, prompt)\n",
    "        avg_times.append(avg_time)\n",
    "        tokens_per_seconds.append(tokens_per_second)\n",
    "    \n",
    "    \n",
    "    return nq_avg_time, nq_tokens_per_second, avg_times, tokens_per_seconds\n",
    "\n",
    "def print_speedup(nq_avg_time, nq_tokens_per_second, avg_times, tokens_per_seconds):\n",
    "    ppl_legend = {\n",
    "        3: '2 bits',\n",
    "        2: '3 bits',\n",
    "        1: '4 bits',\n",
    "        0: '8 bits',\n",
    "    }\n",
    "\n",
    "    speedups = []\n",
    "    print(f\"Non-quantized model average inference time: {nq_avg_time:.4f} seconds per generation\")\n",
    "    print(f\"Tokens per second for non quantized model: {nq_tokens_per_second:.2f}\")\n",
    "\n",
    "    speedups.append(1)\n",
    "    for i in range(len(avg_times)):\n",
    "        print(f\"CONSIDERING MODEL QUANTIZED WITH {ppl_legend[i]}\")\n",
    "        print(f\"model average inference time: {avg_times[i]:.4f} seconds per generation\")\n",
    "        print(f\"Speedup is : {nq_avg_time / avg_times[i]:.2f} times\")\n",
    "        print(f\"Tokens per second for non quantized model: {tokens_per_seconds[i]:.2f}\")\n",
    "        speedups.append(nq_avg_time / avg_times[i])\n",
    "\n",
    "    configurations = [\"nq\", \"8-bit\", \"4-bit\", \"3-bit\", \"2-bit\"]\n",
    "\n",
    "    plt.plot(configurations, speedups, marker='o', color='orange')\n",
    "    plt.ylabel(\"Speedup Factor\")\n",
    "    plt.title(\"Speedup Factor Across Quantization Levels\")\n",
    "    plt.show()\n",
    "\n",
    "    return speedups"
   ]
  },
  {
   "cell_type": "code",
   "execution_count": 102,
   "metadata": {},
   "outputs": [
    {
     "name": "stderr",
     "output_type": "stream",
     "text": [
      "Setting `pad_token_id` to `eos_token_id`:128001 for open-end generation.\n"
     ]
    },
    {
     "name": "stdout",
     "output_type": "stream",
     "text": [
      "COMPUTING SPEED FOR NON QUANTIZED MODEL\n"
     ]
    },
    {
     "name": "stderr",
     "output_type": "stream",
     "text": [
      "Setting `pad_token_id` to `eos_token_id`:128001 for open-end generation.\n",
      "Setting `pad_token_id` to `eos_token_id`:128001 for open-end generation.\n",
      "Setting `pad_token_id` to `eos_token_id`:128001 for open-end generation.\n",
      "Setting `pad_token_id` to `eos_token_id`:128001 for open-end generation.\n",
      "Setting `pad_token_id` to `eos_token_id`:128001 for open-end generation.\n",
      "Setting `pad_token_id` to `eos_token_id`:128001 for open-end generation.\n",
      "Setting `pad_token_id` to `eos_token_id`:128001 for open-end generation.\n",
      "Setting `pad_token_id` to `eos_token_id`:128001 for open-end generation.\n",
      "Setting `pad_token_id` to `eos_token_id`:128001 for open-end generation.\n"
     ]
    },
    {
     "name": "stdout",
     "output_type": "stream",
     "text": [
      "COMPUTING PERPLEXITY FOR 8 BITS\n"
     ]
    },
    {
     "name": "stderr",
     "output_type": "stream",
     "text": [
      "INFO - Compatibility: converting `checkpoint_format` from `gptq` to `gptq_v2`.\n",
      "Setting `pad_token_id` to `eos_token_id`:128001 for open-end generation.\n",
      "Setting `pad_token_id` to `eos_token_id`:128001 for open-end generation.\n",
      "Setting `pad_token_id` to `eos_token_id`:128001 for open-end generation.\n",
      "Setting `pad_token_id` to `eos_token_id`:128001 for open-end generation.\n",
      "Setting `pad_token_id` to `eos_token_id`:128001 for open-end generation.\n",
      "Setting `pad_token_id` to `eos_token_id`:128001 for open-end generation.\n",
      "Setting `pad_token_id` to `eos_token_id`:128001 for open-end generation.\n",
      "Setting `pad_token_id` to `eos_token_id`:128001 for open-end generation.\n",
      "Setting `pad_token_id` to `eos_token_id`:128001 for open-end generation.\n",
      "Setting `pad_token_id` to `eos_token_id`:128001 for open-end generation.\n"
     ]
    },
    {
     "name": "stdout",
     "output_type": "stream",
     "text": [
      "COMPUTING PERPLEXITY FOR 4 BITS\n"
     ]
    },
    {
     "name": "stderr",
     "output_type": "stream",
     "text": [
      "INFO - Compatibility: converting `checkpoint_format` from `gptq` to `gptq_v2`.\n",
      "Setting `pad_token_id` to `eos_token_id`:128001 for open-end generation.\n",
      "Setting `pad_token_id` to `eos_token_id`:128001 for open-end generation.\n",
      "Setting `pad_token_id` to `eos_token_id`:128001 for open-end generation.\n",
      "Setting `pad_token_id` to `eos_token_id`:128001 for open-end generation.\n",
      "Setting `pad_token_id` to `eos_token_id`:128001 for open-end generation.\n",
      "Setting `pad_token_id` to `eos_token_id`:128001 for open-end generation.\n",
      "Setting `pad_token_id` to `eos_token_id`:128001 for open-end generation.\n",
      "Setting `pad_token_id` to `eos_token_id`:128001 for open-end generation.\n",
      "Setting `pad_token_id` to `eos_token_id`:128001 for open-end generation.\n",
      "Setting `pad_token_id` to `eos_token_id`:128001 for open-end generation.\n"
     ]
    },
    {
     "name": "stdout",
     "output_type": "stream",
     "text": [
      "COMPUTING PERPLEXITY FOR 3 BITS\n"
     ]
    },
    {
     "name": "stderr",
     "output_type": "stream",
     "text": [
      "INFO - Compatibility: converting `checkpoint_format` from `gptq` to `gptq_v2`.\n",
      "Setting `pad_token_id` to `eos_token_id`:128001 for open-end generation.\n",
      "Setting `pad_token_id` to `eos_token_id`:128001 for open-end generation.\n",
      "Setting `pad_token_id` to `eos_token_id`:128001 for open-end generation.\n",
      "Setting `pad_token_id` to `eos_token_id`:128001 for open-end generation.\n",
      "Setting `pad_token_id` to `eos_token_id`:128001 for open-end generation.\n",
      "Setting `pad_token_id` to `eos_token_id`:128001 for open-end generation.\n",
      "Setting `pad_token_id` to `eos_token_id`:128001 for open-end generation.\n",
      "Setting `pad_token_id` to `eos_token_id`:128001 for open-end generation.\n",
      "Setting `pad_token_id` to `eos_token_id`:128001 for open-end generation.\n",
      "Setting `pad_token_id` to `eos_token_id`:128001 for open-end generation.\n"
     ]
    },
    {
     "name": "stdout",
     "output_type": "stream",
     "text": [
      "COMPUTING PERPLEXITY FOR 2 BITS\n"
     ]
    },
    {
     "name": "stderr",
     "output_type": "stream",
     "text": [
      "INFO - Compatibility: converting `checkpoint_format` from `gptq` to `gptq_v2`.\n",
      "Setting `pad_token_id` to `eos_token_id`:128001 for open-end generation.\n",
      "Setting `pad_token_id` to `eos_token_id`:128001 for open-end generation.\n",
      "Setting `pad_token_id` to `eos_token_id`:128001 for open-end generation.\n",
      "Setting `pad_token_id` to `eos_token_id`:128001 for open-end generation.\n",
      "Setting `pad_token_id` to `eos_token_id`:128001 for open-end generation.\n",
      "Setting `pad_token_id` to `eos_token_id`:128001 for open-end generation.\n",
      "Setting `pad_token_id` to `eos_token_id`:128001 for open-end generation.\n",
      "Setting `pad_token_id` to `eos_token_id`:128001 for open-end generation.\n",
      "Setting `pad_token_id` to `eos_token_id`:128001 for open-end generation.\n",
      "Setting `pad_token_id` to `eos_token_id`:128001 for open-end generation.\n"
     ]
    }
   ],
   "source": [
    "nq_avg_time, nq_tokens_per_second, avg_times, tokens_per_seconds = measure_token_generation_speed_for_all_bits(model_id)"
   ]
  },
  {
   "cell_type": "code",
   "execution_count": 103,
   "metadata": {},
   "outputs": [
    {
     "name": "stdout",
     "output_type": "stream",
     "text": [
      "Non-quantized model average inference time: 2.3935 seconds per generation\n",
      "Tokens per second for non quantized model: 11.28\n",
      "CONSIDERING MODEL QUANTIZED WITH 8 bits\n",
      "model average inference time: 0.8288 seconds per generation\n",
      "Speedup is : 2.89 times\n",
      "Tokens per second for non quantized model: 32.58\n",
      "CONSIDERING MODEL QUANTIZED WITH 4 bits\n",
      "model average inference time: 0.8241 seconds per generation\n",
      "Speedup is : 2.90 times\n",
      "Tokens per second for non quantized model: 32.76\n",
      "CONSIDERING MODEL QUANTIZED WITH 3 bits\n",
      "model average inference time: 1.1447 seconds per generation\n",
      "Speedup is : 2.09 times\n",
      "Tokens per second for non quantized model: 23.59\n",
      "CONSIDERING MODEL QUANTIZED WITH 2 bits\n",
      "model average inference time: 0.7245 seconds per generation\n",
      "Speedup is : 3.30 times\n",
      "Tokens per second for non quantized model: 37.27\n"
     ]
    },
    {
     "data": {
      "image/png": "[encoded data removed]",
      "text/plain": [
       "<Figure size 640x480 with 1 Axes>"
      ]
     },
     "metadata": {},
     "output_type": "display_data"
    }
   ],
   "source": [
    "speedups = print_speedup(nq_avg_time, nq_tokens_per_second, avg_times, tokens_per_seconds)"
   ]
  },
  {
   "cell_type": "code",
   "execution_count": null,
   "metadata": {},
   "outputs": [
    {
     "name": "stderr",
     "output_type": "stream",
     "text": [
      "Setting `pad_token_id` to `eos_token_id`:128001 for open-end generation.\n"
     ]
    },
    {
     "name": "stdout",
     "output_type": "stream",
     "text": [
      "Measuring token generation speed for non-quantized model...\n"
     ]
    },
    {
     "name": "stderr",
     "output_type": "stream",
     "text": [
      "Setting `pad_token_id` to `eos_token_id`:128001 for open-end generation.\n",
      "Setting `pad_token_id` to `eos_token_id`:128001 for open-end generation.\n",
      "Setting `pad_token_id` to `eos_token_id`:128001 for open-end generation.\n",
      "Setting `pad_token_id` to `eos_token_id`:128001 for open-end generation.\n",
      "Setting `pad_token_id` to `eos_token_id`:128001 for open-end generation.\n",
      "Setting `pad_token_id` to `eos_token_id`:128001 for open-end generation.\n",
      "Setting `pad_token_id` to `eos_token_id`:128001 for open-end generation.\n",
      "Setting `pad_token_id` to `eos_token_id`:128001 for open-end generation.\n",
      "Setting `pad_token_id` to `eos_token_id`:128001 for open-end generation.\n",
      "Setting `pad_token_id` to `eos_token_id`:128001 for open-end generation.\n"
     ]
    },
    {
     "name": "stdout",
     "output_type": "stream",
     "text": [
      "Non-quantized model: 11.40 tokens/second\n",
      "Non-quantized avg time: 2.37\n"
     ]
    },
    {
     "name": "stderr",
     "output_type": "stream",
     "text": [
      "Setting `pad_token_id` to `eos_token_id`:128001 for open-end generation.\n",
      "Setting `pad_token_id` to `eos_token_id`:128001 for open-end generation.\n",
      "Setting `pad_token_id` to `eos_token_id`:128001 for open-end generation.\n",
      "Setting `pad_token_id` to `eos_token_id`:128001 for open-end generation.\n",
      "Setting `pad_token_id` to `eos_token_id`:128001 for open-end generation.\n",
      "Setting `pad_token_id` to `eos_token_id`:128001 for open-end generation.\n",
      "Setting `pad_token_id` to `eos_token_id`:128001 for open-end generation.\n",
      "Setting `pad_token_id` to `eos_token_id`:128001 for open-end generation.\n",
      "Setting `pad_token_id` to `eos_token_id`:128001 for open-end generation.\n"
     ]
    },
    {
     "name": "stdout",
     "output_type": "stream",
     "text": [
      "Non-quantized model: 36.97 tokens/second\n",
      "Quantized avg time: 0.73\n",
      "Speed improvement (quantized vs non-quantized): 3.24x faster\n"
     ]
    }
   ],
   "source": [
    "# Measure token generation speed\n",
    "print(\"Measuring token generation speed for non-quantized model...\")\n",
    "non_quantized_avg_time, non_quantized_tokens_per_sec = measure_token_generation_speed(non_quantized_model, tokenizer, \"Uncovering deep insights begins with\")\n",
    "print(f\"Non-quantized model: {non_quantized_tokens_per_sec:.2f} tokens/second\")\n",
    "print(f\"Non-quantized avg time: {non_quantized_avg_time:.2f}\")\n",
    "\n",
    "quantized_avg_time, quantized_tokens_per_sec = measure_token_generation_speed(quantized_model, tokenizer, \"Uncovering deep insights begins with\")\n",
    "print(f\"Non-quantized model: {quantized_tokens_per_sec:.2f} tokens/second\")\n",
    "print(f\"Quantized avg time: {quantized_avg_time:.2f}\")\n",
    "\n",
    "print(f\"Speed improvement (quantized vs non-quantized): {non_quantized_avg_time / quantized_avg_time:.2f}x faster\")"
   ]
  },
  {
   "cell_type": "code",
   "execution_count": null,
   "metadata": {},
   "outputs": [],
   "source": [
    "def measure_token_generation_speed(model, tokenizer, prompt, num_runs=10):\n",
    "    total_tokens = 0\n",
    "    start_time = time.time()\n",
    "    for _ in range(num_runs):\n",
    "        result = model.generate(\n",
    "            **tokenizer(prompt, return_tensors=\"pt\").to(model.device)\n",
    "        )\n",
    "        total_tokens += result.shape[-1]  # Number of tokens in the output\n",
    "    end_time = time.time()\n",
    "    avg_time = (end_time - start_time) / num_runs\n",
    "    tokens_per_second = total_tokens / (end_time - start_time)\n",
    "    return avg_time, tokens_per_second\n",
    "\n"
   ]
  },
  {
   "cell_type": "markdown",
   "metadata": {},
   "source": [
    "### MEMORY CONSUMPTION STILL DOESN'T WORK!"
   ]
  },
  {
   "cell_type": "code",
   "execution_count": null,
   "metadata": {},
   "outputs": [
    {
     "name": "stderr",
     "output_type": "stream",
     "text": [
      "INFO - Compatibility: converting `checkpoint_format` from `gptq` to `gptq_v2`.\n"
     ]
    },
    {
     "name": "stdout",
     "output_type": "stream",
     "text": [
      "\n",
      "Memory for 2-bit Quantized Model:\n",
      "Total Parameters: 262735872\n",
      "Total Model Memory: 65.68 MB\n",
      "\n",
      "Memory for 3-bit Quantized Model:\n",
      "Total Parameters: 262735872\n",
      "Total Model Memory: 98.53 MB\n",
      "\n",
      "Memory for 4-bit Quantized Model:\n",
      "Total Parameters: 262735872\n",
      "Total Model Memory: 131.37 MB\n",
      "\n",
      "Memory for 8-bit Quantized Model:\n",
      "Total Parameters: 262735872\n",
      "Total Model Memory: 262.74 MB\n",
      "\n",
      "Memory for 32-bit Quantized Model:\n",
      "Total Parameters: 262735872\n",
      "Total Model Memory: 1050.94 MB\n"
     ]
    }
   ],
   "source": [
    "def compute_theoretical_model_memory_quantized(model, bit_width):\n",
    "    # Bytes per parameter for the given bit-width\n",
    "    bytes_per_param = bit_width / 8.0\n",
    "\n",
    "    total_params = 0\n",
    "    total_memory = 0\n",
    "\n",
    "    for name, param in model.named_parameters():\n",
    "        num_params = param.numel()  # Total number of parameters\n",
    "        layer_memory = num_params * bytes_per_param\n",
    "        total_params += num_params\n",
    "        total_memory += layer_memory\n",
    "        #print(f\"Layer: {name}, Parameters: {num_params}, Memory: {layer_memory / 1e6:.2f} MB\")\n",
    "\n",
    "    #print(f\"\\nQuantization Bit-Width: {bit_width}-bit\")\n",
    "    print(f\"Total Parameters: {total_params}\")\n",
    "    print(f\"Total Model Memory: {total_memory / 1e6:.2f} MB\")\n",
    "    return total_params, total_memory\n",
    "\n",
    "# Example usage for different bit-width quantizations\n",
    "quantized_model = GPTQModel.load(quant_path)\n",
    "\n",
    "for bit_width in [2, 3, 4, 8, 32]:\n",
    "    print(f\"\\nMemory for {bit_width}-bit Quantized Model:\")\n",
    "    compute_theoretical_model_memory_quantized(quantized_model, bit_width)"
   ]
  },
  {
   "cell_type": "code",
   "execution_count": 19,
   "metadata": {},
   "outputs": [
    {
     "name": "stderr",
     "output_type": "stream",
     "text": [
      "Setting `pad_token_id` to `eos_token_id`:128001 for open-end generation.\n"
     ]
    },
    {
     "name": "stdout",
     "output_type": "stream",
     "text": [
      "Measuring memory usage for non-quantized model...\n"
     ]
    },
    {
     "name": "stderr",
     "output_type": "stream",
     "text": [
      "Setting `pad_token_id` to `eos_token_id`:128001 for open-end generation.\n"
     ]
    },
    {
     "name": "stdout",
     "output_type": "stream",
     "text": [
      "Non-quantized model memory usage: 993.64 MB\n",
      "quantized model memory usage: 995.92 MB\n",
      "Memory footprint saved: 0.9977035309437439 x less\n"
     ]
    }
   ],
   "source": [
    "import torch\n",
    "\n",
    "# Function to measure memory consumption during inference\n",
    "def measure_memory_usage(model, tokenizer, prompt):\n",
    "    torch.cuda.reset_peak_memory_stats()  # Reset memory stats\n",
    "    inputs = tokenizer(prompt, return_tensors=\"pt\").to(model.device)\n",
    "    with torch.no_grad():\n",
    "        model.generate(**inputs)\n",
    "    memory_usage = torch.cuda.max_memory_allocated() / (1024 ** 2)  # Convert to MB\n",
    "    return memory_usage\n",
    "\n",
    "# Measure memory usage\n",
    "print(\"Measuring memory usage for non-quantized model...\")\n",
    "non_quantized_memory = measure_memory_usage(non_quantized_model, tokenizer, \"Uncovering deep insights begins with\")\n",
    "print(f\"Non-quantized model memory usage: {non_quantized_memory:.2f} MB\")\n",
    "quantized_memory = measure_memory_usage(quantized_model, tokenizer, \"Uncovering deep insights begins with\")\n",
    "print(f\"Quantized model memory usage: {quantized_memory:.2f} MB\")\n",
    "\n",
    "print(f\"Memory footprint saved: {non_quantized_memory / quantized_memory} x less\")"
   ]
  },
  {
   "cell_type": "code",
   "execution_count": 75,
   "metadata": {},
   "outputs": [],
   "source": [
    "def measure_memory_footprint(model):\n",
    "    # Clear unused memory and collect garbage\n",
    "    torch.cuda.empty_cache()\n",
    "    gc.collect()\n",
    "    \n",
    "    # Measure memory before and after loading the model\n",
    "    memory_before = torch.cuda.memory_allocated()\n",
    "    \n",
    "    # Move model to GPU and synchronize to ensure accurate measurement\n",
    "    model.to(\"cuda\")\n",
    "    torch.cuda.synchronize()\n",
    "    memory_after = torch.cuda.memory_allocated()\n",
    "    \n",
    "    # Calculate difference\n",
    "    memory_footprint = memory_after - memory_before\n",
    "    \n",
    "    return memory_footprint / (1024 ** 2)  # Convert to MB\n"
   ]
  },
  {
   "cell_type": "code",
   "execution_count": 77,
   "metadata": {},
   "outputs": [
    {
     "name": "stdout",
     "output_type": "stream",
     "text": [
      "Non-quantized model memory footprint: 0.00 MB\n"
     ]
    },
    {
     "name": "stderr",
     "output_type": "stream",
     "text": [
      "INFO - Compatibility: converting `checkpoint_format` from `gptq` to `gptq_v2`.\n"
     ]
    },
    {
     "name": "stdout",
     "output_type": "stream",
     "text": [
      "Quantized model memory footprint: 0.00 MB\n"
     ]
    }
   ],
   "source": [
    "# Measure memory footprint for non-quantized model\n",
    "non_quantized_memory = measure_memory_footprint(non_quantized_model)\n",
    "print(f\"Non-quantized model memory footprint: {non_quantized_memory:.2f} MB\")\n",
    "\n",
    "# Measure memory footprint for quantized model\n",
    "quant_path = f\"Llama-3.2-1B-Instruct-gptqmodel-2bit-128gs\"\n",
    "model = GPTQModel.load(quant_path)\n",
    "quantized_memory = measure_memory_footprint(model)\n",
    "print(f\"Quantized model memory footprint: {quantized_memory:.2f} MB\")"
   ]
  },
  {
   "cell_type": "code",
   "execution_count": null,
   "metadata": {},
   "outputs": [
    {
     "data": {
      "application/vnd.jupyter.widget-view+json": {
       "model_id": "06f085af7a274ae0801cff70f107e75b",
       "version_major": 2,
       "version_minor": 0
      },
      "text/plain": [
       "Resolving data files:   0%|          | 0/1024 [00:00<?, ?it/s]"
      ]
     },
     "metadata": {},
     "output_type": "display_data"
    },
    {
     "data": {
      "application/vnd.jupyter.widget-view+json": {
       "model_id": "def3998fd2f94956b1a406a2fb727b1c",
       "version_major": 2,
       "version_minor": 0
      },
      "text/plain": [
       "Resolving data files:   0%|          | 0/1024 [00:00<?, ?it/s]"
      ]
     },
     "metadata": {},
     "output_type": "display_data"
    },
    {
     "data": {
      "application/vnd.jupyter.widget-view+json": {
       "model_id": "21866a1e51b04dc78d7a14891af36215",
       "version_major": 2,
       "version_minor": 0
      },
      "text/plain": [
       "Downloading data:   0%|          | 0/1024 [00:00<?, ?files/s]"
      ]
     },
     "metadata": {},
     "output_type": "display_data"
    },
    {
     "data": {
      "application/vnd.jupyter.widget-view+json": {
       "model_id": "0948ed72b8f740d9b2346a0c18a04025",
       "version_major": 2,
       "version_minor": 0
      },
      "text/plain": [
       "c4-train.00000-of-01024.json.gz:   0%|          | 0.00/319M [00:00<?, ?B/s]"
      ]
     },
     "metadata": {},
     "output_type": "display_data"
    },
    {
     "name": "stderr",
     "output_type": "stream",
     "text": [
      "c:\\Users\\galfanol\\AppData\\Local\\Programs\\Python\\Python312\\Lib\\site-packages\\huggingface_hub\\file_download.py:140: UserWarning: `huggingface_hub` cache-system uses symlinks by default to efficiently store duplicated files but your machine does not support them in C:\\Users\\galfanol\\.cache\\huggingface\\hub\\datasets--allenai--c4. Caching files will still work but in a degraded version that might require more space on your disk. This warning can be disabled by setting the `HF_HUB_DISABLE_SYMLINKS_WARNING` environment variable. For more details, see https://huggingface.co/docs/huggingface_hub/how-to-cache#limitations.\n",
      "To support symlinks on Windows, you either need to activate Developer Mode or to run Python as an administrator. In order to activate developer mode, see this article: https://docs.microsoft.com/en-us/windows/apps/get-started/enable-your-device-for-development\n",
      "  warnings.warn(message)\n"
     ]
    },
    {
     "data": {
      "application/vnd.jupyter.widget-view+json": {
       "model_id": "4f0c45bdb00548f7a35910823ca69074",
       "version_major": 2,
       "version_minor": 0
      },
      "text/plain": [
       "c4-train.00002-of-01024.json.gz:   0%|          | 0.00/320M [00:00<?, ?B/s]"
      ]
     },
     "metadata": {},
     "output_type": "display_data"
    },
    {
     "data": {
      "application/vnd.jupyter.widget-view+json": {
       "model_id": "82a49d9378cc4b7d9b1a9af2f98e2747",
       "version_major": 2,
       "version_minor": 0
      },
      "text/plain": [
       "c4-train.00003-of-01024.json.gz:   0%|          | 0.00/319M [00:00<?, ?B/s]"
      ]
     },
     "metadata": {},
     "output_type": "display_data"
    },
    {
     "data": {
      "application/vnd.jupyter.widget-view+json": {
       "model_id": "4be57404be7447beb7611b2e987bfeff",
       "version_major": 2,
       "version_minor": 0
      },
      "text/plain": [
       "c4-train.00004-of-01024.json.gz:   0%|          | 0.00/319M [00:00<?, ?B/s]"
      ]
     },
     "metadata": {},
     "output_type": "display_data"
    },
    {
     "data": {
      "application/vnd.jupyter.widget-view+json": {
       "model_id": "7da3030ee1b142e68cf2ac74e12eebd6",
       "version_major": 2,
       "version_minor": 0
      },
      "text/plain": [
       "c4-train.00005-of-01024.json.gz:   0%|          | 0.00/318M [00:00<?, ?B/s]"
      ]
     },
     "metadata": {},
     "output_type": "display_data"
    },
    {
     "data": {
      "application/vnd.jupyter.widget-view+json": {
       "model_id": "4d4373275ecf43689bc8922df7c634cb",
       "version_major": 2,
       "version_minor": 0
      },
      "text/plain": [
       "c4-train.00006-of-01024.json.gz:   0%|          | 0.00/318M [00:00<?, ?B/s]"
      ]
     },
     "metadata": {},
     "output_type": "display_data"
    },
    {
     "data": {
      "application/vnd.jupyter.widget-view+json": {
       "model_id": "8ba7976832f6471b989d89023b5ba43f",
       "version_major": 2,
       "version_minor": 0
      },
      "text/plain": [
       "c4-train.00007-of-01024.json.gz:   0%|          | 0.00/318M [00:00<?, ?B/s]"
      ]
     },
     "metadata": {},
     "output_type": "display_data"
    },
    {
     "data": {
      "application/vnd.jupyter.widget-view+json": {
       "model_id": "f090c7f941b04b46b7b7e28c105d88e0",
       "version_major": 2,
       "version_minor": 0
      },
      "text/plain": [
       "c4-train.00008-of-01024.json.gz:   0%|          | 0.00/318M [00:00<?, ?B/s]"
      ]
     },
     "metadata": {},
     "output_type": "display_data"
    },
    {
     "data": {
      "application/vnd.jupyter.widget-view+json": {
       "model_id": "0c096bcfadc44b26bad3a371d79715a0",
       "version_major": 2,
       "version_minor": 0
      },
      "text/plain": [
       "c4-train.00009-of-01024.json.gz:   0%|          | 0.00/318M [00:00<?, ?B/s]"
      ]
     },
     "metadata": {},
     "output_type": "display_data"
    },
    {
     "data": {
      "application/vnd.jupyter.widget-view+json": {
       "model_id": "584448cab5684787a38c5c943639a5eb",
       "version_major": 2,
       "version_minor": 0
      },
      "text/plain": [
       "c4-train.00010-of-01024.json.gz:   0%|          | 0.00/319M [00:00<?, ?B/s]"
      ]
     },
     "metadata": {},
     "output_type": "display_data"
    },
    {
     "data": {
      "application/vnd.jupyter.widget-view+json": {
       "model_id": "2bb97a55883d43a590216e27cf8040a6",
       "version_major": 2,
       "version_minor": 0
      },
      "text/plain": [
       "c4-train.00011-of-01024.json.gz:   0%|          | 0.00/320M [00:00<?, ?B/s]"
      ]
     },
     "metadata": {},
     "output_type": "display_data"
    },
    {
     "data": {
      "application/vnd.jupyter.widget-view+json": {
       "model_id": "927ffda3da9949f1874b6c4b5d20433e",
       "version_major": 2,
       "version_minor": 0
      },
      "text/plain": [
       "c4-train.00012-of-01024.json.gz:   0%|          | 0.00/320M [00:00<?, ?B/s]"
      ]
     },
     "metadata": {},
     "output_type": "display_data"
    },
    {
     "data": {
      "application/vnd.jupyter.widget-view+json": {
       "model_id": "ac71f11376b94b8f8d3528591b294f2d",
       "version_major": 2,
       "version_minor": 0
      },
      "text/plain": [
       "c4-train.00013-of-01024.json.gz:   0%|          | 0.00/319M [00:00<?, ?B/s]"
      ]
     },
     "metadata": {},
     "output_type": "display_data"
    },
    {
     "data": {
      "application/vnd.jupyter.widget-view+json": {
       "model_id": "1d3b8ac725b840499a3d945802671d71",
       "version_major": 2,
       "version_minor": 0
      },
      "text/plain": [
       "c4-train.00014-of-01024.json.gz:   0%|          | 0.00/320M [00:00<?, ?B/s]"
      ]
     },
     "metadata": {},
     "output_type": "display_data"
    }
   ],
   "source": [
    "c4_dataset = load_dataset(\"allenai/c4\", name=\"en\", split=\"train\")"
   ]
  }
 ],
 "metadata": {
  "kernelspec": {
   "display_name": "Python 3",
   "language": "python",
   "name": "python3"
  },
  "language_info": {
   "codemirror_mode": {
    "name": "ipython",
    "version": 3
   },
   "file_extension": ".py",
   "mimetype": "text/x-python",
   "name": "python",
   "nbconvert_exporter": "python",
   "pygments_lexer": "ipython3",
   "version": "3.11.9"
  }
 },
 "nbformat": 4,
 "nbformat_minor": 2
}
